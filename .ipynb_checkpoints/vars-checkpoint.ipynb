{
 "cells": [
  {
   "cell_type": "markdown",
   "metadata": {},
   "source": [
    "List of Good Variables:\n"
   ]
  },
  {
   "cell_type": "code",
   "execution_count": 3,
   "metadata": {},
   "outputs": [],
   "source": [
    "f = [\"Overall Qual\",'Gr Liv Area','Garage Area','Garage Cars','Total Bsmt SF',\n",
    "            '1st Flr SF','Year Built','Garage Yr Blt','Full Bath','Year Remod/Add',\n",
    "            'TotRms AbvGrd','Mas Vnr Area','Fireplaces','BsmtFin SF 1',\n",
    " 'Lot Frontage','Lot Area', 'Lot Shape','Neighborhood',\n",
    "'Overall Cond','Mas Vnr Type','Exter Qual','Exter Cond','Bsmt Qual','Bsmt Cond','BsmtFin Type 1','Heating',\n",
    "'Heating QC','Central Air','Fireplace Qu','Garage Type','Garage Qual','Garage Cond','Lot Config']"
   ]
  },
  {
   "cell_type": "code",
   "execution_count": 4,
   "metadata": {},
   "outputs": [
    {
     "data": {
      "text/plain": [
       "32"
      ]
     },
     "execution_count": 4,
     "metadata": {},
     "output_type": "execute_result"
    }
   ],
   "source": [
    "len(f)"
   ]
  },
  {
   "cell_type": "markdown",
   "metadata": {},
   "source": [
    "'Mas Vnr Type' * 'Mas Vnr Area', Lot Shape * Lot Area, Overall Qual * Overall Cond, Year Built * Overall Cond, Overall Qual * Exter Qual, Bsmt Qual * Overall Qual, Bsmt Cond * Overall Cond, BsmtFin SF 1 * BsmtFin Type 1, Fireplace * Fireplace Qu,"
   ]
  },
  {
   "cell_type": "markdown",
   "metadata": {},
   "source": [
    "non numeric columns:  'Lot Shape','Neighborhood',\n",
    "'Overall Cond','Mas Vnr Type','Exter Qual','Exter Cond','Bsmt Qual','Bsmt Cond','BsmtFin Type 1','Heating',\n",
    "'Heating QC','Central Air','Fireplace Qu','Garage Type','Garage Qual','Garage Cond',Lot Config"
   ]
  },
  {
   "cell_type": "markdown",
   "metadata": {},
   "source": [
    "Ordinal : 'Lot Shape', Exter Qual, Exter Cond, Bsmt Qual, Bsmt Cond, BsmtFin Type 1, Heating QC, Fireplace Qu, 'Garage Qual','Garage Cond'"
   ]
  },
  {
   "cell_type": "markdown",
   "metadata": {},
   "source": [
    "Nominal: 'Neighborhood', Mas Vnr Type, Heating, Central Air, Garage Type, Lot Config"
   ]
  },
  {
   "cell_type": "markdown",
   "metadata": {},
   "source": [
    "only columns with NAP should be : Bsmt, fireplace, garage "
   ]
  }
 ],
 "metadata": {
  "kernelspec": {
   "display_name": "Python 3",
   "language": "python",
   "name": "python3"
  },
  "language_info": {
   "codemirror_mode": {
    "name": "ipython",
    "version": 3
   },
   "file_extension": ".py",
   "mimetype": "text/x-python",
   "name": "python",
   "nbconvert_exporter": "python",
   "pygments_lexer": "ipython3",
   "version": "3.8.5"
  }
 },
 "nbformat": 4,
 "nbformat_minor": 4
}
