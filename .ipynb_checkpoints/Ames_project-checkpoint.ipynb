{
 "cells": [
  {
   "cell_type": "markdown",
   "metadata": {},
   "source": [
    "## Imports\n"
   ]
  },
  {
   "cell_type": "code",
   "execution_count": 138,
   "metadata": {},
   "outputs": [],
   "source": [
    "# loads in neccissary packages\n",
    "import numpy as np\n",
    "import pandas as pd\n",
    "import matplotlib.pyplot as plt\n",
    "import seaborn as sns\n",
    "\n",
    "from sklearn.linear_model import LinearRegression, Ridge, RidgeCV, LogisticRegression, LogisticRegressionCV, Lasso, LassoCV\n",
    "from sklearn import metrics\n",
    "from sklearn.model_selection import train_test_split,cross_val_predict,cross_val_score,GridSearchCV\n",
    "from sklearn.neighbors import KNeighborsRegressor\n",
    "from sklearn.preprocessing import StandardScaler,PolynomialFeatures\n",
    "from sklearn.pipeline import Pipeline"
   ]
  },
  {
   "cell_type": "code",
   "execution_count": 139,
   "metadata": {},
   "outputs": [],
   "source": [
    "# loads in train and test datasets\n",
    "train_df = pd.read_csv('./datasets/train.csv')\n",
    "\n",
    "test_df = pd.read_csv('./datasets/test.csv')\n",
    "index = test_df['Id']"
   ]
  },
  {
   "cell_type": "code",
   "execution_count": 409,
   "metadata": {},
   "outputs": [
    {
     "data": {
      "text/plain": [
       "Id                0\n",
       "PID               0\n",
       "MS SubClass       0\n",
       "MS Zoning         0\n",
       "Lot Frontage    160\n",
       "               ... \n",
       "Misc Feature    837\n",
       "Misc Val          0\n",
       "Mo Sold           0\n",
       "Yr Sold           0\n",
       "Sale Type         0\n",
       "Length: 80, dtype: int64"
      ]
     },
     "execution_count": 409,
     "metadata": {},
     "output_type": "execute_result"
    }
   ],
   "source": [
    "test_df.isnull().sum()"
   ]
  },
  {
   "cell_type": "code",
   "execution_count": 348,
   "metadata": {},
   "outputs": [
    {
     "data": {
      "text/html": [
       "<div>\n",
       "<style scoped>\n",
       "    .dataframe tbody tr th:only-of-type {\n",
       "        vertical-align: middle;\n",
       "    }\n",
       "\n",
       "    .dataframe tbody tr th {\n",
       "        vertical-align: top;\n",
       "    }\n",
       "\n",
       "    .dataframe thead th {\n",
       "        text-align: right;\n",
       "    }\n",
       "</style>\n",
       "<table border=\"1\" class=\"dataframe\">\n",
       "  <thead>\n",
       "    <tr style=\"text-align: right;\">\n",
       "      <th></th>\n",
       "      <th>Id</th>\n",
       "      <th>PID</th>\n",
       "      <th>MS SubClass</th>\n",
       "      <th>MS Zoning</th>\n",
       "      <th>Lot Frontage</th>\n",
       "      <th>Lot Area</th>\n",
       "      <th>Street</th>\n",
       "      <th>Alley</th>\n",
       "      <th>Lot Shape</th>\n",
       "      <th>Land Contour</th>\n",
       "      <th>...</th>\n",
       "      <th>Screen Porch</th>\n",
       "      <th>Pool Area</th>\n",
       "      <th>Pool QC</th>\n",
       "      <th>Fence</th>\n",
       "      <th>Misc Feature</th>\n",
       "      <th>Misc Val</th>\n",
       "      <th>Mo Sold</th>\n",
       "      <th>Yr Sold</th>\n",
       "      <th>Sale Type</th>\n",
       "      <th>SalePrice</th>\n",
       "    </tr>\n",
       "  </thead>\n",
       "  <tbody>\n",
       "    <tr>\n",
       "      <th>0</th>\n",
       "      <td>109</td>\n",
       "      <td>533352170</td>\n",
       "      <td>60</td>\n",
       "      <td>RL</td>\n",
       "      <td>NaN</td>\n",
       "      <td>13517</td>\n",
       "      <td>Pave</td>\n",
       "      <td>NaN</td>\n",
       "      <td>IR1</td>\n",
       "      <td>Lvl</td>\n",
       "      <td>...</td>\n",
       "      <td>0</td>\n",
       "      <td>0</td>\n",
       "      <td>NaN</td>\n",
       "      <td>NaN</td>\n",
       "      <td>NaN</td>\n",
       "      <td>0</td>\n",
       "      <td>3</td>\n",
       "      <td>2010</td>\n",
       "      <td>WD</td>\n",
       "      <td>130500</td>\n",
       "    </tr>\n",
       "    <tr>\n",
       "      <th>1</th>\n",
       "      <td>544</td>\n",
       "      <td>531379050</td>\n",
       "      <td>60</td>\n",
       "      <td>RL</td>\n",
       "      <td>43.0</td>\n",
       "      <td>11492</td>\n",
       "      <td>Pave</td>\n",
       "      <td>NaN</td>\n",
       "      <td>IR1</td>\n",
       "      <td>Lvl</td>\n",
       "      <td>...</td>\n",
       "      <td>0</td>\n",
       "      <td>0</td>\n",
       "      <td>NaN</td>\n",
       "      <td>NaN</td>\n",
       "      <td>NaN</td>\n",
       "      <td>0</td>\n",
       "      <td>4</td>\n",
       "      <td>2009</td>\n",
       "      <td>WD</td>\n",
       "      <td>220000</td>\n",
       "    </tr>\n",
       "    <tr>\n",
       "      <th>2</th>\n",
       "      <td>153</td>\n",
       "      <td>535304180</td>\n",
       "      <td>20</td>\n",
       "      <td>RL</td>\n",
       "      <td>68.0</td>\n",
       "      <td>7922</td>\n",
       "      <td>Pave</td>\n",
       "      <td>NaN</td>\n",
       "      <td>Reg</td>\n",
       "      <td>Lvl</td>\n",
       "      <td>...</td>\n",
       "      <td>0</td>\n",
       "      <td>0</td>\n",
       "      <td>NaN</td>\n",
       "      <td>NaN</td>\n",
       "      <td>NaN</td>\n",
       "      <td>0</td>\n",
       "      <td>1</td>\n",
       "      <td>2010</td>\n",
       "      <td>WD</td>\n",
       "      <td>109000</td>\n",
       "    </tr>\n",
       "    <tr>\n",
       "      <th>3</th>\n",
       "      <td>318</td>\n",
       "      <td>916386060</td>\n",
       "      <td>60</td>\n",
       "      <td>RL</td>\n",
       "      <td>73.0</td>\n",
       "      <td>9802</td>\n",
       "      <td>Pave</td>\n",
       "      <td>NaN</td>\n",
       "      <td>Reg</td>\n",
       "      <td>Lvl</td>\n",
       "      <td>...</td>\n",
       "      <td>0</td>\n",
       "      <td>0</td>\n",
       "      <td>NaN</td>\n",
       "      <td>NaN</td>\n",
       "      <td>NaN</td>\n",
       "      <td>0</td>\n",
       "      <td>4</td>\n",
       "      <td>2010</td>\n",
       "      <td>WD</td>\n",
       "      <td>174000</td>\n",
       "    </tr>\n",
       "    <tr>\n",
       "      <th>4</th>\n",
       "      <td>255</td>\n",
       "      <td>906425045</td>\n",
       "      <td>50</td>\n",
       "      <td>RL</td>\n",
       "      <td>82.0</td>\n",
       "      <td>14235</td>\n",
       "      <td>Pave</td>\n",
       "      <td>NaN</td>\n",
       "      <td>IR1</td>\n",
       "      <td>Lvl</td>\n",
       "      <td>...</td>\n",
       "      <td>0</td>\n",
       "      <td>0</td>\n",
       "      <td>NaN</td>\n",
       "      <td>NaN</td>\n",
       "      <td>NaN</td>\n",
       "      <td>0</td>\n",
       "      <td>3</td>\n",
       "      <td>2010</td>\n",
       "      <td>WD</td>\n",
       "      <td>138500</td>\n",
       "    </tr>\n",
       "  </tbody>\n",
       "</table>\n",
       "<p>5 rows × 81 columns</p>\n",
       "</div>"
      ],
      "text/plain": [
       "    Id        PID  MS SubClass MS Zoning  Lot Frontage  Lot Area Street Alley  \\\n",
       "0  109  533352170           60        RL           NaN     13517   Pave   NaN   \n",
       "1  544  531379050           60        RL          43.0     11492   Pave   NaN   \n",
       "2  153  535304180           20        RL          68.0      7922   Pave   NaN   \n",
       "3  318  916386060           60        RL          73.0      9802   Pave   NaN   \n",
       "4  255  906425045           50        RL          82.0     14235   Pave   NaN   \n",
       "\n",
       "  Lot Shape Land Contour  ... Screen Porch Pool Area Pool QC Fence  \\\n",
       "0       IR1          Lvl  ...            0         0     NaN   NaN   \n",
       "1       IR1          Lvl  ...            0         0     NaN   NaN   \n",
       "2       Reg          Lvl  ...            0         0     NaN   NaN   \n",
       "3       Reg          Lvl  ...            0         0     NaN   NaN   \n",
       "4       IR1          Lvl  ...            0         0     NaN   NaN   \n",
       "\n",
       "  Misc Feature Misc Val Mo Sold Yr Sold  Sale Type  SalePrice  \n",
       "0          NaN        0       3    2010        WD      130500  \n",
       "1          NaN        0       4    2009        WD      220000  \n",
       "2          NaN        0       1    2010        WD      109000  \n",
       "3          NaN        0       4    2010        WD      174000  \n",
       "4          NaN        0       3    2010        WD      138500  \n",
       "\n",
       "[5 rows x 81 columns]"
      ]
     },
     "execution_count": 348,
     "metadata": {},
     "output_type": "execute_result"
    }
   ],
   "source": [
    "# looks at top 5 rows of train dataframe\n",
    "train_df.head()"
   ]
  },
  {
   "cell_type": "markdown",
   "metadata": {},
   "source": [
    "## Data Cleaning"
   ]
  },
  {
   "cell_type": "code",
   "execution_count": 349,
   "metadata": {},
   "outputs": [
    {
     "data": {
      "text/plain": [
       "Index(['Id', 'PID', 'MS SubClass', 'MS Zoning', 'Lot Frontage', 'Lot Area',\n",
       "       'Street', 'Alley', 'Lot Shape', 'Land Contour', 'Utilities',\n",
       "       'Lot Config', 'Land Slope', 'Neighborhood', 'Condition 1',\n",
       "       'Condition 2', 'Bldg Type', 'House Style', 'Overall Qual',\n",
       "       'Overall Cond', 'Year Built', 'Year Remod/Add', 'Roof Style',\n",
       "       'Roof Matl', 'Exterior 1st', 'Exterior 2nd', 'Mas Vnr Type',\n",
       "       'Mas Vnr Area', 'Exter Qual', 'Exter Cond', 'Foundation', 'Bsmt Qual',\n",
       "       'Bsmt Cond', 'Bsmt Exposure', 'BsmtFin Type 1', 'BsmtFin SF 1',\n",
       "       'BsmtFin Type 2', 'BsmtFin SF 2', 'Bsmt Unf SF', 'Total Bsmt SF',\n",
       "       'Heating', 'Heating QC', 'Central Air', 'Electrical', '1st Flr SF',\n",
       "       '2nd Flr SF', 'Low Qual Fin SF', 'Gr Liv Area', 'Bsmt Full Bath',\n",
       "       'Bsmt Half Bath', 'Full Bath', 'Half Bath', 'Bedroom AbvGr',\n",
       "       'Kitchen AbvGr', 'Kitchen Qual', 'TotRms AbvGrd', 'Functional',\n",
       "       'Fireplaces', 'Fireplace Qu', 'Garage Type', 'Garage Yr Blt',\n",
       "       'Garage Finish', 'Garage Cars', 'Garage Area', 'Garage Qual',\n",
       "       'Garage Cond', 'Paved Drive', 'Wood Deck SF', 'Open Porch SF',\n",
       "       'Enclosed Porch', '3Ssn Porch', 'Screen Porch', 'Pool Area', 'Pool QC',\n",
       "       'Fence', 'Misc Feature', 'Misc Val', 'Mo Sold', 'Yr Sold', 'Sale Type',\n",
       "       'SalePrice'],\n",
       "      dtype='object')"
      ]
     },
     "execution_count": 349,
     "metadata": {},
     "output_type": "execute_result"
    }
   ],
   "source": [
    "# gives column names\n",
    "train_df.columns"
   ]
  },
  {
   "cell_type": "code",
   "execution_count": 350,
   "metadata": {},
   "outputs": [
    {
     "name": "stdout",
     "output_type": "stream",
     "text": [
      "[dtype('int64'), dtype('int64'), dtype('int64'), dtype('O'), dtype('float64'), dtype('int64'), dtype('O'), dtype('O'), dtype('O'), dtype('O'), dtype('O'), dtype('O'), dtype('O'), dtype('O'), dtype('O'), dtype('O'), dtype('O'), dtype('O'), dtype('int64'), dtype('int64'), dtype('int64'), dtype('int64'), dtype('O'), dtype('O'), dtype('O'), dtype('O'), dtype('O'), dtype('float64'), dtype('O'), dtype('O'), dtype('O'), dtype('O'), dtype('O'), dtype('O'), dtype('O'), dtype('float64'), dtype('O'), dtype('float64'), dtype('float64'), dtype('float64'), dtype('O'), dtype('O'), dtype('O'), dtype('O'), dtype('int64'), dtype('int64'), dtype('int64'), dtype('int64'), dtype('float64'), dtype('float64'), dtype('int64'), dtype('int64'), dtype('int64'), dtype('int64'), dtype('O'), dtype('int64'), dtype('O'), dtype('int64'), dtype('O'), dtype('O'), dtype('float64'), dtype('O'), dtype('float64'), dtype('float64'), dtype('O'), dtype('O'), dtype('O'), dtype('int64'), dtype('int64'), dtype('int64'), dtype('int64'), dtype('int64'), dtype('int64'), dtype('O'), dtype('O'), dtype('O'), dtype('int64'), dtype('int64'), dtype('int64'), dtype('O'), dtype('int64')]\n"
     ]
    }
   ],
   "source": [
    "print(list(train_df.dtypes))"
   ]
  },
  {
   "cell_type": "code",
   "execution_count": 351,
   "metadata": {},
   "outputs": [
    {
     "name": "stdout",
     "output_type": "stream",
     "text": [
      "[0, 0, 0, 0, 330, 0, 0, 1911, 0, 0, 0, 0, 0, 0, 0, 0, 0, 0, 0, 0, 0, 0, 0, 0, 0, 0, 22, 22, 0, 0, 0, 55, 55, 58, 55, 1, 56, 1, 1, 1, 0, 0, 0, 0, 0, 0, 0, 0, 2, 2, 0, 0, 0, 0, 0, 0, 0, 0, 1000, 113, 114, 114, 1, 1, 114, 114, 0, 0, 0, 0, 0, 0, 0, 2042, 1651, 1986, 0, 0, 0, 0, 0]\n"
     ]
    }
   ],
   "source": [
    "# checks for null values\n",
    "print(list(train_df.isnull().sum()))"
   ]
  },
  {
   "cell_type": "code",
   "execution_count": 424,
   "metadata": {},
   "outputs": [
    {
     "name": "stdout",
     "output_type": "stream",
     "text": [
      "<class 'pandas.core.frame.DataFrame'>\n",
      "RangeIndex: 2051 entries, 0 to 2050\n",
      "Data columns (total 81 columns):\n",
      " #   Column           Non-Null Count  Dtype  \n",
      "---  ------           --------------  -----  \n",
      " 0   Id               2051 non-null   int64  \n",
      " 1   PID              2051 non-null   int64  \n",
      " 2   MS SubClass      2051 non-null   int64  \n",
      " 3   MS Zoning        2051 non-null   object \n",
      " 4   Lot Frontage     1721 non-null   float64\n",
      " 5   Lot Area         2051 non-null   int64  \n",
      " 6   Street           2051 non-null   object \n",
      " 7   Alley            140 non-null    object \n",
      " 8   Lot Shape        2051 non-null   object \n",
      " 9   Land Contour     2051 non-null   object \n",
      " 10  Utilities        2051 non-null   object \n",
      " 11  Lot Config       2051 non-null   object \n",
      " 12  Land Slope       2051 non-null   object \n",
      " 13  Neighborhood     2051 non-null   object \n",
      " 14  Condition 1      2051 non-null   object \n",
      " 15  Condition 2      2051 non-null   object \n",
      " 16  Bldg Type        2051 non-null   object \n",
      " 17  House Style      2051 non-null   object \n",
      " 18  Overall Qual     2051 non-null   int64  \n",
      " 19  Overall Cond     2051 non-null   int64  \n",
      " 20  Year Built       2051 non-null   int64  \n",
      " 21  Year Remod/Add   2051 non-null   int64  \n",
      " 22  Roof Style       2051 non-null   object \n",
      " 23  Roof Matl        2051 non-null   object \n",
      " 24  Exterior 1st     2051 non-null   object \n",
      " 25  Exterior 2nd     2051 non-null   object \n",
      " 26  Mas Vnr Type     2029 non-null   object \n",
      " 27  Mas Vnr Area     2029 non-null   float64\n",
      " 28  Exter Qual       2051 non-null   object \n",
      " 29  Exter Cond       2051 non-null   object \n",
      " 30  Foundation       2051 non-null   object \n",
      " 31  Bsmt Qual        1996 non-null   object \n",
      " 32  Bsmt Cond        1996 non-null   object \n",
      " 33  Bsmt Exposure    1993 non-null   object \n",
      " 34  BsmtFin Type 1   1996 non-null   object \n",
      " 35  BsmtFin SF 1     2050 non-null   float64\n",
      " 36  BsmtFin Type 2   1995 non-null   object \n",
      " 37  BsmtFin SF 2     2050 non-null   float64\n",
      " 38  Bsmt Unf SF      2050 non-null   float64\n",
      " 39  Total Bsmt SF    2050 non-null   float64\n",
      " 40  Heating          2051 non-null   object \n",
      " 41  Heating QC       2051 non-null   object \n",
      " 42  Central Air      2051 non-null   object \n",
      " 43  Electrical       2051 non-null   object \n",
      " 44  1st Flr SF       2051 non-null   int64  \n",
      " 45  2nd Flr SF       2051 non-null   int64  \n",
      " 46  Low Qual Fin SF  2051 non-null   int64  \n",
      " 47  Gr Liv Area      2051 non-null   int64  \n",
      " 48  Bsmt Full Bath   2049 non-null   float64\n",
      " 49  Bsmt Half Bath   2049 non-null   float64\n",
      " 50  Full Bath        2051 non-null   int64  \n",
      " 51  Half Bath        2051 non-null   int64  \n",
      " 52  Bedroom AbvGr    2051 non-null   int64  \n",
      " 53  Kitchen AbvGr    2051 non-null   int64  \n",
      " 54  Kitchen Qual     2051 non-null   object \n",
      " 55  TotRms AbvGrd    2051 non-null   int64  \n",
      " 56  Functional       2051 non-null   object \n",
      " 57  Fireplaces       2051 non-null   int64  \n",
      " 58  Fireplace Qu     1051 non-null   object \n",
      " 59  Garage Type      1938 non-null   object \n",
      " 60  Garage Yr Blt    1937 non-null   float64\n",
      " 61  Garage Finish    1937 non-null   object \n",
      " 62  Garage Cars      2050 non-null   float64\n",
      " 63  Garage Area      2050 non-null   float64\n",
      " 64  Garage Qual      1937 non-null   object \n",
      " 65  Garage Cond      1937 non-null   object \n",
      " 66  Paved Drive      2051 non-null   object \n",
      " 67  Wood Deck SF     2051 non-null   int64  \n",
      " 68  Open Porch SF    2051 non-null   int64  \n",
      " 69  Enclosed Porch   2051 non-null   int64  \n",
      " 70  3Ssn Porch       2051 non-null   int64  \n",
      " 71  Screen Porch     2051 non-null   int64  \n",
      " 72  Pool Area        2051 non-null   int64  \n",
      " 73  Pool QC          9 non-null      object \n",
      " 74  Fence            400 non-null    object \n",
      " 75  Misc Feature     65 non-null     object \n",
      " 76  Misc Val         2051 non-null   int64  \n",
      " 77  Mo Sold          2051 non-null   int64  \n",
      " 78  Yr Sold          2051 non-null   int64  \n",
      " 79  Sale Type        2051 non-null   object \n",
      " 80  SalePrice        2051 non-null   int64  \n",
      "dtypes: float64(11), int64(28), object(42)\n",
      "memory usage: 1.3+ MB\n"
     ]
    }
   ],
   "source": [
    "# looks at # of null values and dtypes\n",
    "train_df.info()"
   ]
  },
  {
   "cell_type": "markdown",
   "metadata": {},
   "source": [
    "Missing values, value types:\n",
    " - Lot Frontage: continuous value, Linear feet of street connected to property\n",
    " - Alley: nominal, NA = no alley\n",
    " - Mas Vnr Type: nominal, Masonry veneer type\n",
    " - Mas Vnr Area: continous: Masonry veneer area in square feet\n",
    " - Bsmt Qual : ordinal, NA = no basement\n",
    " - Bsmt Cond : ordinal, NA = no basement\n",
    " - Bsmt Exposure: ordinal, NA = no basement\n",
    " - BsmtFin Type 1: ordinal, NA = no basement\n",
    " - BsmtFin SF 1 : continous,Type 1 finished square feet\n",
    " - BsmtFin Type 2: ordinal, NA = no basement\n",
    " - BsmtFin SF 2 : continous,Type 2 finished square feet\n",
    " - Bsmt Unf SF : continous,Unfinished square feet of basement area\n",
    " - Total Bsmt SF : continous,Total square feet of basement area\n",
    " - Bsmt Full Bath : discrete, Basement full bathrooms\n",
    " - Bsmt Half Bath : discrete, Basement half bathrooms\n",
    " - FireplaceQu : ordinal, NA = no fireplace\n",
    " - Garage Type : ordinal, NA = no garage\n",
    " - Garage Yr Blt : discrete,Year garage was built\n",
    " - Garage Finish  : ordinal, NA = no garage\n",
    " - Garage Cars : discrete,Size of garage in car capacity\n",
    " - Garage Area : continuous,Size of garage in square feet\n",
    " - Garage Qual : ordinal, NA = no garage\n",
    " - Garage Cond : ordinal, NA = no garage\n",
    " - Pool QC: ordinal, NA = no pool\n",
    " - Fence: ordinal, NA = no fence\n",
    " - Misc Feature: nominal, Miscellaneous feature not covered in other categories, NA = no other features"
   ]
  },
  {
   "cell_type": "code",
   "execution_count": 353,
   "metadata": {},
   "outputs": [],
   "source": [
    "train_df.fillna(train_df.mean(), inplace=True)\n",
    "train_df.fillna('NAP', inplace=True)"
   ]
  },
  {
   "cell_type": "code",
   "execution_count": 354,
   "metadata": {},
   "outputs": [],
   "source": [
    "test_df.fillna(train_df.mean(), inplace=True)\n",
    "test_df.fillna('NAP', inplace=True)"
   ]
  },
  {
   "cell_type": "markdown",
   "metadata": {},
   "source": [
    "## Model"
   ]
  },
  {
   "cell_type": "code",
   "execution_count": 357,
   "metadata": {},
   "outputs": [],
   "source": [
    "features = []\n",
    "for i in train_df.columns:\n",
    "    if train_df[i].dtypes != 'object' or i == \"SalePrice\":\n",
    "        features.append(i)\n",
    "        "
   ]
  },
  {
   "cell_type": "code",
   "execution_count": 358,
   "metadata": {},
   "outputs": [],
   "source": [
    "features.remove('SalePrice')"
   ]
  },
  {
   "cell_type": "code",
   "execution_count": 359,
   "metadata": {},
   "outputs": [
    {
     "data": {
      "image/png": "[encoded data removed]",
      "text/plain": [
       "<Figure size 864x576 with 2 Axes>"
      ]
     },
     "metadata": {
      "needs_background": "light"
     },
     "output_type": "display_data"
    }
   ],
   "source": [
    "plt.figure(figsize = (12,8))\n",
    "sns.heatmap(train_df.corr()[['SalePrice']].sort_values(by = 'SalePrice'),\n",
    "            annot = True);\n",
    "plt.tight_layout()"
   ]
  },
  {
   "cell_type": "code",
   "execution_count": 360,
   "metadata": {},
   "outputs": [],
   "source": [
    "features2 = [\"Overall Qual\",'Gr Liv Area','Garage Area','Garage Cars','Total Bsmt SF',\n",
    "            '1st Flr SF','Year Built','Garage Yr Blt','Full Bath','Year Remod/Add',\n",
    "            'TotRms AbvGrd','Mas Vnr Area','Fireplaces','BsmtFin SF 1','Open Porch SF',\n",
    "            'Wood Deck SF','Lot Frontage','Lot Area', ]\n"
   ]
  },
  {
   "cell_type": "code",
   "execution_count": 361,
   "metadata": {},
   "outputs": [],
   "source": [
    "# Creates X and y values, X is all numeric columns beside predictor\n",
    "X1 = train_df[features2]\n",
    "y = train_df['SalePrice']\n",
    "\n",
    "X1_train,X1_test,y_train,y_test = train_test_split(X1,y,random_state = 42)"
   ]
  },
  {
   "cell_type": "code",
   "execution_count": 362,
   "metadata": {},
   "outputs": [],
   "source": [
    "# Standardize the features\n",
    "sc = StandardScaler()\n",
    "\n",
    "Z1_train = sc.fit_transform(X1_train)\n",
    "Z1_test = sc.transform(X1_test)"
   ]
  },
  {
   "cell_type": "code",
   "execution_count": 363,
   "metadata": {},
   "outputs": [
    {
     "data": {
      "text/plain": [
       "KNeighborsRegressor()"
      ]
     },
     "execution_count": 363,
     "metadata": {},
     "output_type": "execute_result"
    }
   ],
   "source": [
    "KNeighborsRegressor()"
   ]
  },
  {
   "cell_type": "code",
   "execution_count": 364,
   "metadata": {},
   "outputs": [],
   "source": [
    "perams1 = {\n",
    "    'n_neighbors': range(1, 51, 2),\n",
    "    'weights' : ['uniform', 'distance'],\n",
    "    'metric': ['euclidean', 'manhattan']\n",
    "}"
   ]
  },
  {
   "cell_type": "code",
   "execution_count": 365,
   "metadata": {},
   "outputs": [],
   "source": [
    "knn_gs1 = GridSearchCV(estimator = KNeighborsRegressor(), param_grid = perams1, cv = 5, verbose = 1)"
   ]
  },
  {
   "cell_type": "code",
   "execution_count": 366,
   "metadata": {},
   "outputs": [
    {
     "name": "stdout",
     "output_type": "stream",
     "text": [
      "Fitting 5 folds for each of 100 candidates, totalling 500 fits\n"
     ]
    },
    {
     "name": "stderr",
     "output_type": "stream",
     "text": [
      "[Parallel(n_jobs=1)]: Using backend SequentialBackend with 1 concurrent workers.\n",
      "[Parallel(n_jobs=1)]: Done 500 out of 500 | elapsed:    7.0s finished\n"
     ]
    },
    {
     "data": {
      "text/plain": [
       "GridSearchCV(cv=5, estimator=KNeighborsRegressor(),\n",
       "             param_grid={'metric': ['euclidean', 'manhattan'],\n",
       "                         'n_neighbors': range(1, 51, 2),\n",
       "                         'weights': ['uniform', 'distance']},\n",
       "             verbose=1)"
      ]
     },
     "execution_count": 366,
     "metadata": {},
     "output_type": "execute_result"
    }
   ],
   "source": [
    "knn_gs1.fit(Z1_train, y_train)"
   ]
  },
  {
   "cell_type": "code",
   "execution_count": 367,
   "metadata": {},
   "outputs": [
    {
     "data": {
      "text/plain": [
       "0.8510919649821311"
      ]
     },
     "execution_count": 367,
     "metadata": {},
     "output_type": "execute_result"
    }
   ],
   "source": [
    "knn_gs1.best_score_"
   ]
  },
  {
   "cell_type": "code",
   "execution_count": 368,
   "metadata": {},
   "outputs": [
    {
     "data": {
      "text/plain": [
       "0.9999975894641968"
      ]
     },
     "execution_count": 368,
     "metadata": {},
     "output_type": "execute_result"
    }
   ],
   "source": [
    "knn_gs1.score(Z1_train,y_train)"
   ]
  },
  {
   "cell_type": "code",
   "execution_count": 369,
   "metadata": {},
   "outputs": [
    {
     "data": {
      "text/plain": [
       "0.8730052701272956"
      ]
     },
     "execution_count": 369,
     "metadata": {},
     "output_type": "execute_result"
    }
   ],
   "source": [
    "knn_gs1.score(Z1_test,y_test)"
   ]
  },
  {
   "cell_type": "code",
   "execution_count": 370,
   "metadata": {},
   "outputs": [],
   "source": [
    "train_df_dummies = pd.get_dummies(data = train_df,columns = features2)"
   ]
  },
  {
   "cell_type": "code",
   "execution_count": 371,
   "metadata": {},
   "outputs": [],
   "source": [
    "X2 = train_df[features2]\n",
    "y = train_df['SalePrice']\n",
    "\n",
    "X2_train,X2_test,y_train,y_test = train_test_split(X2,y,random_state = 42)\n",
    "\n",
    "sc = StandardScaler()\n",
    "\n",
    "Z2_train = sc.fit_transform(X2_train)\n",
    "Z2_test = sc.transform(X2_test)"
   ]
  },
  {
   "cell_type": "code",
   "execution_count": 372,
   "metadata": {},
   "outputs": [
    {
     "data": {
      "text/plain": [
       "0.820065547445237"
      ]
     },
     "execution_count": 372,
     "metadata": {},
     "output_type": "execute_result"
    }
   ],
   "source": [
    "knn = KNeighborsRegressor()\n",
    "\n",
    "cross_val_score(knn, Z2_train, y_train).mean()"
   ]
  },
  {
   "cell_type": "code",
   "execution_count": 373,
   "metadata": {},
   "outputs": [
    {
     "name": "stdout",
     "output_type": "stream",
     "text": [
      "Fitting 5 folds for each of 100 candidates, totalling 500 fits\n"
     ]
    },
    {
     "name": "stderr",
     "output_type": "stream",
     "text": [
      "[Parallel(n_jobs=1)]: Using backend SequentialBackend with 1 concurrent workers.\n",
      "[Parallel(n_jobs=1)]: Done 500 out of 500 | elapsed:    7.1s finished\n"
     ]
    },
    {
     "data": {
      "text/plain": [
       "GridSearchCV(cv=5, estimator=KNeighborsRegressor(),\n",
       "             param_grid={'metric': ['euclidean', 'manhattan'],\n",
       "                         'n_neighbors': range(1, 51, 2),\n",
       "                         'weights': ['uniform', 'distance']},\n",
       "             verbose=1)"
      ]
     },
     "execution_count": 373,
     "metadata": {},
     "output_type": "execute_result"
    }
   ],
   "source": [
    "perams1 = {\n",
    "    'n_neighbors': range(1, 51, 2),\n",
    "    'weights' : ['uniform', 'distance'],\n",
    "    'metric': ['euclidean', 'manhattan']\n",
    "}\n",
    "\n",
    "knn_gs2 = GridSearchCV(estimator = KNeighborsRegressor(), param_grid = perams1, cv = 5, verbose = 1)\n",
    "\n",
    "knn_gs2.fit(Z2_train, y_train)"
   ]
  },
  {
   "cell_type": "code",
   "execution_count": 374,
   "metadata": {},
   "outputs": [
    {
     "data": {
      "text/plain": [
       "0.8510919649821311"
      ]
     },
     "execution_count": 374,
     "metadata": {},
     "output_type": "execute_result"
    }
   ],
   "source": [
    "knn_gs2.best_score_"
   ]
  },
  {
   "cell_type": "code",
   "execution_count": 375,
   "metadata": {},
   "outputs": [
    {
     "data": {
      "text/plain": [
       "KNeighborsRegressor(metric='manhattan', n_neighbors=7, weights='distance')"
      ]
     },
     "execution_count": 375,
     "metadata": {},
     "output_type": "execute_result"
    }
   ],
   "source": [
    "knn_gs2.best_estimator_"
   ]
  },
  {
   "cell_type": "code",
   "execution_count": 376,
   "metadata": {},
   "outputs": [
    {
     "data": {
      "text/plain": [
       "30095.040932631127"
      ]
     },
     "execution_count": 376,
     "metadata": {},
     "output_type": "execute_result"
    }
   ],
   "source": [
    "lr = LinearRegression()\n",
    "lr.fit(Z2_train,y_train)\n",
    "\n",
    "y_train_preds = lr.predict(Z2_train)\n",
    "metrics.mean_squared_error(y_train, y_train_preds, squared=False)\n",
    "\n",
    "y_test_preds = lr.predict(Z2_test)\n",
    "metrics.mean_squared_error(y_test, y_test_preds, squared=False)"
   ]
  },
  {
   "cell_type": "code",
   "execution_count": 377,
   "metadata": {},
   "outputs": [],
   "source": [
    "train_df_multi = train_df[features2]"
   ]
  },
  {
   "cell_type": "code",
   "execution_count": 378,
   "metadata": {
    "scrolled": false
   },
   "outputs": [
    {
     "name": "stderr",
     "output_type": "stream",
     "text": [
      "<ipython-input-378-7763082d96f6>:2: SettingWithCopyWarning: \n",
      "A value is trying to be set on a copy of a slice from a DataFrame.\n",
      "Try using .loc[row_indexer,col_indexer] = value instead\n",
      "\n",
      "See the caveats in the documentation: https://pandas.pydata.org/pandas-docs/stable/user_guide/indexing.html#returning-a-view-versus-a-copy\n",
      "  train_df_multi['Garage Area * Cars'] = train_df_multi['Garage Area'] * train_df_multi['Garage Cars']\n",
      "<ipython-input-378-7763082d96f6>:3: SettingWithCopyWarning: \n",
      "A value is trying to be set on a copy of a slice from a DataFrame.\n",
      "Try using .loc[row_indexer,col_indexer] = value instead\n",
      "\n",
      "See the caveats in the documentation: https://pandas.pydata.org/pandas-docs/stable/user_guide/indexing.html#returning-a-view-versus-a-copy\n",
      "  train_df_multi['Live Area * Rooms above ground'] = train_df_multi['Gr Liv Area'] * train_df_multi['TotRms AbvGrd']\n",
      "<ipython-input-378-7763082d96f6>:4: SettingWithCopyWarning: \n",
      "A value is trying to be set on a copy of a slice from a DataFrame.\n",
      "Try using .loc[row_indexer,col_indexer] = value instead\n",
      "\n",
      "See the caveats in the documentation: https://pandas.pydata.org/pandas-docs/stable/user_guide/indexing.html#returning-a-view-versus-a-copy\n",
      "  train_df_multi['Live Area * 1st floor sf'] = train_df_multi['Gr Liv Area'] * train_df_multi['1st Flr SF']\n",
      "<ipython-input-378-7763082d96f6>:5: SettingWithCopyWarning: \n",
      "A value is trying to be set on a copy of a slice from a DataFrame.\n",
      "Try using .loc[row_indexer,col_indexer] = value instead\n",
      "\n",
      "See the caveats in the documentation: https://pandas.pydata.org/pandas-docs/stable/user_guide/indexing.html#returning-a-view-versus-a-copy\n",
      "  train_df_multi['Year built * Year remod/add'] = train_df_multi['Year Built'] * train_df_multi['Year Remod/Add']\n",
      "<ipython-input-378-7763082d96f6>:6: SettingWithCopyWarning: \n",
      "A value is trying to be set on a copy of a slice from a DataFrame.\n",
      "Try using .loc[row_indexer,col_indexer] = value instead\n",
      "\n",
      "See the caveats in the documentation: https://pandas.pydata.org/pandas-docs/stable/user_guide/indexing.html#returning-a-view-versus-a-copy\n",
      "  train_df_multi['Quality * Live Area'] = train_df_multi['Gr Liv Area'] * train_df_multi['Overall Qual']\n",
      "<ipython-input-378-7763082d96f6>:7: SettingWithCopyWarning: \n",
      "A value is trying to be set on a copy of a slice from a DataFrame.\n",
      "Try using .loc[row_indexer,col_indexer] = value instead\n",
      "\n",
      "See the caveats in the documentation: https://pandas.pydata.org/pandas-docs/stable/user_guide/indexing.html#returning-a-view-versus-a-copy\n",
      "  train_df_multi['Garage Area * Cars * Year Built'] = train_df_multi['Garage Area * Cars'] * train_df_multi['Garage Yr Blt']\n"
     ]
    }
   ],
   "source": [
    "train_df_multi['Overall Cond * Qual'] = train_df_multi['Overall Qual'] * train_df_multi['Overall Cond']\n",
    "train_df_multi['Garage Area * Cars'] = train_df_multi['Garage Area'] * train_df_multi['Garage Cars']\n",
    "train_df_multi['Live Area * Rooms above ground'] = train_df_multi['Gr Liv Area'] * train_df_multi['TotRms AbvGrd']\n",
    "train_df_multi['Live Area * 1st floor sf'] = train_df_multi['Gr Liv Area'] * train_df_multi['1st Flr SF']\n",
    "train_df_multi['Year built * Year remod/add'] = train_df_multi['Year Built'] * train_df_multi['Year Remod/Add']\n",
    "train_df_multi['Quality * Live Area'] = train_df_multi['Gr Liv Area'] * train_df_multi['Overall Qual']\n",
    "train_df_multi['Garage Area * Cars * Year Built'] = train_df_multi['Garage Area * Cars'] * train_df_multi['Garage Yr Blt']"
   ]
  },
  {
   "cell_type": "code",
   "execution_count": 379,
   "metadata": {},
   "outputs": [],
   "source": [
    "df_multi = train_df_multi"
   ]
  },
  {
   "cell_type": "code",
   "execution_count": 380,
   "metadata": {},
   "outputs": [
    {
     "name": "stderr",
     "output_type": "stream",
     "text": [
      "<ipython-input-380-35caea55e8b1>:1: SettingWithCopyWarning: \n",
      "A value is trying to be set on a copy of a slice from a DataFrame.\n",
      "Try using .loc[row_indexer,col_indexer] = value instead\n",
      "\n",
      "See the caveats in the documentation: https://pandas.pydata.org/pandas-docs/stable/user_guide/indexing.html#returning-a-view-versus-a-copy\n",
      "  df_multi['SP'] = train_df['SalePrice']\n"
     ]
    }
   ],
   "source": [
    "df_multi['SP'] = train_df['SalePrice']"
   ]
  },
  {
   "cell_type": "code",
   "execution_count": 381,
   "metadata": {},
   "outputs": [
    {
     "data": {
      "image/png": "[encoded data removed]",
      "text/plain": [
       "<Figure size 864x576 with 2 Axes>"
      ]
     },
     "metadata": {
      "needs_background": "light"
     },
     "output_type": "display_data"
    }
   ],
   "source": [
    "plt.figure(figsize = (12,8))\n",
    "sns.heatmap(df_multi.corr()[['SP']].sort_values(by = 'SP'),\n",
    "            annot = True);\n",
    "plt.tight_layout()"
   ]
  },
  {
   "cell_type": "code",
   "execution_count": 382,
   "metadata": {},
   "outputs": [
    {
     "data": {
      "text/html": [
       "<div>\n",
       "<style scoped>\n",
       "    .dataframe tbody tr th:only-of-type {\n",
       "        vertical-align: middle;\n",
       "    }\n",
       "\n",
       "    .dataframe tbody tr th {\n",
       "        vertical-align: top;\n",
       "    }\n",
       "\n",
       "    .dataframe thead th {\n",
       "        text-align: right;\n",
       "    }\n",
       "</style>\n",
       "<table border=\"1\" class=\"dataframe\">\n",
       "  <thead>\n",
       "    <tr style=\"text-align: right;\">\n",
       "      <th></th>\n",
       "      <th>Id</th>\n",
       "      <th>PID</th>\n",
       "      <th>MS SubClass</th>\n",
       "      <th>MS Zoning</th>\n",
       "      <th>Lot Frontage</th>\n",
       "      <th>Lot Area</th>\n",
       "      <th>Street</th>\n",
       "      <th>Alley</th>\n",
       "      <th>Lot Shape</th>\n",
       "      <th>Land Contour</th>\n",
       "      <th>...</th>\n",
       "      <th>Screen Porch</th>\n",
       "      <th>Pool Area</th>\n",
       "      <th>Pool QC</th>\n",
       "      <th>Fence</th>\n",
       "      <th>Misc Feature</th>\n",
       "      <th>Misc Val</th>\n",
       "      <th>Mo Sold</th>\n",
       "      <th>Yr Sold</th>\n",
       "      <th>Sale Type</th>\n",
       "      <th>SalePrice</th>\n",
       "    </tr>\n",
       "  </thead>\n",
       "  <tbody>\n",
       "    <tr>\n",
       "      <th>0</th>\n",
       "      <td>109</td>\n",
       "      <td>533352170</td>\n",
       "      <td>60</td>\n",
       "      <td>RL</td>\n",
       "      <td>69.0552</td>\n",
       "      <td>13517</td>\n",
       "      <td>Pave</td>\n",
       "      <td>NAP</td>\n",
       "      <td>IR1</td>\n",
       "      <td>Lvl</td>\n",
       "      <td>...</td>\n",
       "      <td>0</td>\n",
       "      <td>0</td>\n",
       "      <td>NAP</td>\n",
       "      <td>NAP</td>\n",
       "      <td>NAP</td>\n",
       "      <td>0</td>\n",
       "      <td>3</td>\n",
       "      <td>2010</td>\n",
       "      <td>WD</td>\n",
       "      <td>130500</td>\n",
       "    </tr>\n",
       "    <tr>\n",
       "      <th>1</th>\n",
       "      <td>544</td>\n",
       "      <td>531379050</td>\n",
       "      <td>60</td>\n",
       "      <td>RL</td>\n",
       "      <td>43.0000</td>\n",
       "      <td>11492</td>\n",
       "      <td>Pave</td>\n",
       "      <td>NAP</td>\n",
       "      <td>IR1</td>\n",
       "      <td>Lvl</td>\n",
       "      <td>...</td>\n",
       "      <td>0</td>\n",
       "      <td>0</td>\n",
       "      <td>NAP</td>\n",
       "      <td>NAP</td>\n",
       "      <td>NAP</td>\n",
       "      <td>0</td>\n",
       "      <td>4</td>\n",
       "      <td>2009</td>\n",
       "      <td>WD</td>\n",
       "      <td>220000</td>\n",
       "    </tr>\n",
       "    <tr>\n",
       "      <th>2</th>\n",
       "      <td>153</td>\n",
       "      <td>535304180</td>\n",
       "      <td>20</td>\n",
       "      <td>RL</td>\n",
       "      <td>68.0000</td>\n",
       "      <td>7922</td>\n",
       "      <td>Pave</td>\n",
       "      <td>NAP</td>\n",
       "      <td>Reg</td>\n",
       "      <td>Lvl</td>\n",
       "      <td>...</td>\n",
       "      <td>0</td>\n",
       "      <td>0</td>\n",
       "      <td>NAP</td>\n",
       "      <td>NAP</td>\n",
       "      <td>NAP</td>\n",
       "      <td>0</td>\n",
       "      <td>1</td>\n",
       "      <td>2010</td>\n",
       "      <td>WD</td>\n",
       "      <td>109000</td>\n",
       "    </tr>\n",
       "    <tr>\n",
       "      <th>3</th>\n",
       "      <td>318</td>\n",
       "      <td>916386060</td>\n",
       "      <td>60</td>\n",
       "      <td>RL</td>\n",
       "      <td>73.0000</td>\n",
       "      <td>9802</td>\n",
       "      <td>Pave</td>\n",
       "      <td>NAP</td>\n",
       "      <td>Reg</td>\n",
       "      <td>Lvl</td>\n",
       "      <td>...</td>\n",
       "      <td>0</td>\n",
       "      <td>0</td>\n",
       "      <td>NAP</td>\n",
       "      <td>NAP</td>\n",
       "      <td>NAP</td>\n",
       "      <td>0</td>\n",
       "      <td>4</td>\n",
       "      <td>2010</td>\n",
       "      <td>WD</td>\n",
       "      <td>174000</td>\n",
       "    </tr>\n",
       "    <tr>\n",
       "      <th>4</th>\n",
       "      <td>255</td>\n",
       "      <td>906425045</td>\n",
       "      <td>50</td>\n",
       "      <td>RL</td>\n",
       "      <td>82.0000</td>\n",
       "      <td>14235</td>\n",
       "      <td>Pave</td>\n",
       "      <td>NAP</td>\n",
       "      <td>IR1</td>\n",
       "      <td>Lvl</td>\n",
       "      <td>...</td>\n",
       "      <td>0</td>\n",
       "      <td>0</td>\n",
       "      <td>NAP</td>\n",
       "      <td>NAP</td>\n",
       "      <td>NAP</td>\n",
       "      <td>0</td>\n",
       "      <td>3</td>\n",
       "      <td>2010</td>\n",
       "      <td>WD</td>\n",
       "      <td>138500</td>\n",
       "    </tr>\n",
       "    <tr>\n",
       "      <th>...</th>\n",
       "      <td>...</td>\n",
       "      <td>...</td>\n",
       "      <td>...</td>\n",
       "      <td>...</td>\n",
       "      <td>...</td>\n",
       "      <td>...</td>\n",
       "      <td>...</td>\n",
       "      <td>...</td>\n",
       "      <td>...</td>\n",
       "      <td>...</td>\n",
       "      <td>...</td>\n",
       "      <td>...</td>\n",
       "      <td>...</td>\n",
       "      <td>...</td>\n",
       "      <td>...</td>\n",
       "      <td>...</td>\n",
       "      <td>...</td>\n",
       "      <td>...</td>\n",
       "      <td>...</td>\n",
       "      <td>...</td>\n",
       "      <td>...</td>\n",
       "    </tr>\n",
       "    <tr>\n",
       "      <th>2046</th>\n",
       "      <td>1587</td>\n",
       "      <td>921126030</td>\n",
       "      <td>20</td>\n",
       "      <td>RL</td>\n",
       "      <td>79.0000</td>\n",
       "      <td>11449</td>\n",
       "      <td>Pave</td>\n",
       "      <td>NAP</td>\n",
       "      <td>IR1</td>\n",
       "      <td>HLS</td>\n",
       "      <td>...</td>\n",
       "      <td>0</td>\n",
       "      <td>0</td>\n",
       "      <td>NAP</td>\n",
       "      <td>NAP</td>\n",
       "      <td>NAP</td>\n",
       "      <td>0</td>\n",
       "      <td>1</td>\n",
       "      <td>2008</td>\n",
       "      <td>WD</td>\n",
       "      <td>298751</td>\n",
       "    </tr>\n",
       "    <tr>\n",
       "      <th>2047</th>\n",
       "      <td>785</td>\n",
       "      <td>905377130</td>\n",
       "      <td>30</td>\n",
       "      <td>RL</td>\n",
       "      <td>69.0552</td>\n",
       "      <td>12342</td>\n",
       "      <td>Pave</td>\n",
       "      <td>NAP</td>\n",
       "      <td>IR1</td>\n",
       "      <td>Lvl</td>\n",
       "      <td>...</td>\n",
       "      <td>0</td>\n",
       "      <td>0</td>\n",
       "      <td>NAP</td>\n",
       "      <td>NAP</td>\n",
       "      <td>NAP</td>\n",
       "      <td>0</td>\n",
       "      <td>3</td>\n",
       "      <td>2009</td>\n",
       "      <td>WD</td>\n",
       "      <td>82500</td>\n",
       "    </tr>\n",
       "    <tr>\n",
       "      <th>2048</th>\n",
       "      <td>916</td>\n",
       "      <td>909253010</td>\n",
       "      <td>50</td>\n",
       "      <td>RL</td>\n",
       "      <td>57.0000</td>\n",
       "      <td>7558</td>\n",
       "      <td>Pave</td>\n",
       "      <td>NAP</td>\n",
       "      <td>Reg</td>\n",
       "      <td>Bnk</td>\n",
       "      <td>...</td>\n",
       "      <td>0</td>\n",
       "      <td>0</td>\n",
       "      <td>NAP</td>\n",
       "      <td>NAP</td>\n",
       "      <td>NAP</td>\n",
       "      <td>0</td>\n",
       "      <td>3</td>\n",
       "      <td>2009</td>\n",
       "      <td>WD</td>\n",
       "      <td>177000</td>\n",
       "    </tr>\n",
       "    <tr>\n",
       "      <th>2049</th>\n",
       "      <td>639</td>\n",
       "      <td>535179160</td>\n",
       "      <td>20</td>\n",
       "      <td>RL</td>\n",
       "      <td>80.0000</td>\n",
       "      <td>10400</td>\n",
       "      <td>Pave</td>\n",
       "      <td>NAP</td>\n",
       "      <td>Reg</td>\n",
       "      <td>Lvl</td>\n",
       "      <td>...</td>\n",
       "      <td>0</td>\n",
       "      <td>0</td>\n",
       "      <td>NAP</td>\n",
       "      <td>NAP</td>\n",
       "      <td>NAP</td>\n",
       "      <td>0</td>\n",
       "      <td>11</td>\n",
       "      <td>2009</td>\n",
       "      <td>WD</td>\n",
       "      <td>144000</td>\n",
       "    </tr>\n",
       "    <tr>\n",
       "      <th>2050</th>\n",
       "      <td>10</td>\n",
       "      <td>527162130</td>\n",
       "      <td>60</td>\n",
       "      <td>RL</td>\n",
       "      <td>60.0000</td>\n",
       "      <td>7500</td>\n",
       "      <td>Pave</td>\n",
       "      <td>NAP</td>\n",
       "      <td>Reg</td>\n",
       "      <td>Lvl</td>\n",
       "      <td>...</td>\n",
       "      <td>0</td>\n",
       "      <td>0</td>\n",
       "      <td>NAP</td>\n",
       "      <td>NAP</td>\n",
       "      <td>NAP</td>\n",
       "      <td>0</td>\n",
       "      <td>6</td>\n",
       "      <td>2010</td>\n",
       "      <td>WD</td>\n",
       "      <td>189000</td>\n",
       "    </tr>\n",
       "  </tbody>\n",
       "</table>\n",
       "<p>2051 rows × 81 columns</p>\n",
       "</div>"
      ],
      "text/plain": [
       "        Id        PID  MS SubClass MS Zoning  Lot Frontage  Lot Area Street  \\\n",
       "0      109  533352170           60        RL       69.0552     13517   Pave   \n",
       "1      544  531379050           60        RL       43.0000     11492   Pave   \n",
       "2      153  535304180           20        RL       68.0000      7922   Pave   \n",
       "3      318  916386060           60        RL       73.0000      9802   Pave   \n",
       "4      255  906425045           50        RL       82.0000     14235   Pave   \n",
       "...    ...        ...          ...       ...           ...       ...    ...   \n",
       "2046  1587  921126030           20        RL       79.0000     11449   Pave   \n",
       "2047   785  905377130           30        RL       69.0552     12342   Pave   \n",
       "2048   916  909253010           50        RL       57.0000      7558   Pave   \n",
       "2049   639  535179160           20        RL       80.0000     10400   Pave   \n",
       "2050    10  527162130           60        RL       60.0000      7500   Pave   \n",
       "\n",
       "     Alley Lot Shape Land Contour  ... Screen Porch Pool Area Pool QC Fence  \\\n",
       "0      NAP       IR1          Lvl  ...            0         0     NAP   NAP   \n",
       "1      NAP       IR1          Lvl  ...            0         0     NAP   NAP   \n",
       "2      NAP       Reg          Lvl  ...            0         0     NAP   NAP   \n",
       "3      NAP       Reg          Lvl  ...            0         0     NAP   NAP   \n",
       "4      NAP       IR1          Lvl  ...            0         0     NAP   NAP   \n",
       "...    ...       ...          ...  ...          ...       ...     ...   ...   \n",
       "2046   NAP       IR1          HLS  ...            0         0     NAP   NAP   \n",
       "2047   NAP       IR1          Lvl  ...            0         0     NAP   NAP   \n",
       "2048   NAP       Reg          Bnk  ...            0         0     NAP   NAP   \n",
       "2049   NAP       Reg          Lvl  ...            0         0     NAP   NAP   \n",
       "2050   NAP       Reg          Lvl  ...            0         0     NAP   NAP   \n",
       "\n",
       "     Misc Feature Misc Val Mo Sold Yr Sold  Sale Type  SalePrice  \n",
       "0             NAP        0       3    2010        WD      130500  \n",
       "1             NAP        0       4    2009        WD      220000  \n",
       "2             NAP        0       1    2010        WD      109000  \n",
       "3             NAP        0       4    2010        WD      174000  \n",
       "4             NAP        0       3    2010        WD      138500  \n",
       "...           ...      ...     ...     ...        ...        ...  \n",
       "2046          NAP        0       1    2008        WD      298751  \n",
       "2047          NAP        0       3    2009        WD       82500  \n",
       "2048          NAP        0       3    2009        WD      177000  \n",
       "2049          NAP        0      11    2009        WD      144000  \n",
       "2050          NAP        0       6    2010        WD      189000  \n",
       "\n",
       "[2051 rows x 81 columns]"
      ]
     },
     "execution_count": 382,
     "metadata": {},
     "output_type": "execute_result"
    }
   ],
   "source": [
    "train_df"
   ]
  },
  {
   "cell_type": "code",
   "execution_count": 383,
   "metadata": {},
   "outputs": [],
   "source": [
    "X2 = train_df_multi\n",
    "y = train_df['SalePrice']\n",
    "\n",
    "X2_train,X2_test,y_train,y_test = train_test_split(X2,y,random_state = 42)\n",
    "\n",
    "sc = StandardScaler()\n",
    "\n",
    "Z2_train = sc.fit_transform(X2_train)\n",
    "Z2_test = sc.transform(X2_test)"
   ]
  },
  {
   "cell_type": "code",
   "execution_count": 384,
   "metadata": {},
   "outputs": [],
   "source": [
    "lr = LinearRegression()\n",
    "lr.fit(Z2_train,y_train)\n",
    "\n",
    "y_test_preds = lr.predict(Z2_test)\n"
   ]
  },
  {
   "cell_type": "code",
   "execution_count": 385,
   "metadata": {},
   "outputs": [
    {
     "name": "stdout",
     "output_type": "stream",
     "text": [
      "Fitting 5 folds for each of 100 candidates, totalling 500 fits\n"
     ]
    },
    {
     "name": "stderr",
     "output_type": "stream",
     "text": [
      "[Parallel(n_jobs=1)]: Using backend SequentialBackend with 1 concurrent workers.\n",
      "[Parallel(n_jobs=1)]: Done 500 out of 500 | elapsed:    8.7s finished\n"
     ]
    },
    {
     "data": {
      "text/plain": [
       "GridSearchCV(cv=5, estimator=KNeighborsRegressor(),\n",
       "             param_grid={'metric': ['euclidean', 'manhattan'],\n",
       "                         'n_neighbors': range(1, 51, 2),\n",
       "                         'weights': ['uniform', 'distance']},\n",
       "             verbose=1)"
      ]
     },
     "execution_count": 385,
     "metadata": {},
     "output_type": "execute_result"
    }
   ],
   "source": [
    "perams1 = {\n",
    "    'n_neighbors': range(1, 51, 2),\n",
    "    'weights' : ['uniform', 'distance'],\n",
    "    'metric': ['euclidean', 'manhattan']\n",
    "}\n",
    "\n",
    "knn_gs2 = GridSearchCV(estimator = KNeighborsRegressor(), param_grid = perams1, cv = 5, verbose = 1)\n",
    "\n",
    "knn_gs2.fit(Z2_train, y_train)"
   ]
  },
  {
   "cell_type": "code",
   "execution_count": 386,
   "metadata": {},
   "outputs": [
    {
     "data": {
      "text/plain": [
       "0.8971226436529459"
      ]
     },
     "execution_count": 386,
     "metadata": {},
     "output_type": "execute_result"
    }
   ],
   "source": [
    "knn_gs2.best_score_"
   ]
  },
  {
   "cell_type": "code",
   "execution_count": 387,
   "metadata": {},
   "outputs": [],
   "source": [
    "preds = knn_gs2.predict(Z2_test)"
   ]
  },
  {
   "cell_type": "code",
   "execution_count": 388,
   "metadata": {},
   "outputs": [
    {
     "data": {
      "text/plain": [
       "23292.96454385256"
      ]
     },
     "execution_count": 388,
     "metadata": {},
     "output_type": "execute_result"
    }
   ],
   "source": [
    "metrics.mean_squared_error((y_test),preds) ** 0.5"
   ]
  },
  {
   "cell_type": "code",
   "execution_count": 389,
   "metadata": {},
   "outputs": [
    {
     "data": {
      "text/plain": [
       "LinearRegression()"
      ]
     },
     "execution_count": 389,
     "metadata": {},
     "output_type": "execute_result"
    }
   ],
   "source": [
    "lr  = LinearRegression()\n",
    "lr.fit(X2_train,y_train)"
   ]
  },
  {
   "cell_type": "code",
   "execution_count": 390,
   "metadata": {},
   "outputs": [],
   "source": [
    "pipe = Pipeline(([\n",
    "    ('sc', StandardScaler()),\n",
    "    ('knn', KNeighborsRegressor())\n",
    "]))\n"
   ]
  },
  {
   "cell_type": "code",
   "execution_count": 391,
   "metadata": {},
   "outputs": [
    {
     "data": {
      "text/plain": [
       "Pipeline(steps=[('sc', StandardScaler()), ('knn', KNeighborsRegressor())])"
      ]
     },
     "execution_count": 391,
     "metadata": {},
     "output_type": "execute_result"
    }
   ],
   "source": [
    "pipe.fit(X2_train, y_train)"
   ]
  },
  {
   "cell_type": "code",
   "execution_count": 392,
   "metadata": {},
   "outputs": [
    {
     "name": "stderr",
     "output_type": "stream",
     "text": [
      "[Parallel(n_jobs=1)]: Using backend SequentialBackend with 1 concurrent workers.\n"
     ]
    },
    {
     "name": "stdout",
     "output_type": "stream",
     "text": [
      "Fitting 5 folds for each of 40 candidates, totalling 200 fits\n"
     ]
    },
    {
     "name": "stderr",
     "output_type": "stream",
     "text": [
      "[Parallel(n_jobs=1)]: Done 200 out of 200 | elapsed:    3.2s finished\n"
     ]
    },
    {
     "data": {
      "text/plain": [
       "GridSearchCV(cv=5,\n",
       "             estimator=Pipeline(steps=[('sc', StandardScaler()),\n",
       "                                       ('knn', KNeighborsRegressor())]),\n",
       "             param_grid={'knn__n_neighbors': [3, 5, 7, 11, 25],\n",
       "                         'knn__weights': ['uniform', 'distance'],\n",
       "                         'sc__with_mean': [True, False],\n",
       "                         'sc__with_std': [True, False]},\n",
       "             verbose=1)"
      ]
     },
     "execution_count": 392,
     "metadata": {},
     "output_type": "execute_result"
    }
   ],
   "source": [
    "pipe_params = {\n",
    "    'sc__with_mean':[True, False],\n",
    "    'sc__with_std':[True, False],\n",
    "    'knn__n_neighbors':[3, 5, 7, 11, 25],\n",
    "    'knn__weights' : ['uniform', 'distance']\n",
    "}\n",
    "\n",
    "\n",
    "pipe_gridsearch = GridSearchCV(pipe, \n",
    "                                 pipe_params, \n",
    "                                 cv=5, \n",
    "                                 verbose=1)\n",
    "\n",
    "pipe_gridsearch.fit(X2_train,y_train)"
   ]
  },
  {
   "cell_type": "code",
   "execution_count": 393,
   "metadata": {},
   "outputs": [
    {
     "data": {
      "text/plain": [
       "0.8948837422007008"
      ]
     },
     "execution_count": 393,
     "metadata": {},
     "output_type": "execute_result"
    }
   ],
   "source": [
    "pipe_gridsearch.best_score_"
   ]
  },
  {
   "cell_type": "code",
   "execution_count": 394,
   "metadata": {},
   "outputs": [
    {
     "data": {
      "text/plain": [
       "24510.649071610093"
      ]
     },
     "execution_count": 394,
     "metadata": {},
     "output_type": "execute_result"
    }
   ],
   "source": [
    "pp = pipe_gridsearch.predict(X2_test)\n",
    "\n",
    "\n",
    "metrics.mean_squared_error(y_test,pp) **0.5"
   ]
  },
  {
   "cell_type": "code",
   "execution_count": 398,
   "metadata": {},
   "outputs": [],
   "source": [
    "test_df_multi = test_df[features2]"
   ]
  },
  {
   "cell_type": "code",
   "execution_count": null,
   "metadata": {},
   "outputs": [],
   "source": [
    "# prediction_csv = pd.DataFrame({'Id': index , 'SalePrice': pred_f}).to_csv('test_preds.csv', index = False)"
   ]
  },
  {
   "cell_type": "markdown",
   "metadata": {},
   "source": [
    "Vars to consider"
   ]
  },
  {
   "cell_type": "code",
   "execution_count": 436,
   "metadata": {},
   "outputs": [
    {
     "data": {
      "text/plain": [
       "MS Zoning\n",
       "A (agr)     47300.00\n",
       "C (all)     78010.89\n",
       "FV         218618.32\n",
       "I (all)     57625.00\n",
       "RH         148859.57\n",
       "RL         191235.16\n",
       "RM         129119.14\n",
       "Name: SalePrice, dtype: float64"
      ]
     },
     "execution_count": 436,
     "metadata": {},
     "output_type": "execute_result"
    }
   ],
   "source": [
    "(round(train_df.groupby('MS Zoning')['SalePrice'].mean(),2))"
   ]
  },
  {
   "cell_type": "code",
   "execution_count": 438,
   "metadata": {},
   "outputs": [
    {
     "data": {
      "text/plain": [
       "Utilities\n",
       "AllPub    181551.6\n",
       "NoSeWa    137500.0\n",
       "NoSewr     57625.0\n",
       "Name: SalePrice, dtype: float64"
      ]
     },
     "execution_count": 438,
     "metadata": {},
     "output_type": "execute_result"
    }
   ],
   "source": [
    "(round(train_df.groupby('Utilities')['SalePrice'].mean(),2))"
   ]
  },
  {
   "cell_type": "code",
   "execution_count": 441,
   "metadata": {},
   "outputs": [
    {
     "data": {
      "text/plain": [
       "Lot Config\n",
       "Corner     180629.59\n",
       "CulDSac    230744.36\n",
       "FR2        174703.60\n",
       "FR3        198600.00\n",
       "Inside     177537.01\n",
       "Name: SalePrice, dtype: float64"
      ]
     },
     "execution_count": 441,
     "metadata": {},
     "output_type": "execute_result"
    }
   ],
   "source": [
    "(round(train_df.groupby('Lot Config')['SalePrice'].mean(),2))"
   ]
  },
  {
   "cell_type": "code",
   "execution_count": 443,
   "metadata": {},
   "outputs": [
    {
     "data": {
      "text/plain": [
       "Bldg Type\n",
       "1Fam      185275.69\n",
       "2fmCon    123179.89\n",
       "Duplex    139296.33\n",
       "Twnhs     133100.00\n",
       "TwnhsE    198312.37\n",
       "Name: SalePrice, dtype: float64"
      ]
     },
     "execution_count": 443,
     "metadata": {},
     "output_type": "execute_result"
    }
   ],
   "source": [
    "(round(train_df.groupby('Bldg Type')['SalePrice'].mean(),2))"
   ]
  },
  {
   "cell_type": "code",
   "execution_count": 448,
   "metadata": {},
   "outputs": [
    {
     "data": {
      "text/plain": [
       "Bsmt Exposure\n",
       "Av     206262.45\n",
       "Gd     271610.57\n",
       "Mn     189377.57\n",
       "NAP    111635.91\n",
       "No     164533.53\n",
       "Name: SalePrice, dtype: float64"
      ]
     },
     "execution_count": 448,
     "metadata": {},
     "output_type": "execute_result"
    }
   ],
   "source": [
    "(round(train_df.groupby('Bsmt Exposure')['SalePrice'].mean(),2))"
   ]
  },
  {
   "cell_type": "code",
   "execution_count": null,
   "metadata": {},
   "outputs": [],
   "source": []
  },
  {
   "cell_type": "code",
   "execution_count": 405,
   "metadata": {},
   "outputs": [],
   "source": [
    "for i in train_df.columns:\n",
    "    if train_df[i].dtypes == 'object' or i != \"SalePrice\":\n",
    "        train_df = pd.get_dummies(train_df, columns = [i])"
   ]
  },
  {
   "cell_type": "code",
   "execution_count": 406,
   "metadata": {},
   "outputs": [],
   "source": [
    "X3 = train_df\n",
    "y = train_df['SalePrice']\n",
    "\n",
    "X3_train,X3_test,y_train,y_test = train_test_split(X3,y,random_state = 42)\n"
   ]
  },
  {
   "cell_type": "code",
   "execution_count": 407,
   "metadata": {},
   "outputs": [
    {
     "name": "stdout",
     "output_type": "stream",
     "text": [
      "Fitting 5 folds for each of 40 candidates, totalling 200 fits\n"
     ]
    },
    {
     "name": "stderr",
     "output_type": "stream",
     "text": [
      "[Parallel(n_jobs=1)]: Using backend SequentialBackend with 1 concurrent workers.\n"
     ]
    },
    {
     "ename": "KeyboardInterrupt",
     "evalue": "",
     "output_type": "error",
     "traceback": [
      "\u001b[1;31m---------------------------------------------------------------------------\u001b[0m",
      "\u001b[1;31mKeyboardInterrupt\u001b[0m                         Traceback (most recent call last)",
      "\u001b[1;32m<ipython-input-407-bac8fd3c71da>\u001b[0m in \u001b[0;36m<module>\u001b[1;34m\u001b[0m\n\u001b[0;32m     18\u001b[0m                                  verbose=1)\n\u001b[0;32m     19\u001b[0m \u001b[1;33m\u001b[0m\u001b[0m\n\u001b[1;32m---> 20\u001b[1;33m \u001b[0mpipe_gridsearch\u001b[0m\u001b[1;33m.\u001b[0m\u001b[0mfit\u001b[0m\u001b[1;33m(\u001b[0m\u001b[0mX3_train\u001b[0m\u001b[1;33m,\u001b[0m\u001b[0my_train\u001b[0m\u001b[1;33m)\u001b[0m\u001b[1;33m\u001b[0m\u001b[1;33m\u001b[0m\u001b[0m\n\u001b[0m",
      "\u001b[1;32m~\\anaconda3\\envs\\dsi\\lib\\site-packages\\sklearn\\utils\\validation.py\u001b[0m in \u001b[0;36minner_f\u001b[1;34m(*args, **kwargs)\u001b[0m\n\u001b[0;32m     70\u001b[0m                           FutureWarning)\n\u001b[0;32m     71\u001b[0m         \u001b[0mkwargs\u001b[0m\u001b[1;33m.\u001b[0m\u001b[0mupdate\u001b[0m\u001b[1;33m(\u001b[0m\u001b[1;33m{\u001b[0m\u001b[0mk\u001b[0m\u001b[1;33m:\u001b[0m \u001b[0marg\u001b[0m \u001b[1;32mfor\u001b[0m \u001b[0mk\u001b[0m\u001b[1;33m,\u001b[0m \u001b[0marg\u001b[0m \u001b[1;32min\u001b[0m \u001b[0mzip\u001b[0m\u001b[1;33m(\u001b[0m\u001b[0msig\u001b[0m\u001b[1;33m.\u001b[0m\u001b[0mparameters\u001b[0m\u001b[1;33m,\u001b[0m \u001b[0margs\u001b[0m\u001b[1;33m)\u001b[0m\u001b[1;33m}\u001b[0m\u001b[1;33m)\u001b[0m\u001b[1;33m\u001b[0m\u001b[1;33m\u001b[0m\u001b[0m\n\u001b[1;32m---> 72\u001b[1;33m         \u001b[1;32mreturn\u001b[0m \u001b[0mf\u001b[0m\u001b[1;33m(\u001b[0m\u001b[1;33m**\u001b[0m\u001b[0mkwargs\u001b[0m\u001b[1;33m)\u001b[0m\u001b[1;33m\u001b[0m\u001b[1;33m\u001b[0m\u001b[0m\n\u001b[0m\u001b[0;32m     73\u001b[0m     \u001b[1;32mreturn\u001b[0m \u001b[0minner_f\u001b[0m\u001b[1;33m\u001b[0m\u001b[1;33m\u001b[0m\u001b[0m\n\u001b[0;32m     74\u001b[0m \u001b[1;33m\u001b[0m\u001b[0m\n",
      "\u001b[1;32m~\\anaconda3\\envs\\dsi\\lib\\site-packages\\sklearn\\model_selection\\_search.py\u001b[0m in \u001b[0;36mfit\u001b[1;34m(self, X, y, groups, **fit_params)\u001b[0m\n\u001b[0;32m    734\u001b[0m                 \u001b[1;32mreturn\u001b[0m \u001b[0mresults\u001b[0m\u001b[1;33m\u001b[0m\u001b[1;33m\u001b[0m\u001b[0m\n\u001b[0;32m    735\u001b[0m \u001b[1;33m\u001b[0m\u001b[0m\n\u001b[1;32m--> 736\u001b[1;33m             \u001b[0mself\u001b[0m\u001b[1;33m.\u001b[0m\u001b[0m_run_search\u001b[0m\u001b[1;33m(\u001b[0m\u001b[0mevaluate_candidates\u001b[0m\u001b[1;33m)\u001b[0m\u001b[1;33m\u001b[0m\u001b[1;33m\u001b[0m\u001b[0m\n\u001b[0m\u001b[0;32m    737\u001b[0m \u001b[1;33m\u001b[0m\u001b[0m\n\u001b[0;32m    738\u001b[0m         \u001b[1;31m# For multi-metric evaluation, store the best_index_, best_params_ and\u001b[0m\u001b[1;33m\u001b[0m\u001b[1;33m\u001b[0m\u001b[1;33m\u001b[0m\u001b[0m\n",
      "\u001b[1;32m~\\anaconda3\\envs\\dsi\\lib\\site-packages\\sklearn\\model_selection\\_search.py\u001b[0m in \u001b[0;36m_run_search\u001b[1;34m(self, evaluate_candidates)\u001b[0m\n\u001b[0;32m   1186\u001b[0m     \u001b[1;32mdef\u001b[0m \u001b[0m_run_search\u001b[0m\u001b[1;33m(\u001b[0m\u001b[0mself\u001b[0m\u001b[1;33m,\u001b[0m \u001b[0mevaluate_candidates\u001b[0m\u001b[1;33m)\u001b[0m\u001b[1;33m:\u001b[0m\u001b[1;33m\u001b[0m\u001b[1;33m\u001b[0m\u001b[0m\n\u001b[0;32m   1187\u001b[0m         \u001b[1;34m\"\"\"Search all candidates in param_grid\"\"\"\u001b[0m\u001b[1;33m\u001b[0m\u001b[1;33m\u001b[0m\u001b[0m\n\u001b[1;32m-> 1188\u001b[1;33m         \u001b[0mevaluate_candidates\u001b[0m\u001b[1;33m(\u001b[0m\u001b[0mParameterGrid\u001b[0m\u001b[1;33m(\u001b[0m\u001b[0mself\u001b[0m\u001b[1;33m.\u001b[0m\u001b[0mparam_grid\u001b[0m\u001b[1;33m)\u001b[0m\u001b[1;33m)\u001b[0m\u001b[1;33m\u001b[0m\u001b[1;33m\u001b[0m\u001b[0m\n\u001b[0m\u001b[0;32m   1189\u001b[0m \u001b[1;33m\u001b[0m\u001b[0m\n\u001b[0;32m   1190\u001b[0m \u001b[1;33m\u001b[0m\u001b[0m\n",
      "\u001b[1;32m~\\anaconda3\\envs\\dsi\\lib\\site-packages\\sklearn\\model_selection\\_search.py\u001b[0m in \u001b[0;36mevaluate_candidates\u001b[1;34m(candidate_params)\u001b[0m\n\u001b[0;32m    706\u001b[0m                               n_splits, n_candidates, n_candidates * n_splits))\n\u001b[0;32m    707\u001b[0m \u001b[1;33m\u001b[0m\u001b[0m\n\u001b[1;32m--> 708\u001b[1;33m                 out = parallel(delayed(_fit_and_score)(clone(base_estimator),\n\u001b[0m\u001b[0;32m    709\u001b[0m                                                        \u001b[0mX\u001b[0m\u001b[1;33m,\u001b[0m \u001b[0my\u001b[0m\u001b[1;33m,\u001b[0m\u001b[1;33m\u001b[0m\u001b[1;33m\u001b[0m\u001b[0m\n\u001b[0;32m    710\u001b[0m                                                        \u001b[0mtrain\u001b[0m\u001b[1;33m=\u001b[0m\u001b[0mtrain\u001b[0m\u001b[1;33m,\u001b[0m \u001b[0mtest\u001b[0m\u001b[1;33m=\u001b[0m\u001b[0mtest\u001b[0m\u001b[1;33m,\u001b[0m\u001b[1;33m\u001b[0m\u001b[1;33m\u001b[0m\u001b[0m\n",
      "\u001b[1;32m~\\anaconda3\\envs\\dsi\\lib\\site-packages\\joblib\\parallel.py\u001b[0m in \u001b[0;36m__call__\u001b[1;34m(self, iterable)\u001b[0m\n\u001b[0;32m   1049\u001b[0m                 \u001b[0mself\u001b[0m\u001b[1;33m.\u001b[0m\u001b[0m_iterating\u001b[0m \u001b[1;33m=\u001b[0m \u001b[0mself\u001b[0m\u001b[1;33m.\u001b[0m\u001b[0m_original_iterator\u001b[0m \u001b[1;32mis\u001b[0m \u001b[1;32mnot\u001b[0m \u001b[1;32mNone\u001b[0m\u001b[1;33m\u001b[0m\u001b[1;33m\u001b[0m\u001b[0m\n\u001b[0;32m   1050\u001b[0m \u001b[1;33m\u001b[0m\u001b[0m\n\u001b[1;32m-> 1051\u001b[1;33m             \u001b[1;32mwhile\u001b[0m \u001b[0mself\u001b[0m\u001b[1;33m.\u001b[0m\u001b[0mdispatch_one_batch\u001b[0m\u001b[1;33m(\u001b[0m\u001b[0miterator\u001b[0m\u001b[1;33m)\u001b[0m\u001b[1;33m:\u001b[0m\u001b[1;33m\u001b[0m\u001b[1;33m\u001b[0m\u001b[0m\n\u001b[0m\u001b[0;32m   1052\u001b[0m                 \u001b[1;32mpass\u001b[0m\u001b[1;33m\u001b[0m\u001b[1;33m\u001b[0m\u001b[0m\n\u001b[0;32m   1053\u001b[0m \u001b[1;33m\u001b[0m\u001b[0m\n",
      "\u001b[1;32m~\\anaconda3\\envs\\dsi\\lib\\site-packages\\joblib\\parallel.py\u001b[0m in \u001b[0;36mdispatch_one_batch\u001b[1;34m(self, iterator)\u001b[0m\n\u001b[0;32m    864\u001b[0m                 \u001b[1;32mreturn\u001b[0m \u001b[1;32mFalse\u001b[0m\u001b[1;33m\u001b[0m\u001b[1;33m\u001b[0m\u001b[0m\n\u001b[0;32m    865\u001b[0m             \u001b[1;32melse\u001b[0m\u001b[1;33m:\u001b[0m\u001b[1;33m\u001b[0m\u001b[1;33m\u001b[0m\u001b[0m\n\u001b[1;32m--> 866\u001b[1;33m                 \u001b[0mself\u001b[0m\u001b[1;33m.\u001b[0m\u001b[0m_dispatch\u001b[0m\u001b[1;33m(\u001b[0m\u001b[0mtasks\u001b[0m\u001b[1;33m)\u001b[0m\u001b[1;33m\u001b[0m\u001b[1;33m\u001b[0m\u001b[0m\n\u001b[0m\u001b[0;32m    867\u001b[0m                 \u001b[1;32mreturn\u001b[0m \u001b[1;32mTrue\u001b[0m\u001b[1;33m\u001b[0m\u001b[1;33m\u001b[0m\u001b[0m\n\u001b[0;32m    868\u001b[0m \u001b[1;33m\u001b[0m\u001b[0m\n",
      "\u001b[1;32m~\\anaconda3\\envs\\dsi\\lib\\site-packages\\joblib\\parallel.py\u001b[0m in \u001b[0;36m_dispatch\u001b[1;34m(self, batch)\u001b[0m\n\u001b[0;32m    782\u001b[0m         \u001b[1;32mwith\u001b[0m \u001b[0mself\u001b[0m\u001b[1;33m.\u001b[0m\u001b[0m_lock\u001b[0m\u001b[1;33m:\u001b[0m\u001b[1;33m\u001b[0m\u001b[1;33m\u001b[0m\u001b[0m\n\u001b[0;32m    783\u001b[0m             \u001b[0mjob_idx\u001b[0m \u001b[1;33m=\u001b[0m \u001b[0mlen\u001b[0m\u001b[1;33m(\u001b[0m\u001b[0mself\u001b[0m\u001b[1;33m.\u001b[0m\u001b[0m_jobs\u001b[0m\u001b[1;33m)\u001b[0m\u001b[1;33m\u001b[0m\u001b[1;33m\u001b[0m\u001b[0m\n\u001b[1;32m--> 784\u001b[1;33m             \u001b[0mjob\u001b[0m \u001b[1;33m=\u001b[0m \u001b[0mself\u001b[0m\u001b[1;33m.\u001b[0m\u001b[0m_backend\u001b[0m\u001b[1;33m.\u001b[0m\u001b[0mapply_async\u001b[0m\u001b[1;33m(\u001b[0m\u001b[0mbatch\u001b[0m\u001b[1;33m,\u001b[0m \u001b[0mcallback\u001b[0m\u001b[1;33m=\u001b[0m\u001b[0mcb\u001b[0m\u001b[1;33m)\u001b[0m\u001b[1;33m\u001b[0m\u001b[1;33m\u001b[0m\u001b[0m\n\u001b[0m\u001b[0;32m    785\u001b[0m             \u001b[1;31m# A job can complete so quickly than its callback is\u001b[0m\u001b[1;33m\u001b[0m\u001b[1;33m\u001b[0m\u001b[1;33m\u001b[0m\u001b[0m\n\u001b[0;32m    786\u001b[0m             \u001b[1;31m# called before we get here, causing self._jobs to\u001b[0m\u001b[1;33m\u001b[0m\u001b[1;33m\u001b[0m\u001b[1;33m\u001b[0m\u001b[0m\n",
      "\u001b[1;32m~\\anaconda3\\envs\\dsi\\lib\\site-packages\\joblib\\_parallel_backends.py\u001b[0m in \u001b[0;36mapply_async\u001b[1;34m(self, func, callback)\u001b[0m\n\u001b[0;32m    206\u001b[0m     \u001b[1;32mdef\u001b[0m \u001b[0mapply_async\u001b[0m\u001b[1;33m(\u001b[0m\u001b[0mself\u001b[0m\u001b[1;33m,\u001b[0m \u001b[0mfunc\u001b[0m\u001b[1;33m,\u001b[0m \u001b[0mcallback\u001b[0m\u001b[1;33m=\u001b[0m\u001b[1;32mNone\u001b[0m\u001b[1;33m)\u001b[0m\u001b[1;33m:\u001b[0m\u001b[1;33m\u001b[0m\u001b[1;33m\u001b[0m\u001b[0m\n\u001b[0;32m    207\u001b[0m         \u001b[1;34m\"\"\"Schedule a func to be run\"\"\"\u001b[0m\u001b[1;33m\u001b[0m\u001b[1;33m\u001b[0m\u001b[0m\n\u001b[1;32m--> 208\u001b[1;33m         \u001b[0mresult\u001b[0m \u001b[1;33m=\u001b[0m \u001b[0mImmediateResult\u001b[0m\u001b[1;33m(\u001b[0m\u001b[0mfunc\u001b[0m\u001b[1;33m)\u001b[0m\u001b[1;33m\u001b[0m\u001b[1;33m\u001b[0m\u001b[0m\n\u001b[0m\u001b[0;32m    209\u001b[0m         \u001b[1;32mif\u001b[0m \u001b[0mcallback\u001b[0m\u001b[1;33m:\u001b[0m\u001b[1;33m\u001b[0m\u001b[1;33m\u001b[0m\u001b[0m\n\u001b[0;32m    210\u001b[0m             \u001b[0mcallback\u001b[0m\u001b[1;33m(\u001b[0m\u001b[0mresult\u001b[0m\u001b[1;33m)\u001b[0m\u001b[1;33m\u001b[0m\u001b[1;33m\u001b[0m\u001b[0m\n",
      "\u001b[1;32m~\\anaconda3\\envs\\dsi\\lib\\site-packages\\joblib\\_parallel_backends.py\u001b[0m in \u001b[0;36m__init__\u001b[1;34m(self, batch)\u001b[0m\n\u001b[0;32m    570\u001b[0m         \u001b[1;31m# Don't delay the application, to avoid keeping the input\u001b[0m\u001b[1;33m\u001b[0m\u001b[1;33m\u001b[0m\u001b[1;33m\u001b[0m\u001b[0m\n\u001b[0;32m    571\u001b[0m         \u001b[1;31m# arguments in memory\u001b[0m\u001b[1;33m\u001b[0m\u001b[1;33m\u001b[0m\u001b[1;33m\u001b[0m\u001b[0m\n\u001b[1;32m--> 572\u001b[1;33m         \u001b[0mself\u001b[0m\u001b[1;33m.\u001b[0m\u001b[0mresults\u001b[0m \u001b[1;33m=\u001b[0m \u001b[0mbatch\u001b[0m\u001b[1;33m(\u001b[0m\u001b[1;33m)\u001b[0m\u001b[1;33m\u001b[0m\u001b[1;33m\u001b[0m\u001b[0m\n\u001b[0m\u001b[0;32m    573\u001b[0m \u001b[1;33m\u001b[0m\u001b[0m\n\u001b[0;32m    574\u001b[0m     \u001b[1;32mdef\u001b[0m \u001b[0mget\u001b[0m\u001b[1;33m(\u001b[0m\u001b[0mself\u001b[0m\u001b[1;33m)\u001b[0m\u001b[1;33m:\u001b[0m\u001b[1;33m\u001b[0m\u001b[1;33m\u001b[0m\u001b[0m\n",
      "\u001b[1;32m~\\anaconda3\\envs\\dsi\\lib\\site-packages\\joblib\\parallel.py\u001b[0m in \u001b[0;36m__call__\u001b[1;34m(self)\u001b[0m\n\u001b[0;32m    260\u001b[0m         \u001b[1;31m# change the default number of processes to -1\u001b[0m\u001b[1;33m\u001b[0m\u001b[1;33m\u001b[0m\u001b[1;33m\u001b[0m\u001b[0m\n\u001b[0;32m    261\u001b[0m         \u001b[1;32mwith\u001b[0m \u001b[0mparallel_backend\u001b[0m\u001b[1;33m(\u001b[0m\u001b[0mself\u001b[0m\u001b[1;33m.\u001b[0m\u001b[0m_backend\u001b[0m\u001b[1;33m,\u001b[0m \u001b[0mn_jobs\u001b[0m\u001b[1;33m=\u001b[0m\u001b[0mself\u001b[0m\u001b[1;33m.\u001b[0m\u001b[0m_n_jobs\u001b[0m\u001b[1;33m)\u001b[0m\u001b[1;33m:\u001b[0m\u001b[1;33m\u001b[0m\u001b[1;33m\u001b[0m\u001b[0m\n\u001b[1;32m--> 262\u001b[1;33m             return [func(*args, **kwargs)\n\u001b[0m\u001b[0;32m    263\u001b[0m                     for func, args, kwargs in self.items]\n\u001b[0;32m    264\u001b[0m \u001b[1;33m\u001b[0m\u001b[0m\n",
      "\u001b[1;32m~\\anaconda3\\envs\\dsi\\lib\\site-packages\\joblib\\parallel.py\u001b[0m in \u001b[0;36m<listcomp>\u001b[1;34m(.0)\u001b[0m\n\u001b[0;32m    260\u001b[0m         \u001b[1;31m# change the default number of processes to -1\u001b[0m\u001b[1;33m\u001b[0m\u001b[1;33m\u001b[0m\u001b[1;33m\u001b[0m\u001b[0m\n\u001b[0;32m    261\u001b[0m         \u001b[1;32mwith\u001b[0m \u001b[0mparallel_backend\u001b[0m\u001b[1;33m(\u001b[0m\u001b[0mself\u001b[0m\u001b[1;33m.\u001b[0m\u001b[0m_backend\u001b[0m\u001b[1;33m,\u001b[0m \u001b[0mn_jobs\u001b[0m\u001b[1;33m=\u001b[0m\u001b[0mself\u001b[0m\u001b[1;33m.\u001b[0m\u001b[0m_n_jobs\u001b[0m\u001b[1;33m)\u001b[0m\u001b[1;33m:\u001b[0m\u001b[1;33m\u001b[0m\u001b[1;33m\u001b[0m\u001b[0m\n\u001b[1;32m--> 262\u001b[1;33m             return [func(*args, **kwargs)\n\u001b[0m\u001b[0;32m    263\u001b[0m                     for func, args, kwargs in self.items]\n\u001b[0;32m    264\u001b[0m \u001b[1;33m\u001b[0m\u001b[0m\n",
      "\u001b[1;32m~\\anaconda3\\envs\\dsi\\lib\\site-packages\\sklearn\\model_selection\\_validation.py\u001b[0m in \u001b[0;36m_fit_and_score\u001b[1;34m(estimator, X, y, scorer, train, test, verbose, parameters, fit_params, return_train_score, return_parameters, return_n_test_samples, return_times, return_estimator, error_score)\u001b[0m\n\u001b[0;32m    558\u001b[0m     \u001b[1;32melse\u001b[0m\u001b[1;33m:\u001b[0m\u001b[1;33m\u001b[0m\u001b[1;33m\u001b[0m\u001b[0m\n\u001b[0;32m    559\u001b[0m         \u001b[0mfit_time\u001b[0m \u001b[1;33m=\u001b[0m \u001b[0mtime\u001b[0m\u001b[1;33m.\u001b[0m\u001b[0mtime\u001b[0m\u001b[1;33m(\u001b[0m\u001b[1;33m)\u001b[0m \u001b[1;33m-\u001b[0m \u001b[0mstart_time\u001b[0m\u001b[1;33m\u001b[0m\u001b[1;33m\u001b[0m\u001b[0m\n\u001b[1;32m--> 560\u001b[1;33m         \u001b[0mtest_scores\u001b[0m \u001b[1;33m=\u001b[0m \u001b[0m_score\u001b[0m\u001b[1;33m(\u001b[0m\u001b[0mestimator\u001b[0m\u001b[1;33m,\u001b[0m \u001b[0mX_test\u001b[0m\u001b[1;33m,\u001b[0m \u001b[0my_test\u001b[0m\u001b[1;33m,\u001b[0m \u001b[0mscorer\u001b[0m\u001b[1;33m)\u001b[0m\u001b[1;33m\u001b[0m\u001b[1;33m\u001b[0m\u001b[0m\n\u001b[0m\u001b[0;32m    561\u001b[0m         \u001b[0mscore_time\u001b[0m \u001b[1;33m=\u001b[0m \u001b[0mtime\u001b[0m\u001b[1;33m.\u001b[0m\u001b[0mtime\u001b[0m\u001b[1;33m(\u001b[0m\u001b[1;33m)\u001b[0m \u001b[1;33m-\u001b[0m \u001b[0mstart_time\u001b[0m \u001b[1;33m-\u001b[0m \u001b[0mfit_time\u001b[0m\u001b[1;33m\u001b[0m\u001b[1;33m\u001b[0m\u001b[0m\n\u001b[0;32m    562\u001b[0m         \u001b[1;32mif\u001b[0m \u001b[0mreturn_train_score\u001b[0m\u001b[1;33m:\u001b[0m\u001b[1;33m\u001b[0m\u001b[1;33m\u001b[0m\u001b[0m\n",
      "\u001b[1;32m~\\anaconda3\\envs\\dsi\\lib\\site-packages\\sklearn\\model_selection\\_validation.py\u001b[0m in \u001b[0;36m_score\u001b[1;34m(estimator, X_test, y_test, scorer)\u001b[0m\n\u001b[0;32m    605\u001b[0m         \u001b[0mscores\u001b[0m \u001b[1;33m=\u001b[0m \u001b[0mscorer\u001b[0m\u001b[1;33m(\u001b[0m\u001b[0mestimator\u001b[0m\u001b[1;33m,\u001b[0m \u001b[0mX_test\u001b[0m\u001b[1;33m)\u001b[0m\u001b[1;33m\u001b[0m\u001b[1;33m\u001b[0m\u001b[0m\n\u001b[0;32m    606\u001b[0m     \u001b[1;32melse\u001b[0m\u001b[1;33m:\u001b[0m\u001b[1;33m\u001b[0m\u001b[1;33m\u001b[0m\u001b[0m\n\u001b[1;32m--> 607\u001b[1;33m         \u001b[0mscores\u001b[0m \u001b[1;33m=\u001b[0m \u001b[0mscorer\u001b[0m\u001b[1;33m(\u001b[0m\u001b[0mestimator\u001b[0m\u001b[1;33m,\u001b[0m \u001b[0mX_test\u001b[0m\u001b[1;33m,\u001b[0m \u001b[0my_test\u001b[0m\u001b[1;33m)\u001b[0m\u001b[1;33m\u001b[0m\u001b[1;33m\u001b[0m\u001b[0m\n\u001b[0m\u001b[0;32m    608\u001b[0m \u001b[1;33m\u001b[0m\u001b[0m\n\u001b[0;32m    609\u001b[0m     error_msg = (\"scoring must return a number, got %s (%s) \"\n",
      "\u001b[1;32m~\\anaconda3\\envs\\dsi\\lib\\site-packages\\sklearn\\metrics\\_scorer.py\u001b[0m in \u001b[0;36m__call__\u001b[1;34m(self, estimator, *args, **kwargs)\u001b[0m\n\u001b[0;32m     88\u001b[0m                                       *args, **kwargs)\n\u001b[0;32m     89\u001b[0m             \u001b[1;32melse\u001b[0m\u001b[1;33m:\u001b[0m\u001b[1;33m\u001b[0m\u001b[1;33m\u001b[0m\u001b[0m\n\u001b[1;32m---> 90\u001b[1;33m                 \u001b[0mscore\u001b[0m \u001b[1;33m=\u001b[0m \u001b[0mscorer\u001b[0m\u001b[1;33m(\u001b[0m\u001b[0mestimator\u001b[0m\u001b[1;33m,\u001b[0m \u001b[1;33m*\u001b[0m\u001b[0margs\u001b[0m\u001b[1;33m,\u001b[0m \u001b[1;33m**\u001b[0m\u001b[0mkwargs\u001b[0m\u001b[1;33m)\u001b[0m\u001b[1;33m\u001b[0m\u001b[1;33m\u001b[0m\u001b[0m\n\u001b[0m\u001b[0;32m     91\u001b[0m             \u001b[0mscores\u001b[0m\u001b[1;33m[\u001b[0m\u001b[0mname\u001b[0m\u001b[1;33m]\u001b[0m \u001b[1;33m=\u001b[0m \u001b[0mscore\u001b[0m\u001b[1;33m\u001b[0m\u001b[1;33m\u001b[0m\u001b[0m\n\u001b[0;32m     92\u001b[0m         \u001b[1;32mreturn\u001b[0m \u001b[0mscores\u001b[0m\u001b[1;33m\u001b[0m\u001b[1;33m\u001b[0m\u001b[0m\n",
      "\u001b[1;32m~\\anaconda3\\envs\\dsi\\lib\\site-packages\\sklearn\\metrics\\_scorer.py\u001b[0m in \u001b[0;36m_passthrough_scorer\u001b[1;34m(estimator, *args, **kwargs)\u001b[0m\n\u001b[0;32m    370\u001b[0m \u001b[1;32mdef\u001b[0m \u001b[0m_passthrough_scorer\u001b[0m\u001b[1;33m(\u001b[0m\u001b[0mestimator\u001b[0m\u001b[1;33m,\u001b[0m \u001b[1;33m*\u001b[0m\u001b[0margs\u001b[0m\u001b[1;33m,\u001b[0m \u001b[1;33m**\u001b[0m\u001b[0mkwargs\u001b[0m\u001b[1;33m)\u001b[0m\u001b[1;33m:\u001b[0m\u001b[1;33m\u001b[0m\u001b[1;33m\u001b[0m\u001b[0m\n\u001b[0;32m    371\u001b[0m     \u001b[1;34m\"\"\"Function that wraps estimator.score\"\"\"\u001b[0m\u001b[1;33m\u001b[0m\u001b[1;33m\u001b[0m\u001b[0m\n\u001b[1;32m--> 372\u001b[1;33m     \u001b[1;32mreturn\u001b[0m \u001b[0mestimator\u001b[0m\u001b[1;33m.\u001b[0m\u001b[0mscore\u001b[0m\u001b[1;33m(\u001b[0m\u001b[1;33m*\u001b[0m\u001b[0margs\u001b[0m\u001b[1;33m,\u001b[0m \u001b[1;33m**\u001b[0m\u001b[0mkwargs\u001b[0m\u001b[1;33m)\u001b[0m\u001b[1;33m\u001b[0m\u001b[1;33m\u001b[0m\u001b[0m\n\u001b[0m\u001b[0;32m    373\u001b[0m \u001b[1;33m\u001b[0m\u001b[0m\n\u001b[0;32m    374\u001b[0m \u001b[1;33m\u001b[0m\u001b[0m\n",
      "\u001b[1;32m~\\anaconda3\\envs\\dsi\\lib\\site-packages\\sklearn\\utils\\metaestimators.py\u001b[0m in \u001b[0;36m<lambda>\u001b[1;34m(*args, **kwargs)\u001b[0m\n\u001b[0;32m    117\u001b[0m \u001b[1;33m\u001b[0m\u001b[0m\n\u001b[0;32m    118\u001b[0m         \u001b[1;31m# lambda, but not partial, allows help() to work with update_wrapper\u001b[0m\u001b[1;33m\u001b[0m\u001b[1;33m\u001b[0m\u001b[1;33m\u001b[0m\u001b[0m\n\u001b[1;32m--> 119\u001b[1;33m         \u001b[0mout\u001b[0m \u001b[1;33m=\u001b[0m \u001b[1;32mlambda\u001b[0m \u001b[1;33m*\u001b[0m\u001b[0margs\u001b[0m\u001b[1;33m,\u001b[0m \u001b[1;33m**\u001b[0m\u001b[0mkwargs\u001b[0m\u001b[1;33m:\u001b[0m \u001b[0mself\u001b[0m\u001b[1;33m.\u001b[0m\u001b[0mfn\u001b[0m\u001b[1;33m(\u001b[0m\u001b[0mobj\u001b[0m\u001b[1;33m,\u001b[0m \u001b[1;33m*\u001b[0m\u001b[0margs\u001b[0m\u001b[1;33m,\u001b[0m \u001b[1;33m**\u001b[0m\u001b[0mkwargs\u001b[0m\u001b[1;33m)\u001b[0m\u001b[1;33m\u001b[0m\u001b[1;33m\u001b[0m\u001b[0m\n\u001b[0m\u001b[0;32m    120\u001b[0m         \u001b[1;31m# update the docstring of the returned function\u001b[0m\u001b[1;33m\u001b[0m\u001b[1;33m\u001b[0m\u001b[1;33m\u001b[0m\u001b[0m\n\u001b[0;32m    121\u001b[0m         \u001b[0mupdate_wrapper\u001b[0m\u001b[1;33m(\u001b[0m\u001b[0mout\u001b[0m\u001b[1;33m,\u001b[0m \u001b[0mself\u001b[0m\u001b[1;33m.\u001b[0m\u001b[0mfn\u001b[0m\u001b[1;33m)\u001b[0m\u001b[1;33m\u001b[0m\u001b[1;33m\u001b[0m\u001b[0m\n",
      "\u001b[1;32m~\\anaconda3\\envs\\dsi\\lib\\site-packages\\sklearn\\pipeline.py\u001b[0m in \u001b[0;36mscore\u001b[1;34m(self, X, y, sample_weight)\u001b[0m\n\u001b[0;32m    609\u001b[0m         \u001b[1;32mif\u001b[0m \u001b[0msample_weight\u001b[0m \u001b[1;32mis\u001b[0m \u001b[1;32mnot\u001b[0m \u001b[1;32mNone\u001b[0m\u001b[1;33m:\u001b[0m\u001b[1;33m\u001b[0m\u001b[1;33m\u001b[0m\u001b[0m\n\u001b[0;32m    610\u001b[0m             \u001b[0mscore_params\u001b[0m\u001b[1;33m[\u001b[0m\u001b[1;34m'sample_weight'\u001b[0m\u001b[1;33m]\u001b[0m \u001b[1;33m=\u001b[0m \u001b[0msample_weight\u001b[0m\u001b[1;33m\u001b[0m\u001b[1;33m\u001b[0m\u001b[0m\n\u001b[1;32m--> 611\u001b[1;33m         \u001b[1;32mreturn\u001b[0m \u001b[0mself\u001b[0m\u001b[1;33m.\u001b[0m\u001b[0msteps\u001b[0m\u001b[1;33m[\u001b[0m\u001b[1;33m-\u001b[0m\u001b[1;36m1\u001b[0m\u001b[1;33m]\u001b[0m\u001b[1;33m[\u001b[0m\u001b[1;33m-\u001b[0m\u001b[1;36m1\u001b[0m\u001b[1;33m]\u001b[0m\u001b[1;33m.\u001b[0m\u001b[0mscore\u001b[0m\u001b[1;33m(\u001b[0m\u001b[0mXt\u001b[0m\u001b[1;33m,\u001b[0m \u001b[0my\u001b[0m\u001b[1;33m,\u001b[0m \u001b[1;33m**\u001b[0m\u001b[0mscore_params\u001b[0m\u001b[1;33m)\u001b[0m\u001b[1;33m\u001b[0m\u001b[1;33m\u001b[0m\u001b[0m\n\u001b[0m\u001b[0;32m    612\u001b[0m \u001b[1;33m\u001b[0m\u001b[0m\n\u001b[0;32m    613\u001b[0m     \u001b[1;33m@\u001b[0m\u001b[0mproperty\u001b[0m\u001b[1;33m\u001b[0m\u001b[1;33m\u001b[0m\u001b[0m\n",
      "\u001b[1;32m~\\anaconda3\\envs\\dsi\\lib\\site-packages\\sklearn\\base.py\u001b[0m in \u001b[0;36mscore\u001b[1;34m(self, X, y, sample_weight)\u001b[0m\n\u001b[0;32m    549\u001b[0m \u001b[1;33m\u001b[0m\u001b[0m\n\u001b[0;32m    550\u001b[0m         \u001b[1;32mfrom\u001b[0m \u001b[1;33m.\u001b[0m\u001b[0mmetrics\u001b[0m \u001b[1;32mimport\u001b[0m \u001b[0mr2_score\u001b[0m\u001b[1;33m\u001b[0m\u001b[1;33m\u001b[0m\u001b[0m\n\u001b[1;32m--> 551\u001b[1;33m         \u001b[0my_pred\u001b[0m \u001b[1;33m=\u001b[0m \u001b[0mself\u001b[0m\u001b[1;33m.\u001b[0m\u001b[0mpredict\u001b[0m\u001b[1;33m(\u001b[0m\u001b[0mX\u001b[0m\u001b[1;33m)\u001b[0m\u001b[1;33m\u001b[0m\u001b[1;33m\u001b[0m\u001b[0m\n\u001b[0m\u001b[0;32m    552\u001b[0m         \u001b[1;32mreturn\u001b[0m \u001b[0mr2_score\u001b[0m\u001b[1;33m(\u001b[0m\u001b[0my\u001b[0m\u001b[1;33m,\u001b[0m \u001b[0my_pred\u001b[0m\u001b[1;33m,\u001b[0m \u001b[0msample_weight\u001b[0m\u001b[1;33m=\u001b[0m\u001b[0msample_weight\u001b[0m\u001b[1;33m)\u001b[0m\u001b[1;33m\u001b[0m\u001b[1;33m\u001b[0m\u001b[0m\n\u001b[0;32m    553\u001b[0m \u001b[1;33m\u001b[0m\u001b[0m\n",
      "\u001b[1;32m~\\anaconda3\\envs\\dsi\\lib\\site-packages\\sklearn\\neighbors\\_regression.py\u001b[0m in \u001b[0;36mpredict\u001b[1;34m(self, X)\u001b[0m\n\u001b[0;32m    174\u001b[0m         \u001b[0mX\u001b[0m \u001b[1;33m=\u001b[0m \u001b[0mcheck_array\u001b[0m\u001b[1;33m(\u001b[0m\u001b[0mX\u001b[0m\u001b[1;33m,\u001b[0m \u001b[0maccept_sparse\u001b[0m\u001b[1;33m=\u001b[0m\u001b[1;34m'csr'\u001b[0m\u001b[1;33m)\u001b[0m\u001b[1;33m\u001b[0m\u001b[1;33m\u001b[0m\u001b[0m\n\u001b[0;32m    175\u001b[0m \u001b[1;33m\u001b[0m\u001b[0m\n\u001b[1;32m--> 176\u001b[1;33m         \u001b[0mneigh_dist\u001b[0m\u001b[1;33m,\u001b[0m \u001b[0mneigh_ind\u001b[0m \u001b[1;33m=\u001b[0m \u001b[0mself\u001b[0m\u001b[1;33m.\u001b[0m\u001b[0mkneighbors\u001b[0m\u001b[1;33m(\u001b[0m\u001b[0mX\u001b[0m\u001b[1;33m)\u001b[0m\u001b[1;33m\u001b[0m\u001b[1;33m\u001b[0m\u001b[0m\n\u001b[0m\u001b[0;32m    177\u001b[0m \u001b[1;33m\u001b[0m\u001b[0m\n\u001b[0;32m    178\u001b[0m         \u001b[0mweights\u001b[0m \u001b[1;33m=\u001b[0m \u001b[0m_get_weights\u001b[0m\u001b[1;33m(\u001b[0m\u001b[0mneigh_dist\u001b[0m\u001b[1;33m,\u001b[0m \u001b[0mself\u001b[0m\u001b[1;33m.\u001b[0m\u001b[0mweights\u001b[0m\u001b[1;33m)\u001b[0m\u001b[1;33m\u001b[0m\u001b[1;33m\u001b[0m\u001b[0m\n",
      "\u001b[1;32m~\\anaconda3\\envs\\dsi\\lib\\site-packages\\sklearn\\neighbors\\_base.py\u001b[0m in \u001b[0;36mkneighbors\u001b[1;34m(self, X, n_neighbors, return_distance)\u001b[0m\n\u001b[0;32m    660\u001b[0m                 \u001b[0mdelayed_query\u001b[0m \u001b[1;33m=\u001b[0m \u001b[0mdelayed\u001b[0m\u001b[1;33m(\u001b[0m\u001b[0m_tree_query_parallel_helper\u001b[0m\u001b[1;33m)\u001b[0m\u001b[1;33m\u001b[0m\u001b[1;33m\u001b[0m\u001b[0m\n\u001b[0;32m    661\u001b[0m                 \u001b[0mparallel_kwargs\u001b[0m \u001b[1;33m=\u001b[0m \u001b[1;33m{\u001b[0m\u001b[1;34m\"prefer\"\u001b[0m\u001b[1;33m:\u001b[0m \u001b[1;34m\"threads\"\u001b[0m\u001b[1;33m}\u001b[0m\u001b[1;33m\u001b[0m\u001b[1;33m\u001b[0m\u001b[0m\n\u001b[1;32m--> 662\u001b[1;33m             chunked_results = Parallel(n_jobs, **parallel_kwargs)(\n\u001b[0m\u001b[0;32m    663\u001b[0m                 delayed_query(\n\u001b[0;32m    664\u001b[0m                     self._tree, X[s], n_neighbors, return_distance)\n",
      "\u001b[1;32m~\\anaconda3\\envs\\dsi\\lib\\site-packages\\joblib\\parallel.py\u001b[0m in \u001b[0;36m__call__\u001b[1;34m(self, iterable)\u001b[0m\n\u001b[0;32m   1046\u001b[0m             \u001b[1;31m# remaining jobs.\u001b[0m\u001b[1;33m\u001b[0m\u001b[1;33m\u001b[0m\u001b[1;33m\u001b[0m\u001b[0m\n\u001b[0;32m   1047\u001b[0m             \u001b[0mself\u001b[0m\u001b[1;33m.\u001b[0m\u001b[0m_iterating\u001b[0m \u001b[1;33m=\u001b[0m \u001b[1;32mFalse\u001b[0m\u001b[1;33m\u001b[0m\u001b[1;33m\u001b[0m\u001b[0m\n\u001b[1;32m-> 1048\u001b[1;33m             \u001b[1;32mif\u001b[0m \u001b[0mself\u001b[0m\u001b[1;33m.\u001b[0m\u001b[0mdispatch_one_batch\u001b[0m\u001b[1;33m(\u001b[0m\u001b[0miterator\u001b[0m\u001b[1;33m)\u001b[0m\u001b[1;33m:\u001b[0m\u001b[1;33m\u001b[0m\u001b[1;33m\u001b[0m\u001b[0m\n\u001b[0m\u001b[0;32m   1049\u001b[0m                 \u001b[0mself\u001b[0m\u001b[1;33m.\u001b[0m\u001b[0m_iterating\u001b[0m \u001b[1;33m=\u001b[0m \u001b[0mself\u001b[0m\u001b[1;33m.\u001b[0m\u001b[0m_original_iterator\u001b[0m \u001b[1;32mis\u001b[0m \u001b[1;32mnot\u001b[0m \u001b[1;32mNone\u001b[0m\u001b[1;33m\u001b[0m\u001b[1;33m\u001b[0m\u001b[0m\n\u001b[0;32m   1050\u001b[0m \u001b[1;33m\u001b[0m\u001b[0m\n",
      "\u001b[1;32m~\\anaconda3\\envs\\dsi\\lib\\site-packages\\joblib\\parallel.py\u001b[0m in \u001b[0;36mdispatch_one_batch\u001b[1;34m(self, iterator)\u001b[0m\n\u001b[0;32m    864\u001b[0m                 \u001b[1;32mreturn\u001b[0m \u001b[1;32mFalse\u001b[0m\u001b[1;33m\u001b[0m\u001b[1;33m\u001b[0m\u001b[0m\n\u001b[0;32m    865\u001b[0m             \u001b[1;32melse\u001b[0m\u001b[1;33m:\u001b[0m\u001b[1;33m\u001b[0m\u001b[1;33m\u001b[0m\u001b[0m\n\u001b[1;32m--> 866\u001b[1;33m                 \u001b[0mself\u001b[0m\u001b[1;33m.\u001b[0m\u001b[0m_dispatch\u001b[0m\u001b[1;33m(\u001b[0m\u001b[0mtasks\u001b[0m\u001b[1;33m)\u001b[0m\u001b[1;33m\u001b[0m\u001b[1;33m\u001b[0m\u001b[0m\n\u001b[0m\u001b[0;32m    867\u001b[0m                 \u001b[1;32mreturn\u001b[0m \u001b[1;32mTrue\u001b[0m\u001b[1;33m\u001b[0m\u001b[1;33m\u001b[0m\u001b[0m\n\u001b[0;32m    868\u001b[0m \u001b[1;33m\u001b[0m\u001b[0m\n",
      "\u001b[1;32m~\\anaconda3\\envs\\dsi\\lib\\site-packages\\joblib\\parallel.py\u001b[0m in \u001b[0;36m_dispatch\u001b[1;34m(self, batch)\u001b[0m\n\u001b[0;32m    782\u001b[0m         \u001b[1;32mwith\u001b[0m \u001b[0mself\u001b[0m\u001b[1;33m.\u001b[0m\u001b[0m_lock\u001b[0m\u001b[1;33m:\u001b[0m\u001b[1;33m\u001b[0m\u001b[1;33m\u001b[0m\u001b[0m\n\u001b[0;32m    783\u001b[0m             \u001b[0mjob_idx\u001b[0m \u001b[1;33m=\u001b[0m \u001b[0mlen\u001b[0m\u001b[1;33m(\u001b[0m\u001b[0mself\u001b[0m\u001b[1;33m.\u001b[0m\u001b[0m_jobs\u001b[0m\u001b[1;33m)\u001b[0m\u001b[1;33m\u001b[0m\u001b[1;33m\u001b[0m\u001b[0m\n\u001b[1;32m--> 784\u001b[1;33m             \u001b[0mjob\u001b[0m \u001b[1;33m=\u001b[0m \u001b[0mself\u001b[0m\u001b[1;33m.\u001b[0m\u001b[0m_backend\u001b[0m\u001b[1;33m.\u001b[0m\u001b[0mapply_async\u001b[0m\u001b[1;33m(\u001b[0m\u001b[0mbatch\u001b[0m\u001b[1;33m,\u001b[0m \u001b[0mcallback\u001b[0m\u001b[1;33m=\u001b[0m\u001b[0mcb\u001b[0m\u001b[1;33m)\u001b[0m\u001b[1;33m\u001b[0m\u001b[1;33m\u001b[0m\u001b[0m\n\u001b[0m\u001b[0;32m    785\u001b[0m             \u001b[1;31m# A job can complete so quickly than its callback is\u001b[0m\u001b[1;33m\u001b[0m\u001b[1;33m\u001b[0m\u001b[1;33m\u001b[0m\u001b[0m\n\u001b[0;32m    786\u001b[0m             \u001b[1;31m# called before we get here, causing self._jobs to\u001b[0m\u001b[1;33m\u001b[0m\u001b[1;33m\u001b[0m\u001b[1;33m\u001b[0m\u001b[0m\n",
      "\u001b[1;32m~\\anaconda3\\envs\\dsi\\lib\\site-packages\\joblib\\_parallel_backends.py\u001b[0m in \u001b[0;36mapply_async\u001b[1;34m(self, func, callback)\u001b[0m\n\u001b[0;32m    206\u001b[0m     \u001b[1;32mdef\u001b[0m \u001b[0mapply_async\u001b[0m\u001b[1;33m(\u001b[0m\u001b[0mself\u001b[0m\u001b[1;33m,\u001b[0m \u001b[0mfunc\u001b[0m\u001b[1;33m,\u001b[0m \u001b[0mcallback\u001b[0m\u001b[1;33m=\u001b[0m\u001b[1;32mNone\u001b[0m\u001b[1;33m)\u001b[0m\u001b[1;33m:\u001b[0m\u001b[1;33m\u001b[0m\u001b[1;33m\u001b[0m\u001b[0m\n\u001b[0;32m    207\u001b[0m         \u001b[1;34m\"\"\"Schedule a func to be run\"\"\"\u001b[0m\u001b[1;33m\u001b[0m\u001b[1;33m\u001b[0m\u001b[0m\n\u001b[1;32m--> 208\u001b[1;33m         \u001b[0mresult\u001b[0m \u001b[1;33m=\u001b[0m \u001b[0mImmediateResult\u001b[0m\u001b[1;33m(\u001b[0m\u001b[0mfunc\u001b[0m\u001b[1;33m)\u001b[0m\u001b[1;33m\u001b[0m\u001b[1;33m\u001b[0m\u001b[0m\n\u001b[0m\u001b[0;32m    209\u001b[0m         \u001b[1;32mif\u001b[0m \u001b[0mcallback\u001b[0m\u001b[1;33m:\u001b[0m\u001b[1;33m\u001b[0m\u001b[1;33m\u001b[0m\u001b[0m\n\u001b[0;32m    210\u001b[0m             \u001b[0mcallback\u001b[0m\u001b[1;33m(\u001b[0m\u001b[0mresult\u001b[0m\u001b[1;33m)\u001b[0m\u001b[1;33m\u001b[0m\u001b[1;33m\u001b[0m\u001b[0m\n",
      "\u001b[1;32m~\\anaconda3\\envs\\dsi\\lib\\site-packages\\joblib\\_parallel_backends.py\u001b[0m in \u001b[0;36m__init__\u001b[1;34m(self, batch)\u001b[0m\n\u001b[0;32m    570\u001b[0m         \u001b[1;31m# Don't delay the application, to avoid keeping the input\u001b[0m\u001b[1;33m\u001b[0m\u001b[1;33m\u001b[0m\u001b[1;33m\u001b[0m\u001b[0m\n\u001b[0;32m    571\u001b[0m         \u001b[1;31m# arguments in memory\u001b[0m\u001b[1;33m\u001b[0m\u001b[1;33m\u001b[0m\u001b[1;33m\u001b[0m\u001b[0m\n\u001b[1;32m--> 572\u001b[1;33m         \u001b[0mself\u001b[0m\u001b[1;33m.\u001b[0m\u001b[0mresults\u001b[0m \u001b[1;33m=\u001b[0m \u001b[0mbatch\u001b[0m\u001b[1;33m(\u001b[0m\u001b[1;33m)\u001b[0m\u001b[1;33m\u001b[0m\u001b[1;33m\u001b[0m\u001b[0m\n\u001b[0m\u001b[0;32m    573\u001b[0m \u001b[1;33m\u001b[0m\u001b[0m\n\u001b[0;32m    574\u001b[0m     \u001b[1;32mdef\u001b[0m \u001b[0mget\u001b[0m\u001b[1;33m(\u001b[0m\u001b[0mself\u001b[0m\u001b[1;33m)\u001b[0m\u001b[1;33m:\u001b[0m\u001b[1;33m\u001b[0m\u001b[1;33m\u001b[0m\u001b[0m\n",
      "\u001b[1;32m~\\anaconda3\\envs\\dsi\\lib\\site-packages\\joblib\\parallel.py\u001b[0m in \u001b[0;36m__call__\u001b[1;34m(self)\u001b[0m\n\u001b[0;32m    260\u001b[0m         \u001b[1;31m# change the default number of processes to -1\u001b[0m\u001b[1;33m\u001b[0m\u001b[1;33m\u001b[0m\u001b[1;33m\u001b[0m\u001b[0m\n\u001b[0;32m    261\u001b[0m         \u001b[1;32mwith\u001b[0m \u001b[0mparallel_backend\u001b[0m\u001b[1;33m(\u001b[0m\u001b[0mself\u001b[0m\u001b[1;33m.\u001b[0m\u001b[0m_backend\u001b[0m\u001b[1;33m,\u001b[0m \u001b[0mn_jobs\u001b[0m\u001b[1;33m=\u001b[0m\u001b[0mself\u001b[0m\u001b[1;33m.\u001b[0m\u001b[0m_n_jobs\u001b[0m\u001b[1;33m)\u001b[0m\u001b[1;33m:\u001b[0m\u001b[1;33m\u001b[0m\u001b[1;33m\u001b[0m\u001b[0m\n\u001b[1;32m--> 262\u001b[1;33m             return [func(*args, **kwargs)\n\u001b[0m\u001b[0;32m    263\u001b[0m                     for func, args, kwargs in self.items]\n\u001b[0;32m    264\u001b[0m \u001b[1;33m\u001b[0m\u001b[0m\n",
      "\u001b[1;32m~\\anaconda3\\envs\\dsi\\lib\\site-packages\\joblib\\parallel.py\u001b[0m in \u001b[0;36m<listcomp>\u001b[1;34m(.0)\u001b[0m\n\u001b[0;32m    260\u001b[0m         \u001b[1;31m# change the default number of processes to -1\u001b[0m\u001b[1;33m\u001b[0m\u001b[1;33m\u001b[0m\u001b[1;33m\u001b[0m\u001b[0m\n\u001b[0;32m    261\u001b[0m         \u001b[1;32mwith\u001b[0m \u001b[0mparallel_backend\u001b[0m\u001b[1;33m(\u001b[0m\u001b[0mself\u001b[0m\u001b[1;33m.\u001b[0m\u001b[0m_backend\u001b[0m\u001b[1;33m,\u001b[0m \u001b[0mn_jobs\u001b[0m\u001b[1;33m=\u001b[0m\u001b[0mself\u001b[0m\u001b[1;33m.\u001b[0m\u001b[0m_n_jobs\u001b[0m\u001b[1;33m)\u001b[0m\u001b[1;33m:\u001b[0m\u001b[1;33m\u001b[0m\u001b[1;33m\u001b[0m\u001b[0m\n\u001b[1;32m--> 262\u001b[1;33m             return [func(*args, **kwargs)\n\u001b[0m\u001b[0;32m    263\u001b[0m                     for func, args, kwargs in self.items]\n\u001b[0;32m    264\u001b[0m \u001b[1;33m\u001b[0m\u001b[0m\n",
      "\u001b[1;32m~\\anaconda3\\envs\\dsi\\lib\\site-packages\\sklearn\\neighbors\\_base.py\u001b[0m in \u001b[0;36m_tree_query_parallel_helper\u001b[1;34m(tree, *args, **kwargs)\u001b[0m\n\u001b[0;32m    490\u001b[0m     \u001b[0munder\u001b[0m \u001b[0mPyPy\u001b[0m\u001b[1;33m.\u001b[0m\u001b[1;33m\u001b[0m\u001b[1;33m\u001b[0m\u001b[0m\n\u001b[0;32m    491\u001b[0m     \"\"\"\n\u001b[1;32m--> 492\u001b[1;33m     \u001b[1;32mreturn\u001b[0m \u001b[0mtree\u001b[0m\u001b[1;33m.\u001b[0m\u001b[0mquery\u001b[0m\u001b[1;33m(\u001b[0m\u001b[1;33m*\u001b[0m\u001b[0margs\u001b[0m\u001b[1;33m,\u001b[0m \u001b[1;33m**\u001b[0m\u001b[0mkwargs\u001b[0m\u001b[1;33m)\u001b[0m\u001b[1;33m\u001b[0m\u001b[1;33m\u001b[0m\u001b[0m\n\u001b[0m\u001b[0;32m    493\u001b[0m \u001b[1;33m\u001b[0m\u001b[0m\n\u001b[0;32m    494\u001b[0m \u001b[1;33m\u001b[0m\u001b[0m\n",
      "\u001b[1;31mKeyboardInterrupt\u001b[0m: "
     ]
    }
   ],
   "source": [
    "pipe = Pipeline(([\n",
    "    ('sc', StandardScaler()),\n",
    "    ('knn', KNeighborsRegressor())\n",
    "]))\n",
    "\n",
    "\n",
    "pipe_params = {\n",
    "    'sc__with_mean':[True, False],\n",
    "    'sc__with_std':[True, False],\n",
    "    'knn__n_neighbors':[3, 5, 7, 11, 25],\n",
    "    'knn__weights' : ['uniform', 'distance']\n",
    "}\n",
    "\n",
    "\n",
    "pipe_gridsearch = GridSearchCV(pipe, \n",
    "                                 pipe_params, \n",
    "                                 cv=5, \n",
    "                                 verbose=1)\n",
    "\n",
    "pipe_gridsearch.fit(X3_train,y_train)"
   ]
  },
  {
   "cell_type": "code",
   "execution_count": null,
   "metadata": {},
   "outputs": [],
   "source": [
    "pp = pipe_gridsearch.predict(X3_test)\n",
    "\n",
    "\n",
    "metrics.mean_squared_error(y_test,pp) **0.5"
   ]
  },
  {
   "cell_type": "code",
   "execution_count": 450,
   "metadata": {},
   "outputs": [],
   "source": [
    "train_df = pd.read_csv('./datasets/train.csv')\n",
    "\n",
    "test_df = pd.read_csv('./datasets/test.csv')\n",
    "index = test_df['Id']"
   ]
  },
  {
   "cell_type": "code",
   "execution_count": 451,
   "metadata": {},
   "outputs": [],
   "source": [
    "f = [\"Overall Qual\",'Gr Liv Area','Garage Area','Garage Cars','Total Bsmt SF',\n",
    "            '1st Flr SF','Year Built','Garage Yr Blt','Full Bath','Year Remod/Add',\n",
    "            'TotRms AbvGrd','Mas Vnr Area','Fireplaces','BsmtFin SF 1',\n",
    " 'Lot Frontage','Lot Area', 'Lot Shape',\n",
    "'Overall Cond','Mas Vnr Type','Exter Qual','Exter Cond','Bsmt Qual','Bsmt Cond','BsmtFin Type 1',\n",
    "'Heating QC','Central Air','Fireplace Qu','Garage Type','Garage Qual','Garage Cond','SalePrice']"
   ]
  },
  {
   "cell_type": "code",
   "execution_count": 452,
   "metadata": {},
   "outputs": [],
   "source": [
    "#train_df.fillna('NAP', inplace=True)\n",
    "df_good  = train_df[f]"
   ]
  },
  {
   "cell_type": "code",
   "execution_count": 453,
   "metadata": {},
   "outputs": [
    {
     "data": {
      "text/plain": [
       "Overall Qual         0\n",
       "Gr Liv Area          0\n",
       "Garage Area          1\n",
       "Garage Cars          1\n",
       "Total Bsmt SF        1\n",
       "1st Flr SF           0\n",
       "Year Built           0\n",
       "Garage Yr Blt      114\n",
       "Full Bath            0\n",
       "Year Remod/Add       0\n",
       "TotRms AbvGrd        0\n",
       "Mas Vnr Area        22\n",
       "Fireplaces           0\n",
       "BsmtFin SF 1         1\n",
       "Lot Frontage       330\n",
       "Lot Area             0\n",
       "Lot Shape            0\n",
       "Overall Cond         0\n",
       "Mas Vnr Type        22\n",
       "Exter Qual           0\n",
       "Exter Cond           0\n",
       "Bsmt Qual           55\n",
       "Bsmt Cond           55\n",
       "BsmtFin Type 1      55\n",
       "Heating QC           0\n",
       "Central Air          0\n",
       "Fireplace Qu      1000\n",
       "Garage Type        113\n",
       "Garage Qual        114\n",
       "Garage Cond        114\n",
       "SalePrice            0\n",
       "dtype: int64"
      ]
     },
     "execution_count": 453,
     "metadata": {},
     "output_type": "execute_result"
    }
   ],
   "source": [
    "df_good.isnull().sum()"
   ]
  },
  {
   "cell_type": "code",
   "execution_count": 454,
   "metadata": {},
   "outputs": [
    {
     "name": "stderr",
     "output_type": "stream",
     "text": [
      "C:\\Users\\tonyt\\anaconda3\\envs\\dsi\\lib\\site-packages\\pandas\\core\\series.py:4517: SettingWithCopyWarning: \n",
      "A value is trying to be set on a copy of a slice from a DataFrame\n",
      "\n",
      "See the caveats in the documentation: https://pandas.pydata.org/pandas-docs/stable/user_guide/indexing.html#returning-a-view-versus-a-copy\n",
      "  return super().fillna(\n",
      "C:\\Users\\tonyt\\anaconda3\\envs\\dsi\\lib\\site-packages\\pandas\\core\\frame.py:4317: SettingWithCopyWarning: \n",
      "A value is trying to be set on a copy of a slice from a DataFrame\n",
      "\n",
      "See the caveats in the documentation: https://pandas.pydata.org/pandas-docs/stable/user_guide/indexing.html#returning-a-view-versus-a-copy\n",
      "  return super().fillna(\n"
     ]
    }
   ],
   "source": [
    "# df_good.dropna(subset=['Garage Area', 'Garage Cars','Total Bsmt SF','Garage Yr Blt',\n",
    "#                        'Mas Vnr Area','BsmtFin SF 1','Lot Frontage'], inplace = True)\n",
    "df_good.fillna(df_good.mean(), inplace = True)\n",
    "df_good.fillna('NAP', inplace=True)\n"
   ]
  },
  {
   "cell_type": "code",
   "execution_count": 455,
   "metadata": {},
   "outputs": [
    {
     "name": "stdout",
     "output_type": "stream",
     "text": [
      "<class 'pandas.core.frame.DataFrame'>\n",
      "RangeIndex: 2051 entries, 0 to 2050\n",
      "Data columns (total 31 columns):\n",
      " #   Column          Non-Null Count  Dtype  \n",
      "---  ------          --------------  -----  \n",
      " 0   Overall Qual    2051 non-null   int64  \n",
      " 1   Gr Liv Area     2051 non-null   int64  \n",
      " 2   Garage Area     2051 non-null   float64\n",
      " 3   Garage Cars     2051 non-null   float64\n",
      " 4   Total Bsmt SF   2051 non-null   float64\n",
      " 5   1st Flr SF      2051 non-null   int64  \n",
      " 6   Year Built      2051 non-null   int64  \n",
      " 7   Garage Yr Blt   2051 non-null   float64\n",
      " 8   Full Bath       2051 non-null   int64  \n",
      " 9   Year Remod/Add  2051 non-null   int64  \n",
      " 10  TotRms AbvGrd   2051 non-null   int64  \n",
      " 11  Mas Vnr Area    2051 non-null   float64\n",
      " 12  Fireplaces      2051 non-null   int64  \n",
      " 13  BsmtFin SF 1    2051 non-null   float64\n",
      " 14  Lot Frontage    2051 non-null   float64\n",
      " 15  Lot Area        2051 non-null   int64  \n",
      " 16  Lot Shape       2051 non-null   object \n",
      " 17  Overall Cond    2051 non-null   int64  \n",
      " 18  Mas Vnr Type    2051 non-null   object \n",
      " 19  Exter Qual      2051 non-null   object \n",
      " 20  Exter Cond      2051 non-null   object \n",
      " 21  Bsmt Qual       2051 non-null   object \n",
      " 22  Bsmt Cond       2051 non-null   object \n",
      " 23  BsmtFin Type 1  2051 non-null   object \n",
      " 24  Heating QC      2051 non-null   object \n",
      " 25  Central Air     2051 non-null   object \n",
      " 26  Fireplace Qu    2051 non-null   object \n",
      " 27  Garage Type     2051 non-null   object \n",
      " 28  Garage Qual     2051 non-null   object \n",
      " 29  Garage Cond     2051 non-null   object \n",
      " 30  SalePrice       2051 non-null   int64  \n",
      "dtypes: float64(7), int64(11), object(13)\n",
      "memory usage: 496.9+ KB\n"
     ]
    }
   ],
   "source": [
    "df_good.info()"
   ]
  },
  {
   "cell_type": "code",
   "execution_count": 456,
   "metadata": {},
   "outputs": [
    {
     "name": "stderr",
     "output_type": "stream",
     "text": [
      "<ipython-input-456-27304ac280a1>:1: SettingWithCopyWarning: \n",
      "A value is trying to be set on a copy of a slice from a DataFrame.\n",
      "Try using .loc[row_indexer,col_indexer] = value instead\n",
      "\n",
      "See the caveats in the documentation: https://pandas.pydata.org/pandas-docs/stable/user_guide/indexing.html#returning-a-view-versus-a-copy\n",
      "  df_good['Lot Shape'] = df_good['Lot Shape'].replace({'IR1':3, 'IR2':2,'IR3':1,'Reg':4, 'NAP':0})\n",
      "<ipython-input-456-27304ac280a1>:3: SettingWithCopyWarning: \n",
      "A value is trying to be set on a copy of a slice from a DataFrame.\n",
      "Try using .loc[row_indexer,col_indexer] = value instead\n",
      "\n",
      "See the caveats in the documentation: https://pandas.pydata.org/pandas-docs/stable/user_guide/indexing.html#returning-a-view-versus-a-copy\n",
      "  df_good['Exter Qual'] = df_good['Exter Qual'].replace({'Ex':5, 'Gd':4,'TA':3,'Fa':2, 'Po':1, 'NAP':0})\n",
      "<ipython-input-456-27304ac280a1>:5: SettingWithCopyWarning: \n",
      "A value is trying to be set on a copy of a slice from a DataFrame.\n",
      "Try using .loc[row_indexer,col_indexer] = value instead\n",
      "\n",
      "See the caveats in the documentation: https://pandas.pydata.org/pandas-docs/stable/user_guide/indexing.html#returning-a-view-versus-a-copy\n",
      "  df_good['Exter Cond'] = df_good['Exter Cond'].replace({'Ex':5, 'Gd':4,'TA':3,'Fa':2, 'Po':1, 'NAP':0})\n",
      "<ipython-input-456-27304ac280a1>:7: SettingWithCopyWarning: \n",
      "A value is trying to be set on a copy of a slice from a DataFrame.\n",
      "Try using .loc[row_indexer,col_indexer] = value instead\n",
      "\n",
      "See the caveats in the documentation: https://pandas.pydata.org/pandas-docs/stable/user_guide/indexing.html#returning-a-view-versus-a-copy\n",
      "  df_good['Bsmt Qual'] = df_good['Bsmt Qual'].replace({'Ex':5, 'Gd':4,'TA':3,'Fa':2, 'Po':1, 'NAP':0})\n",
      "<ipython-input-456-27304ac280a1>:9: SettingWithCopyWarning: \n",
      "A value is trying to be set on a copy of a slice from a DataFrame.\n",
      "Try using .loc[row_indexer,col_indexer] = value instead\n",
      "\n",
      "See the caveats in the documentation: https://pandas.pydata.org/pandas-docs/stable/user_guide/indexing.html#returning-a-view-versus-a-copy\n",
      "  df_good['Bsmt Cond'] = df_good['Bsmt Cond'].replace({'Ex':5, 'Gd':4,'TA':3,'Fa':2, 'Po':1, 'NAP':0})\n",
      "<ipython-input-456-27304ac280a1>:11: SettingWithCopyWarning: \n",
      "A value is trying to be set on a copy of a slice from a DataFrame.\n",
      "Try using .loc[row_indexer,col_indexer] = value instead\n",
      "\n",
      "See the caveats in the documentation: https://pandas.pydata.org/pandas-docs/stable/user_guide/indexing.html#returning-a-view-versus-a-copy\n",
      "  df_good['BsmtFin Type 1'] = df_good['BsmtFin Type 1'].replace({'GLQ':6, 'ALQ':5,'BLQ':4,'Rec':3, 'LwQ':2, 'Unf':1, 'NAP':0})\n",
      "<ipython-input-456-27304ac280a1>:13: SettingWithCopyWarning: \n",
      "A value is trying to be set on a copy of a slice from a DataFrame.\n",
      "Try using .loc[row_indexer,col_indexer] = value instead\n",
      "\n",
      "See the caveats in the documentation: https://pandas.pydata.org/pandas-docs/stable/user_guide/indexing.html#returning-a-view-versus-a-copy\n",
      "  df_good['Heating QC'] = df_good['Heating QC'].replace({'Ex':5, 'Gd':4,'TA':3,'Fa':2, 'Po':1, 'NAP':0})\n",
      "<ipython-input-456-27304ac280a1>:15: SettingWithCopyWarning: \n",
      "A value is trying to be set on a copy of a slice from a DataFrame.\n",
      "Try using .loc[row_indexer,col_indexer] = value instead\n",
      "\n",
      "See the caveats in the documentation: https://pandas.pydata.org/pandas-docs/stable/user_guide/indexing.html#returning-a-view-versus-a-copy\n",
      "  df_good['Fireplace Qu'] = df_good['Fireplace Qu'].replace({'Ex':5, 'Gd':4,'TA':3,'Fa':2, 'Po':1, 'NAP':0})\n",
      "<ipython-input-456-27304ac280a1>:17: SettingWithCopyWarning: \n",
      "A value is trying to be set on a copy of a slice from a DataFrame.\n",
      "Try using .loc[row_indexer,col_indexer] = value instead\n",
      "\n",
      "See the caveats in the documentation: https://pandas.pydata.org/pandas-docs/stable/user_guide/indexing.html#returning-a-view-versus-a-copy\n",
      "  df_good['Garage Qual'] = df_good['Garage Qual'].replace({'Ex':5, 'Gd':4,'TA':3,'Fa':2, 'Po':1, 'NAP':0})\n",
      "<ipython-input-456-27304ac280a1>:19: SettingWithCopyWarning: \n",
      "A value is trying to be set on a copy of a slice from a DataFrame.\n",
      "Try using .loc[row_indexer,col_indexer] = value instead\n",
      "\n",
      "See the caveats in the documentation: https://pandas.pydata.org/pandas-docs/stable/user_guide/indexing.html#returning-a-view-versus-a-copy\n",
      "  df_good['Garage Cond'] = df_good['Garage Cond'].replace({'Ex':5, 'Gd':4,'TA':3,'Fa':2, 'Po':1, 'NAP':0})\n"
     ]
    }
   ],
   "source": [
    "                    \n",
    "df_good['Lot Shape'] = df_good['Lot Shape'].replace({'IR1':3, 'IR2':2,'IR3':1,'Reg':4, 'NAP':0})\n",
    "\n",
    "df_good['Exter Qual'] = df_good['Exter Qual'].replace({'Ex':5, 'Gd':4,'TA':3,'Fa':2, 'Po':1, 'NAP':0})\n",
    "\n",
    "df_good['Exter Cond'] = df_good['Exter Cond'].replace({'Ex':5, 'Gd':4,'TA':3,'Fa':2, 'Po':1, 'NAP':0})\n",
    "\n",
    "df_good['Bsmt Qual'] = df_good['Bsmt Qual'].replace({'Ex':5, 'Gd':4,'TA':3,'Fa':2, 'Po':1, 'NAP':0})\n",
    "\n",
    "df_good['Bsmt Cond'] = df_good['Bsmt Cond'].replace({'Ex':5, 'Gd':4,'TA':3,'Fa':2, 'Po':1, 'NAP':0})\n",
    "\n",
    "df_good['BsmtFin Type 1'] = df_good['BsmtFin Type 1'].replace({'GLQ':6, 'ALQ':5,'BLQ':4,'Rec':3, 'LwQ':2, 'Unf':1, 'NAP':0})\n",
    "\n",
    "df_good['Heating QC'] = df_good['Heating QC'].replace({'Ex':5, 'Gd':4,'TA':3,'Fa':2, 'Po':1, 'NAP':0})\n",
    "\n",
    "df_good['Fireplace Qu'] = df_good['Fireplace Qu'].replace({'Ex':5, 'Gd':4,'TA':3,'Fa':2, 'Po':1, 'NAP':0})\n",
    "\n",
    "df_good['Garage Qual'] = df_good['Garage Qual'].replace({'Ex':5, 'Gd':4,'TA':3,'Fa':2, 'Po':1, 'NAP':0})\n",
    "\n",
    "df_good['Garage Cond'] = df_good['Garage Cond'].replace({'Ex':5, 'Gd':4,'TA':3,'Fa':2, 'Po':1, 'NAP':0})\n",
    "\n",
    "\n",
    "\n"
   ]
  },
  {
   "cell_type": "code",
   "execution_count": 457,
   "metadata": {},
   "outputs": [],
   "source": [
    "df_good = pd.get_dummies(data = df_good, columns= [ 'Mas Vnr Type',\n",
    "                                                   'Central Air', 'Garage Type'],drop_first= True)\n"
   ]
  },
  {
   "cell_type": "code",
   "execution_count": 458,
   "metadata": {},
   "outputs": [
    {
     "name": "stdout",
     "output_type": "stream",
     "text": [
      "[10.0, 5642.0, 1418.0, 5.0, 6110.0, 5095.0, 2010.0, 2207.0, 4.0, 2010.0, 15.0, 1600.0, 4.0, 5644.0, 313.0, 159000.0, 4.0, 9.0, 5.0, 5.0, 5.0, 5.0, 6.0, 5.0, 5.0, 5.0, 5.0, 611657.0, 1.0, 1.0, 1.0, 1.0, 1.0, 1.0, 1.0, 1.0, 1.0, 1.0, 1.0] ['Overall Qual', 'Gr Liv Area', 'Garage Area', 'Garage Cars', 'Total Bsmt SF', '1st Flr SF', 'Year Built', 'Garage Yr Blt', 'Full Bath', 'Year Remod/Add', 'TotRms AbvGrd', 'Mas Vnr Area', 'Fireplaces', 'BsmtFin SF 1', 'Lot Frontage', 'Lot Area', 'Lot Shape', 'Overall Cond', 'Exter Qual', 'Exter Cond', 'Bsmt Qual', 'Bsmt Cond', 'BsmtFin Type 1', 'Heating QC', 'Fireplace Qu', 'Garage Qual', 'Garage Cond', 'SalePrice', 'Mas Vnr Type_BrkFace', 'Mas Vnr Type_NAP', 'Mas Vnr Type_None', 'Mas Vnr Type_Stone', 'Central Air_Y', 'Garage Type_Attchd', 'Garage Type_Basment', 'Garage Type_BuiltIn', 'Garage Type_CarPort', 'Garage Type_Detchd', 'Garage Type_NAP']\n"
     ]
    }
   ],
   "source": [
    "print(list(df_good.max()),list(df_good.columns))"
   ]
  },
  {
   "cell_type": "markdown",
   "metadata": {},
   "source": [
    "to remove Gr Liv Area, Total Bsmt SF, 1st Flr SF, 'Mas Vnr Area', BsmtFin SF 1, Lot Frontage, Lot Area,SalePrice"
   ]
  },
  {
   "cell_type": "code",
   "execution_count": 459,
   "metadata": {},
   "outputs": [],
   "source": [
    "for i in df_good.columns:\n",
    "\n",
    "    if df_good[i].mean() >= 10:\n",
    "        \n",
    "        drop =  df_good[i] < (df_good[i].mean() + df_good[i].std() *3)\n",
    "        df_good = df_good[drop]\n",
    "        drop =  df_good[i] > (df_good[i].mean() - df_good[i].std() *3)\n",
    "        df_good = df_good[drop]"
   ]
  },
  {
   "cell_type": "code",
   "execution_count": 460,
   "metadata": {},
   "outputs": [
    {
     "data": {
      "text/plain": [
       "(1895, 39)"
      ]
     },
     "execution_count": 460,
     "metadata": {},
     "output_type": "execute_result"
    }
   ],
   "source": [
    "df_good.shape"
   ]
  },
  {
   "cell_type": "code",
   "execution_count": 461,
   "metadata": {},
   "outputs": [
    {
     "data": {
      "text/plain": [
       "(1895, 39)"
      ]
     },
     "execution_count": 461,
     "metadata": {},
     "output_type": "execute_result"
    }
   ],
   "source": [
    "df_good.shape"
   ]
  },
  {
   "cell_type": "code",
   "execution_count": 462,
   "metadata": {},
   "outputs": [
    {
     "data": {
      "image/png": "[encoded data removed]",
      "text/plain": [
       "<Figure size 1080x720 with 2 Axes>"
      ]
     },
     "metadata": {
      "needs_background": "light"
     },
     "output_type": "display_data"
    }
   ],
   "source": [
    "plt.figure(figsize = (15,10))\n",
    "sns.heatmap(df_good.corr()[['SalePrice']].sort_values(by = 'SalePrice'),\n",
    "            annot = True);\n",
    "plt.tight_layout()"
   ]
  },
  {
   "cell_type": "code",
   "execution_count": 463,
   "metadata": {},
   "outputs": [],
   "source": [
    "df_good['Overall Cond * Qual'] = df_good['Overall Qual'] * df_good['Overall Cond']\n",
    "df_good['Garage Area * Cars'] = df_good['Garage Area'] * df_good['Garage Cars']\n",
    "df_good['Live Area * Rooms above ground'] = df_good['Gr Liv Area'] * df_good['TotRms AbvGrd']\n",
    "df_good['Live Area * 1st floor sf'] = df_good['Gr Liv Area'] * df_good['1st Flr SF']\n",
    "df_good['Year built * Year remod/add'] = df_good['Year Built'] * df_good['Year Remod/Add']\n",
    "df_good['Quality * Live Area'] = df_good['Gr Liv Area'] * df_good['Overall Qual']\n",
    "df_good['Garage Qual * Overall Qual'] = df_good['Garage Qual'] * df_good['Overall Qual']\n",
    "df_good['Lot Frontage * Lot Area'] = df_good['Lot Frontage'] * df_good['Lot Area']\n",
    "df_good['Lot Shape * Lot Area'] = df_good['Lot Shape'] * df_good['Lot Area']\n",
    "df_good['Overall Qual * Exter Qual'] = df_good['Overall Qual'] * df_good['Exter Qual']\n",
    "df_good['Bsmt Qual * Overall Qual'] = df_good['Bsmt Qual'] * df_good['Overall Qual']\n",
    "df_good['BsmtFin SF 1 * BsmtFin Type 1'] = df_good['BsmtFin SF 1'] * df_good['BsmtFin Type 1']\n",
    "df_good['Fireplaces * Fireplace Qu'] = df_good['Fireplaces'] * df_good['Fireplace Qu']\n",
    "df_good['Bsmt Cond * Bsmt Qual'] = df_good['Bsmt Cond'] * df_good['Bsmt Qual']\n",
    "df_good['Central Air * Heating QC'] = df_good['Central Air_Y'] * df_good['Heating QC']\n",
    "df_good['TotRms AbvGrd * Full Bath'] = df_good['TotRms AbvGrd'] * df_good['Full Bath']\n",
    "\n",
    "\n",
    "\n"
   ]
  },
  {
   "cell_type": "code",
   "execution_count": 464,
   "metadata": {
    "scrolled": false
   },
   "outputs": [
    {
     "data": {
      "image/png": "[encoded data removed]",
      "text/plain": [
       "<Figure size 1080x720 with 2 Axes>"
      ]
     },
     "metadata": {
      "needs_background": "light"
     },
     "output_type": "display_data"
    }
   ],
   "source": [
    "plt.figure(figsize = (15,10))\n",
    "sns.heatmap(df_good.corr()[['SalePrice']].sort_values(by = 'SalePrice'), vmin= -1, vmax = 1, annot = True);\n",
    "plt.tight_layout()"
   ]
  },
  {
   "cell_type": "code",
   "execution_count": 465,
   "metadata": {
    "scrolled": false
   },
   "outputs": [
    {
     "data": {
      "text/html": [
       "<div>\n",
       "<style scoped>\n",
       "    .dataframe tbody tr th:only-of-type {\n",
       "        vertical-align: middle;\n",
       "    }\n",
       "\n",
       "    .dataframe tbody tr th {\n",
       "        vertical-align: top;\n",
       "    }\n",
       "\n",
       "    .dataframe thead th {\n",
       "        text-align: right;\n",
       "    }\n",
       "</style>\n",
       "<table border=\"1\" class=\"dataframe\">\n",
       "  <thead>\n",
       "    <tr style=\"text-align: right;\">\n",
       "      <th></th>\n",
       "      <th>SalePrice</th>\n",
       "    </tr>\n",
       "  </thead>\n",
       "  <tbody>\n",
       "    <tr>\n",
       "      <th>Mas Vnr Type_None</th>\n",
       "      <td>-0.408105</td>\n",
       "    </tr>\n",
       "    <tr>\n",
       "      <th>Garage Type_Detchd</th>\n",
       "      <td>-0.400355</td>\n",
       "    </tr>\n",
       "    <tr>\n",
       "      <th>Lot Shape</th>\n",
       "      <td>-0.309826</td>\n",
       "    </tr>\n",
       "    <tr>\n",
       "      <th>Garage Type_NAP</th>\n",
       "      <td>-0.262517</td>\n",
       "    </tr>\n",
       "    <tr>\n",
       "      <th>Garage Type_CarPort</th>\n",
       "      <td>-0.082262</td>\n",
       "    </tr>\n",
       "    <tr>\n",
       "      <th>Overall Cond</th>\n",
       "      <td>-0.080437</td>\n",
       "    </tr>\n",
       "    <tr>\n",
       "      <th>Garage Type_Basment</th>\n",
       "      <td>-0.060681</td>\n",
       "    </tr>\n",
       "    <tr>\n",
       "      <th>Exter Cond</th>\n",
       "      <td>0.048084</td>\n",
       "    </tr>\n",
       "    <tr>\n",
       "      <th>Mas Vnr Type_NAP</th>\n",
       "      <td>0.084371</td>\n",
       "    </tr>\n",
       "    <tr>\n",
       "      <th>Lot Shape * Lot Area</th>\n",
       "      <td>0.206545</td>\n",
       "    </tr>\n",
       "    <tr>\n",
       "      <th>Garage Type_BuiltIn</th>\n",
       "      <td>0.209559</td>\n",
       "    </tr>\n",
       "    <tr>\n",
       "      <th>Bsmt Cond</th>\n",
       "      <td>0.258967</td>\n",
       "    </tr>\n",
       "    <tr>\n",
       "      <th>Mas Vnr Type_BrkFace</th>\n",
       "      <td>0.265197</td>\n",
       "    </tr>\n",
       "    <tr>\n",
       "      <th>Mas Vnr Type_Stone</th>\n",
       "      <td>0.280847</td>\n",
       "    </tr>\n",
       "    <tr>\n",
       "      <th>Garage Cond</th>\n",
       "      <td>0.301497</td>\n",
       "    </tr>\n",
       "    <tr>\n",
       "      <th>Garage Qual</th>\n",
       "      <td>0.310772</td>\n",
       "    </tr>\n",
       "    <tr>\n",
       "      <th>Central Air_Y</th>\n",
       "      <td>0.313862</td>\n",
       "    </tr>\n",
       "    <tr>\n",
       "      <th>Lot Frontage</th>\n",
       "      <td>0.331273</td>\n",
       "    </tr>\n",
       "    <tr>\n",
       "      <th>Lot Area</th>\n",
       "      <td>0.334042</td>\n",
       "    </tr>\n",
       "    <tr>\n",
       "      <th>BsmtFin Type 1</th>\n",
       "      <td>0.345491</td>\n",
       "    </tr>\n",
       "    <tr>\n",
       "      <th>BsmtFin SF 1</th>\n",
       "      <td>0.362986</td>\n",
       "    </tr>\n",
       "    <tr>\n",
       "      <th>Lot Frontage * Lot Area</th>\n",
       "      <td>0.388578</td>\n",
       "    </tr>\n",
       "    <tr>\n",
       "      <th>Mas Vnr Area</th>\n",
       "      <td>0.410780</td>\n",
       "    </tr>\n",
       "    <tr>\n",
       "      <th>Garage Type_Attchd</th>\n",
       "      <td>0.413062</td>\n",
       "    </tr>\n",
       "    <tr>\n",
       "      <th>BsmtFin SF 1 * BsmtFin Type 1</th>\n",
       "      <td>0.444563</td>\n",
       "    </tr>\n",
       "    <tr>\n",
       "      <th>Fireplaces</th>\n",
       "      <td>0.454121</td>\n",
       "    </tr>\n",
       "    <tr>\n",
       "      <th>TotRms AbvGrd</th>\n",
       "      <td>0.454848</td>\n",
       "    </tr>\n",
       "    <tr>\n",
       "      <th>Fireplaces * Fireplace Qu</th>\n",
       "      <td>0.482842</td>\n",
       "    </tr>\n",
       "    <tr>\n",
       "      <th>Heating QC</th>\n",
       "      <td>0.488605</td>\n",
       "    </tr>\n",
       "    <tr>\n",
       "      <th>Central Air * Heating QC</th>\n",
       "      <td>0.503702</td>\n",
       "    </tr>\n",
       "    <tr>\n",
       "      <th>Fireplace Qu</th>\n",
       "      <td>0.510619</td>\n",
       "    </tr>\n",
       "    <tr>\n",
       "      <th>Garage Yr Blt</th>\n",
       "      <td>0.540585</td>\n",
       "    </tr>\n",
       "    <tr>\n",
       "      <th>Overall Cond * Qual</th>\n",
       "      <td>0.552294</td>\n",
       "    </tr>\n",
       "    <tr>\n",
       "      <th>Full Bath</th>\n",
       "      <td>0.560094</td>\n",
       "    </tr>\n",
       "    <tr>\n",
       "      <th>1st Flr SF</th>\n",
       "      <td>0.570605</td>\n",
       "    </tr>\n",
       "    <tr>\n",
       "      <th>Year Remod/Add</th>\n",
       "      <td>0.583628</td>\n",
       "    </tr>\n",
       "    <tr>\n",
       "      <th>TotRms AbvGrd * Full Bath</th>\n",
       "      <td>0.585131</td>\n",
       "    </tr>\n",
       "    <tr>\n",
       "      <th>Total Bsmt SF</th>\n",
       "      <td>0.596673</td>\n",
       "    </tr>\n",
       "    <tr>\n",
       "      <th>Live Area * Rooms above ground</th>\n",
       "      <td>0.597878</td>\n",
       "    </tr>\n",
       "    <tr>\n",
       "      <th>Bsmt Cond * Bsmt Qual</th>\n",
       "      <td>0.605082</td>\n",
       "    </tr>\n",
       "    <tr>\n",
       "      <th>Bsmt Qual</th>\n",
       "      <td>0.609761</td>\n",
       "    </tr>\n",
       "    <tr>\n",
       "      <th>Year Built</th>\n",
       "      <td>0.619248</td>\n",
       "    </tr>\n",
       "    <tr>\n",
       "      <th>Garage Area</th>\n",
       "      <td>0.631171</td>\n",
       "    </tr>\n",
       "    <tr>\n",
       "      <th>Garage Cars</th>\n",
       "      <td>0.646694</td>\n",
       "    </tr>\n",
       "    <tr>\n",
       "      <th>Year built * Year remod/add</th>\n",
       "      <td>0.667488</td>\n",
       "    </tr>\n",
       "    <tr>\n",
       "      <th>Garage Area * Cars</th>\n",
       "      <td>0.673557</td>\n",
       "    </tr>\n",
       "    <tr>\n",
       "      <th>Exter Qual</th>\n",
       "      <td>0.691883</td>\n",
       "    </tr>\n",
       "    <tr>\n",
       "      <th>Gr Liv Area</th>\n",
       "      <td>0.692202</td>\n",
       "    </tr>\n",
       "    <tr>\n",
       "      <th>Garage Qual * Overall Qual</th>\n",
       "      <td>0.711082</td>\n",
       "    </tr>\n",
       "    <tr>\n",
       "      <th>Live Area * 1st floor sf</th>\n",
       "      <td>0.729011</td>\n",
       "    </tr>\n",
       "    <tr>\n",
       "      <th>Overall Qual</th>\n",
       "      <td>0.805259</td>\n",
       "    </tr>\n",
       "    <tr>\n",
       "      <th>Bsmt Qual * Overall Qual</th>\n",
       "      <td>0.809219</td>\n",
       "    </tr>\n",
       "    <tr>\n",
       "      <th>Overall Qual * Exter Qual</th>\n",
       "      <td>0.822676</td>\n",
       "    </tr>\n",
       "    <tr>\n",
       "      <th>Quality * Live Area</th>\n",
       "      <td>0.857914</td>\n",
       "    </tr>\n",
       "    <tr>\n",
       "      <th>SalePrice</th>\n",
       "      <td>1.000000</td>\n",
       "    </tr>\n",
       "  </tbody>\n",
       "</table>\n",
       "</div>"
      ],
      "text/plain": [
       "                                SalePrice\n",
       "Mas Vnr Type_None               -0.408105\n",
       "Garage Type_Detchd              -0.400355\n",
       "Lot Shape                       -0.309826\n",
       "Garage Type_NAP                 -0.262517\n",
       "Garage Type_CarPort             -0.082262\n",
       "Overall Cond                    -0.080437\n",
       "Garage Type_Basment             -0.060681\n",
       "Exter Cond                       0.048084\n",
       "Mas Vnr Type_NAP                 0.084371\n",
       "Lot Shape * Lot Area             0.206545\n",
       "Garage Type_BuiltIn              0.209559\n",
       "Bsmt Cond                        0.258967\n",
       "Mas Vnr Type_BrkFace             0.265197\n",
       "Mas Vnr Type_Stone               0.280847\n",
       "Garage Cond                      0.301497\n",
       "Garage Qual                      0.310772\n",
       "Central Air_Y                    0.313862\n",
       "Lot Frontage                     0.331273\n",
       "Lot Area                         0.334042\n",
       "BsmtFin Type 1                   0.345491\n",
       "BsmtFin SF 1                     0.362986\n",
       "Lot Frontage * Lot Area          0.388578\n",
       "Mas Vnr Area                     0.410780\n",
       "Garage Type_Attchd               0.413062\n",
       "BsmtFin SF 1 * BsmtFin Type 1    0.444563\n",
       "Fireplaces                       0.454121\n",
       "TotRms AbvGrd                    0.454848\n",
       "Fireplaces * Fireplace Qu        0.482842\n",
       "Heating QC                       0.488605\n",
       "Central Air * Heating QC         0.503702\n",
       "Fireplace Qu                     0.510619\n",
       "Garage Yr Blt                    0.540585\n",
       "Overall Cond * Qual              0.552294\n",
       "Full Bath                        0.560094\n",
       "1st Flr SF                       0.570605\n",
       "Year Remod/Add                   0.583628\n",
       "TotRms AbvGrd * Full Bath        0.585131\n",
       "Total Bsmt SF                    0.596673\n",
       "Live Area * Rooms above ground   0.597878\n",
       "Bsmt Cond * Bsmt Qual            0.605082\n",
       "Bsmt Qual                        0.609761\n",
       "Year Built                       0.619248\n",
       "Garage Area                      0.631171\n",
       "Garage Cars                      0.646694\n",
       "Year built * Year remod/add      0.667488\n",
       "Garage Area * Cars               0.673557\n",
       "Exter Qual                       0.691883\n",
       "Gr Liv Area                      0.692202\n",
       "Garage Qual * Overall Qual       0.711082\n",
       "Live Area * 1st floor sf         0.729011\n",
       "Overall Qual                     0.805259\n",
       "Bsmt Qual * Overall Qual         0.809219\n",
       "Overall Qual * Exter Qual        0.822676\n",
       "Quality * Live Area              0.857914\n",
       "SalePrice                        1.000000"
      ]
     },
     "execution_count": 465,
     "metadata": {},
     "output_type": "execute_result"
    }
   ],
   "source": [
    "df_good.corr()[['SalePrice']].sort_values(by = 'SalePrice')"
   ]
  },
  {
   "cell_type": "code",
   "execution_count": 466,
   "metadata": {},
   "outputs": [],
   "source": [
    "lr = LinearRegression(normalize= True)\n",
    "X = df_good.drop(columns = 'SalePrice',)\n",
    "y = df_good['SalePrice']\n",
    "\n",
    "X_train,X_test,y_train,y_test = train_test_split(X,y, random_state = 42)"
   ]
  },
  {
   "cell_type": "code",
   "execution_count": 193,
   "metadata": {},
   "outputs": [
    {
     "data": {
      "text/plain": [
       "0.9275199354757127"
      ]
     },
     "execution_count": 193,
     "metadata": {},
     "output_type": "execute_result"
    }
   ],
   "source": [
    "lr.fit(X_train,y_train)\n",
    "lr.score(X_train,y_train)"
   ]
  },
  {
   "cell_type": "code",
   "execution_count": 156,
   "metadata": {},
   "outputs": [
    {
     "data": {
      "text/plain": [
       "17482.459003352"
      ]
     },
     "execution_count": 156,
     "metadata": {},
     "output_type": "execute_result"
    }
   ],
   "source": [
    "preds = lr.predict(X_test)\n",
    "metrics.mean_squared_error(y_test,preds, squared=False)"
   ]
  },
  {
   "cell_type": "code",
   "execution_count": 157,
   "metadata": {},
   "outputs": [],
   "source": [
    "sc = StandardScaler()\n",
    "X_train_sc = sc.fit_transform(X_train)\n",
    "X_test_sc = sc.transform(X_test)"
   ]
  },
  {
   "cell_type": "code",
   "execution_count": 158,
   "metadata": {
    "scrolled": true
   },
   "outputs": [
    {
     "name": "stderr",
     "output_type": "stream",
     "text": [
      "C:\\Users\\tonyt\\anaconda3\\envs\\dsi\\lib\\site-packages\\sklearn\\linear_model\\_coordinate_descent.py:525: ConvergenceWarning: Objective did not converge. You might want to increase the number of iterations. Duality gap: 159895075844.93323, tolerance: 434469196.5221713\n",
      "  model = cd_fast.enet_coordinate_descent_gram(\n",
      "C:\\Users\\tonyt\\anaconda3\\envs\\dsi\\lib\\site-packages\\sklearn\\linear_model\\_coordinate_descent.py:525: ConvergenceWarning: Objective did not converge. You might want to increase the number of iterations. Duality gap: 159754405043.81927, tolerance: 434469196.5221713\n",
      "  model = cd_fast.enet_coordinate_descent_gram(\n",
      "C:\\Users\\tonyt\\anaconda3\\envs\\dsi\\lib\\site-packages\\sklearn\\linear_model\\_coordinate_descent.py:525: ConvergenceWarning: Objective did not converge. You might want to increase the number of iterations. Duality gap: 159696846195.747, tolerance: 434469196.5221713\n",
      "  model = cd_fast.enet_coordinate_descent_gram(\n",
      "C:\\Users\\tonyt\\anaconda3\\envs\\dsi\\lib\\site-packages\\sklearn\\linear_model\\_coordinate_descent.py:525: ConvergenceWarning: Objective did not converge. You might want to increase the number of iterations. Duality gap: 159613951916.53217, tolerance: 434469196.5221713\n",
      "  model = cd_fast.enet_coordinate_descent_gram(\n",
      "C:\\Users\\tonyt\\anaconda3\\envs\\dsi\\lib\\site-packages\\sklearn\\linear_model\\_coordinate_descent.py:525: ConvergenceWarning: Objective did not converge. You might want to increase the number of iterations. Duality gap: 159591405649.13684, tolerance: 434469196.5221713\n",
      "  model = cd_fast.enet_coordinate_descent_gram(\n",
      "C:\\Users\\tonyt\\anaconda3\\envs\\dsi\\lib\\site-packages\\sklearn\\linear_model\\_coordinate_descent.py:525: ConvergenceWarning: Objective did not converge. You might want to increase the number of iterations. Duality gap: 159553727864.9993, tolerance: 434469196.5221713\n",
      "  model = cd_fast.enet_coordinate_descent_gram(\n",
      "C:\\Users\\tonyt\\anaconda3\\envs\\dsi\\lib\\site-packages\\sklearn\\linear_model\\_coordinate_descent.py:525: ConvergenceWarning: Objective did not converge. You might want to increase the number of iterations. Duality gap: 159500469899.8126, tolerance: 434469196.5221713\n",
      "  model = cd_fast.enet_coordinate_descent_gram(\n",
      "C:\\Users\\tonyt\\anaconda3\\envs\\dsi\\lib\\site-packages\\sklearn\\linear_model\\_coordinate_descent.py:525: ConvergenceWarning: Objective did not converge. You might want to increase the number of iterations. Duality gap: 159409320259.5798, tolerance: 434469196.5221713\n",
      "  model = cd_fast.enet_coordinate_descent_gram(\n",
      "C:\\Users\\tonyt\\anaconda3\\envs\\dsi\\lib\\site-packages\\sklearn\\linear_model\\_coordinate_descent.py:525: ConvergenceWarning: Objective did not converge. You might want to increase the number of iterations. Duality gap: 159130215483.28928, tolerance: 434469196.5221713\n",
      "  model = cd_fast.enet_coordinate_descent_gram(\n",
      "C:\\Users\\tonyt\\anaconda3\\envs\\dsi\\lib\\site-packages\\sklearn\\linear_model\\_coordinate_descent.py:525: ConvergenceWarning: Objective did not converge. You might want to increase the number of iterations. Duality gap: 157257666036.56595, tolerance: 434469196.5221713\n",
      "  model = cd_fast.enet_coordinate_descent_gram(\n",
      "C:\\Users\\tonyt\\anaconda3\\envs\\dsi\\lib\\site-packages\\sklearn\\linear_model\\_coordinate_descent.py:525: ConvergenceWarning: Objective did not converge. You might want to increase the number of iterations. Duality gap: 158552367680.8772, tolerance: 434469196.5221713\n",
      "  model = cd_fast.enet_coordinate_descent_gram(\n",
      "C:\\Users\\tonyt\\anaconda3\\envs\\dsi\\lib\\site-packages\\sklearn\\linear_model\\_coordinate_descent.py:525: ConvergenceWarning: Objective did not converge. You might want to increase the number of iterations. Duality gap: 158679758952.50513, tolerance: 434469196.5221713\n",
      "  model = cd_fast.enet_coordinate_descent_gram(\n",
      "C:\\Users\\tonyt\\anaconda3\\envs\\dsi\\lib\\site-packages\\sklearn\\linear_model\\_coordinate_descent.py:525: ConvergenceWarning: Objective did not converge. You might want to increase the number of iterations. Duality gap: 158645252010.36716, tolerance: 434469196.5221713\n",
      "  model = cd_fast.enet_coordinate_descent_gram(\n",
      "C:\\Users\\tonyt\\anaconda3\\envs\\dsi\\lib\\site-packages\\sklearn\\linear_model\\_coordinate_descent.py:525: ConvergenceWarning: Objective did not converge. You might want to increase the number of iterations. Duality gap: 158585063154.1053, tolerance: 434469196.5221713\n",
      "  model = cd_fast.enet_coordinate_descent_gram(\n",
      "C:\\Users\\tonyt\\anaconda3\\envs\\dsi\\lib\\site-packages\\sklearn\\linear_model\\_coordinate_descent.py:525: ConvergenceWarning: Objective did not converge. You might want to increase the number of iterations. Duality gap: 158509263549.11896, tolerance: 434469196.5221713\n",
      "  model = cd_fast.enet_coordinate_descent_gram(\n",
      "C:\\Users\\tonyt\\anaconda3\\envs\\dsi\\lib\\site-packages\\sklearn\\linear_model\\_coordinate_descent.py:525: ConvergenceWarning: Objective did not converge. You might want to increase the number of iterations. Duality gap: 158376866582.5005, tolerance: 434469196.5221713\n",
      "  model = cd_fast.enet_coordinate_descent_gram(\n",
      "C:\\Users\\tonyt\\anaconda3\\envs\\dsi\\lib\\site-packages\\sklearn\\linear_model\\_coordinate_descent.py:525: ConvergenceWarning: Objective did not converge. You might want to increase the number of iterations. Duality gap: 158239619383.1772, tolerance: 434469196.5221713\n",
      "  model = cd_fast.enet_coordinate_descent_gram(\n",
      "C:\\Users\\tonyt\\anaconda3\\envs\\dsi\\lib\\site-packages\\sklearn\\linear_model\\_coordinate_descent.py:525: ConvergenceWarning: Objective did not converge. You might want to increase the number of iterations. Duality gap: 158140987528.99588, tolerance: 434469196.5221713\n",
      "  model = cd_fast.enet_coordinate_descent_gram(\n",
      "C:\\Users\\tonyt\\anaconda3\\envs\\dsi\\lib\\site-packages\\sklearn\\linear_model\\_coordinate_descent.py:525: ConvergenceWarning: Objective did not converge. You might want to increase the number of iterations. Duality gap: 158084393292.14862, tolerance: 434469196.5221713\n",
      "  model = cd_fast.enet_coordinate_descent_gram(\n",
      "C:\\Users\\tonyt\\anaconda3\\envs\\dsi\\lib\\site-packages\\sklearn\\linear_model\\_coordinate_descent.py:525: ConvergenceWarning: Objective did not converge. You might want to increase the number of iterations. Duality gap: 158054874734.6759, tolerance: 434469196.5221713\n",
      "  model = cd_fast.enet_coordinate_descent_gram(\n",
      "C:\\Users\\tonyt\\anaconda3\\envs\\dsi\\lib\\site-packages\\sklearn\\linear_model\\_coordinate_descent.py:525: ConvergenceWarning: Objective did not converge. You might want to increase the number of iterations. Duality gap: 158038340736.64142, tolerance: 434469196.5221713\n",
      "  model = cd_fast.enet_coordinate_descent_gram(\n",
      "C:\\Users\\tonyt\\anaconda3\\envs\\dsi\\lib\\site-packages\\sklearn\\linear_model\\_coordinate_descent.py:525: ConvergenceWarning: Objective did not converge. You might want to increase the number of iterations. Duality gap: 158026618563.8059, tolerance: 434469196.5221713\n",
      "  model = cd_fast.enet_coordinate_descent_gram(\n",
      "C:\\Users\\tonyt\\anaconda3\\envs\\dsi\\lib\\site-packages\\sklearn\\linear_model\\_coordinate_descent.py:525: ConvergenceWarning: Objective did not converge. You might want to increase the number of iterations. Duality gap: 158016544029.4217, tolerance: 434469196.5221713\n",
      "  model = cd_fast.enet_coordinate_descent_gram(\n",
      "C:\\Users\\tonyt\\anaconda3\\envs\\dsi\\lib\\site-packages\\sklearn\\linear_model\\_coordinate_descent.py:525: ConvergenceWarning: Objective did not converge. You might want to increase the number of iterations. Duality gap: 158006921732.75952, tolerance: 434469196.5221713\n",
      "  model = cd_fast.enet_coordinate_descent_gram(\n",
      "C:\\Users\\tonyt\\anaconda3\\envs\\dsi\\lib\\site-packages\\sklearn\\linear_model\\_coordinate_descent.py:525: ConvergenceWarning: Objective did not converge. You might want to increase the number of iterations. Duality gap: 157997687162.1439, tolerance: 434469196.5221713\n",
      "  model = cd_fast.enet_coordinate_descent_gram(\n",
      "C:\\Users\\tonyt\\anaconda3\\envs\\dsi\\lib\\site-packages\\sklearn\\linear_model\\_coordinate_descent.py:525: ConvergenceWarning: Objective did not converge. You might want to increase the number of iterations. Duality gap: 157988798393.39606, tolerance: 434469196.5221713\n",
      "  model = cd_fast.enet_coordinate_descent_gram(\n",
      "C:\\Users\\tonyt\\anaconda3\\envs\\dsi\\lib\\site-packages\\sklearn\\linear_model\\_coordinate_descent.py:525: ConvergenceWarning: Objective did not converge. You might want to increase the number of iterations. Duality gap: 157980506634.78665, tolerance: 434469196.5221713\n",
      "  model = cd_fast.enet_coordinate_descent_gram(\n"
     ]
    },
    {
     "name": "stderr",
     "output_type": "stream",
     "text": [
      "C:\\Users\\tonyt\\anaconda3\\envs\\dsi\\lib\\site-packages\\sklearn\\linear_model\\_coordinate_descent.py:525: ConvergenceWarning: Objective did not converge. You might want to increase the number of iterations. Duality gap: 157972641891.84247, tolerance: 434469196.5221713\n",
      "  model = cd_fast.enet_coordinate_descent_gram(\n",
      "C:\\Users\\tonyt\\anaconda3\\envs\\dsi\\lib\\site-packages\\sklearn\\linear_model\\_coordinate_descent.py:525: ConvergenceWarning: Objective did not converge. You might want to increase the number of iterations. Duality gap: 157965340250.68045, tolerance: 434469196.5221713\n",
      "  model = cd_fast.enet_coordinate_descent_gram(\n",
      "C:\\Users\\tonyt\\anaconda3\\envs\\dsi\\lib\\site-packages\\sklearn\\linear_model\\_coordinate_descent.py:525: ConvergenceWarning: Objective did not converge. You might want to increase the number of iterations. Duality gap: 157958468181.30148, tolerance: 434469196.5221713\n",
      "  model = cd_fast.enet_coordinate_descent_gram(\n",
      "C:\\Users\\tonyt\\anaconda3\\envs\\dsi\\lib\\site-packages\\sklearn\\linear_model\\_coordinate_descent.py:525: ConvergenceWarning: Objective did not converge. You might want to increase the number of iterations. Duality gap: 157952165961.70795, tolerance: 434469196.5221713\n",
      "  model = cd_fast.enet_coordinate_descent_gram(\n",
      "C:\\Users\\tonyt\\anaconda3\\envs\\dsi\\lib\\site-packages\\sklearn\\linear_model\\_coordinate_descent.py:525: ConvergenceWarning: Objective did not converge. You might want to increase the number of iterations. Duality gap: 157946133835.96277, tolerance: 434469196.5221713\n",
      "  model = cd_fast.enet_coordinate_descent_gram(\n",
      "C:\\Users\\tonyt\\anaconda3\\envs\\dsi\\lib\\site-packages\\sklearn\\linear_model\\_coordinate_descent.py:525: ConvergenceWarning: Objective did not converge. You might want to increase the number of iterations. Duality gap: 157940635375.96405, tolerance: 434469196.5221713\n",
      "  model = cd_fast.enet_coordinate_descent_gram(\n",
      "C:\\Users\\tonyt\\anaconda3\\envs\\dsi\\lib\\site-packages\\sklearn\\linear_model\\_coordinate_descent.py:525: ConvergenceWarning: Objective did not converge. You might want to increase the number of iterations. Duality gap: 157935529641.65106, tolerance: 434469196.5221713\n",
      "  model = cd_fast.enet_coordinate_descent_gram(\n",
      "C:\\Users\\tonyt\\anaconda3\\envs\\dsi\\lib\\site-packages\\sklearn\\linear_model\\_coordinate_descent.py:525: ConvergenceWarning: Objective did not converge. You might want to increase the number of iterations. Duality gap: 157930552217.7304, tolerance: 434469196.5221713\n",
      "  model = cd_fast.enet_coordinate_descent_gram(\n",
      "C:\\Users\\tonyt\\anaconda3\\envs\\dsi\\lib\\site-packages\\sklearn\\linear_model\\_coordinate_descent.py:525: ConvergenceWarning: Objective did not converge. You might want to increase the number of iterations. Duality gap: 157926059090.95795, tolerance: 434469196.5221713\n",
      "  model = cd_fast.enet_coordinate_descent_gram(\n",
      "C:\\Users\\tonyt\\anaconda3\\envs\\dsi\\lib\\site-packages\\sklearn\\linear_model\\_coordinate_descent.py:525: ConvergenceWarning: Objective did not converge. You might want to increase the number of iterations. Duality gap: 157921976768.5618, tolerance: 434469196.5221713\n",
      "  model = cd_fast.enet_coordinate_descent_gram(\n",
      "C:\\Users\\tonyt\\anaconda3\\envs\\dsi\\lib\\site-packages\\sklearn\\linear_model\\_coordinate_descent.py:525: ConvergenceWarning: Objective did not converge. You might want to increase the number of iterations. Duality gap: 157917837283.68808, tolerance: 434469196.5221713\n",
      "  model = cd_fast.enet_coordinate_descent_gram(\n",
      "C:\\Users\\tonyt\\anaconda3\\envs\\dsi\\lib\\site-packages\\sklearn\\linear_model\\_coordinate_descent.py:525: ConvergenceWarning: Objective did not converge. You might want to increase the number of iterations. Duality gap: 157914205804.41644, tolerance: 434469196.5221713\n",
      "  model = cd_fast.enet_coordinate_descent_gram(\n",
      "C:\\Users\\tonyt\\anaconda3\\envs\\dsi\\lib\\site-packages\\sklearn\\linear_model\\_coordinate_descent.py:525: ConvergenceWarning: Objective did not converge. You might want to increase the number of iterations. Duality gap: 157911184997.35834, tolerance: 434469196.5221713\n",
      "  model = cd_fast.enet_coordinate_descent_gram(\n",
      "C:\\Users\\tonyt\\anaconda3\\envs\\dsi\\lib\\site-packages\\sklearn\\linear_model\\_coordinate_descent.py:525: ConvergenceWarning: Objective did not converge. You might want to increase the number of iterations. Duality gap: 157907734904.80957, tolerance: 434469196.5221713\n",
      "  model = cd_fast.enet_coordinate_descent_gram(\n",
      "C:\\Users\\tonyt\\anaconda3\\envs\\dsi\\lib\\site-packages\\sklearn\\linear_model\\_coordinate_descent.py:525: ConvergenceWarning: Objective did not converge. You might want to increase the number of iterations. Duality gap: 157904593440.82965, tolerance: 434469196.5221713\n",
      "  model = cd_fast.enet_coordinate_descent_gram(\n",
      "C:\\Users\\tonyt\\anaconda3\\envs\\dsi\\lib\\site-packages\\sklearn\\linear_model\\_coordinate_descent.py:525: ConvergenceWarning: Objective did not converge. You might want to increase the number of iterations. Duality gap: 157901870205.79507, tolerance: 434469196.5221713\n",
      "  model = cd_fast.enet_coordinate_descent_gram(\n",
      "C:\\Users\\tonyt\\anaconda3\\envs\\dsi\\lib\\site-packages\\sklearn\\linear_model\\_coordinate_descent.py:525: ConvergenceWarning: Objective did not converge. You might want to increase the number of iterations. Duality gap: 157899335430.05106, tolerance: 434469196.5221713\n",
      "  model = cd_fast.enet_coordinate_descent_gram(\n",
      "C:\\Users\\tonyt\\anaconda3\\envs\\dsi\\lib\\site-packages\\sklearn\\linear_model\\_coordinate_descent.py:525: ConvergenceWarning: Objective did not converge. You might want to increase the number of iterations. Duality gap: 157897105052.69354, tolerance: 434469196.5221713\n",
      "  model = cd_fast.enet_coordinate_descent_gram(\n",
      "C:\\Users\\tonyt\\anaconda3\\envs\\dsi\\lib\\site-packages\\sklearn\\linear_model\\_coordinate_descent.py:525: ConvergenceWarning: Objective did not converge. You might want to increase the number of iterations. Duality gap: 157894908094.02927, tolerance: 434469196.5221713\n",
      "  model = cd_fast.enet_coordinate_descent_gram(\n",
      "C:\\Users\\tonyt\\anaconda3\\envs\\dsi\\lib\\site-packages\\sklearn\\linear_model\\_coordinate_descent.py:525: ConvergenceWarning: Objective did not converge. You might want to increase the number of iterations. Duality gap: 157893004208.53928, tolerance: 434469196.5221713\n",
      "  model = cd_fast.enet_coordinate_descent_gram(\n",
      "C:\\Users\\tonyt\\anaconda3\\envs\\dsi\\lib\\site-packages\\sklearn\\linear_model\\_coordinate_descent.py:525: ConvergenceWarning: Objective did not converge. You might want to increase the number of iterations. Duality gap: 157890819423.60815, tolerance: 434469196.5221713\n",
      "  model = cd_fast.enet_coordinate_descent_gram(\n",
      "C:\\Users\\tonyt\\anaconda3\\envs\\dsi\\lib\\site-packages\\sklearn\\linear_model\\_coordinate_descent.py:525: ConvergenceWarning: Objective did not converge. You might want to increase the number of iterations. Duality gap: 157888658548.93005, tolerance: 434469196.5221713\n",
      "  model = cd_fast.enet_coordinate_descent_gram(\n",
      "C:\\Users\\tonyt\\anaconda3\\envs\\dsi\\lib\\site-packages\\sklearn\\linear_model\\_coordinate_descent.py:525: ConvergenceWarning: Objective did not converge. You might want to increase the number of iterations. Duality gap: 157887132588.9266, tolerance: 434469196.5221713\n",
      "  model = cd_fast.enet_coordinate_descent_gram(\n",
      "C:\\Users\\tonyt\\anaconda3\\envs\\dsi\\lib\\site-packages\\sklearn\\linear_model\\_coordinate_descent.py:525: ConvergenceWarning: Objective did not converge. You might want to increase the number of iterations. Duality gap: 157885829764.78275, tolerance: 434469196.5221713\n",
      "  model = cd_fast.enet_coordinate_descent_gram(\n",
      "C:\\Users\\tonyt\\anaconda3\\envs\\dsi\\lib\\site-packages\\sklearn\\linear_model\\_coordinate_descent.py:525: ConvergenceWarning: Objective did not converge. You might want to increase the number of iterations. Duality gap: 157883874014.34937, tolerance: 434469196.5221713\n",
      "  model = cd_fast.enet_coordinate_descent_gram(\n",
      "C:\\Users\\tonyt\\anaconda3\\envs\\dsi\\lib\\site-packages\\sklearn\\linear_model\\_coordinate_descent.py:525: ConvergenceWarning: Objective did not converge. You might want to increase the number of iterations. Duality gap: 157882871732.41605, tolerance: 434469196.5221713\n",
      "  model = cd_fast.enet_coordinate_descent_gram(\n",
      "C:\\Users\\tonyt\\anaconda3\\envs\\dsi\\lib\\site-packages\\sklearn\\linear_model\\_coordinate_descent.py:525: ConvergenceWarning: Objective did not converge. You might want to increase the number of iterations. Duality gap: 157881492169.9049, tolerance: 434469196.5221713\n",
      "  model = cd_fast.enet_coordinate_descent_gram(\n"
     ]
    },
    {
     "name": "stderr",
     "output_type": "stream",
     "text": [
      "C:\\Users\\tonyt\\anaconda3\\envs\\dsi\\lib\\site-packages\\sklearn\\linear_model\\_coordinate_descent.py:525: ConvergenceWarning: Objective did not converge. You might want to increase the number of iterations. Duality gap: 157879852036.30765, tolerance: 434469196.5221713\n",
      "  model = cd_fast.enet_coordinate_descent_gram(\n",
      "C:\\Users\\tonyt\\anaconda3\\envs\\dsi\\lib\\site-packages\\sklearn\\linear_model\\_coordinate_descent.py:525: ConvergenceWarning: Objective did not converge. You might want to increase the number of iterations. Duality gap: 157879148167.86993, tolerance: 434469196.5221713\n",
      "  model = cd_fast.enet_coordinate_descent_gram(\n",
      "C:\\Users\\tonyt\\anaconda3\\envs\\dsi\\lib\\site-packages\\sklearn\\linear_model\\_coordinate_descent.py:525: ConvergenceWarning: Objective did not converge. You might want to increase the number of iterations. Duality gap: 157877596770.7124, tolerance: 434469196.5221713\n",
      "  model = cd_fast.enet_coordinate_descent_gram(\n",
      "C:\\Users\\tonyt\\anaconda3\\envs\\dsi\\lib\\site-packages\\sklearn\\linear_model\\_coordinate_descent.py:525: ConvergenceWarning: Objective did not converge. You might want to increase the number of iterations. Duality gap: 157877102290.07614, tolerance: 434469196.5221713\n",
      "  model = cd_fast.enet_coordinate_descent_gram(\n",
      "C:\\Users\\tonyt\\anaconda3\\envs\\dsi\\lib\\site-packages\\sklearn\\linear_model\\_coordinate_descent.py:525: ConvergenceWarning: Objective did not converge. You might want to increase the number of iterations. Duality gap: 157875829074.68893, tolerance: 434469196.5221713\n",
      "  model = cd_fast.enet_coordinate_descent_gram(\n",
      "C:\\Users\\tonyt\\anaconda3\\envs\\dsi\\lib\\site-packages\\sklearn\\linear_model\\_coordinate_descent.py:525: ConvergenceWarning: Objective did not converge. You might want to increase the number of iterations. Duality gap: 157876041388.9547, tolerance: 434469196.5221713\n",
      "  model = cd_fast.enet_coordinate_descent_gram(\n",
      "C:\\Users\\tonyt\\anaconda3\\envs\\dsi\\lib\\site-packages\\sklearn\\linear_model\\_coordinate_descent.py:525: ConvergenceWarning: Objective did not converge. You might want to increase the number of iterations. Duality gap: 157874151445.7162, tolerance: 434469196.5221713\n",
      "  model = cd_fast.enet_coordinate_descent_gram(\n",
      "C:\\Users\\tonyt\\anaconda3\\envs\\dsi\\lib\\site-packages\\sklearn\\linear_model\\_coordinate_descent.py:525: ConvergenceWarning: Objective did not converge. You might want to increase the number of iterations. Duality gap: 157873517529.83875, tolerance: 434469196.5221713\n",
      "  model = cd_fast.enet_coordinate_descent_gram(\n",
      "C:\\Users\\tonyt\\anaconda3\\envs\\dsi\\lib\\site-packages\\sklearn\\linear_model\\_coordinate_descent.py:525: ConvergenceWarning: Objective did not converge. You might want to increase the number of iterations. Duality gap: 157873142618.4729, tolerance: 434469196.5221713\n",
      "  model = cd_fast.enet_coordinate_descent_gram(\n",
      "C:\\Users\\tonyt\\anaconda3\\envs\\dsi\\lib\\site-packages\\sklearn\\linear_model\\_coordinate_descent.py:525: ConvergenceWarning: Objective did not converge. You might want to increase the number of iterations. Duality gap: 157871481033.3347, tolerance: 434469196.5221713\n",
      "  model = cd_fast.enet_coordinate_descent_gram(\n",
      "C:\\Users\\tonyt\\anaconda3\\envs\\dsi\\lib\\site-packages\\sklearn\\linear_model\\_coordinate_descent.py:525: ConvergenceWarning: Objective did not converge. You might want to increase the number of iterations. Duality gap: 157871715467.4044, tolerance: 434469196.5221713\n",
      "  model = cd_fast.enet_coordinate_descent_gram(\n",
      "C:\\Users\\tonyt\\anaconda3\\envs\\dsi\\lib\\site-packages\\sklearn\\linear_model\\_coordinate_descent.py:525: ConvergenceWarning: Objective did not converge. You might want to increase the number of iterations. Duality gap: 157870601173.39468, tolerance: 434469196.5221713\n",
      "  model = cd_fast.enet_coordinate_descent_gram(\n",
      "C:\\Users\\tonyt\\anaconda3\\envs\\dsi\\lib\\site-packages\\sklearn\\linear_model\\_coordinate_descent.py:525: ConvergenceWarning: Objective did not converge. You might want to increase the number of iterations. Duality gap: 157870551862.51938, tolerance: 434469196.5221713\n",
      "  model = cd_fast.enet_coordinate_descent_gram(\n",
      "C:\\Users\\tonyt\\anaconda3\\envs\\dsi\\lib\\site-packages\\sklearn\\linear_model\\_coordinate_descent.py:525: ConvergenceWarning: Objective did not converge. You might want to increase the number of iterations. Duality gap: 157870482054.7626, tolerance: 434469196.5221713\n",
      "  model = cd_fast.enet_coordinate_descent_gram(\n",
      "C:\\Users\\tonyt\\anaconda3\\envs\\dsi\\lib\\site-packages\\sklearn\\linear_model\\_coordinate_descent.py:525: ConvergenceWarning: Objective did not converge. You might want to increase the number of iterations. Duality gap: 157869893138.7753, tolerance: 434469196.5221713\n",
      "  model = cd_fast.enet_coordinate_descent_gram(\n",
      "C:\\Users\\tonyt\\anaconda3\\envs\\dsi\\lib\\site-packages\\sklearn\\linear_model\\_coordinate_descent.py:525: ConvergenceWarning: Objective did not converge. You might want to increase the number of iterations. Duality gap: 157871144315.17862, tolerance: 434469196.5221713\n",
      "  model = cd_fast.enet_coordinate_descent_gram(\n",
      "C:\\Users\\tonyt\\anaconda3\\envs\\dsi\\lib\\site-packages\\sklearn\\linear_model\\_coordinate_descent.py:525: ConvergenceWarning: Objective did not converge. You might want to increase the number of iterations. Duality gap: 157868556273.37643, tolerance: 434469196.5221713\n",
      "  model = cd_fast.enet_coordinate_descent_gram(\n",
      "C:\\Users\\tonyt\\anaconda3\\envs\\dsi\\lib\\site-packages\\sklearn\\linear_model\\_coordinate_descent.py:525: ConvergenceWarning: Objective did not converge. You might want to increase the number of iterations. Duality gap: 157866982058.91684, tolerance: 434469196.5221713\n",
      "  model = cd_fast.enet_coordinate_descent_gram(\n",
      "C:\\Users\\tonyt\\anaconda3\\envs\\dsi\\lib\\site-packages\\sklearn\\linear_model\\_coordinate_descent.py:525: ConvergenceWarning: Objective did not converge. You might want to increase the number of iterations. Duality gap: 157868951451.97086, tolerance: 434469196.5221713\n",
      "  model = cd_fast.enet_coordinate_descent_gram(\n",
      "C:\\Users\\tonyt\\anaconda3\\envs\\dsi\\lib\\site-packages\\sklearn\\linear_model\\_coordinate_descent.py:525: ConvergenceWarning: Objective did not converge. You might want to increase the number of iterations. Duality gap: 157868401973.2358, tolerance: 434469196.5221713\n",
      "  model = cd_fast.enet_coordinate_descent_gram(\n",
      "C:\\Users\\tonyt\\anaconda3\\envs\\dsi\\lib\\site-packages\\sklearn\\linear_model\\_coordinate_descent.py:525: ConvergenceWarning: Objective did not converge. You might want to increase the number of iterations. Duality gap: 157869231792.518, tolerance: 434469196.5221713\n",
      "  model = cd_fast.enet_coordinate_descent_gram(\n",
      "C:\\Users\\tonyt\\anaconda3\\envs\\dsi\\lib\\site-packages\\sklearn\\linear_model\\_coordinate_descent.py:525: ConvergenceWarning: Objective did not converge. You might want to increase the number of iterations. Duality gap: 157869312241.98215, tolerance: 434469196.5221713\n",
      "  model = cd_fast.enet_coordinate_descent_gram(\n",
      "C:\\Users\\tonyt\\anaconda3\\envs\\dsi\\lib\\site-packages\\sklearn\\linear_model\\_coordinate_descent.py:525: ConvergenceWarning: Objective did not converge. You might want to increase the number of iterations. Duality gap: 157867399578.89526, tolerance: 434469196.5221713\n",
      "  model = cd_fast.enet_coordinate_descent_gram(\n",
      "C:\\Users\\tonyt\\anaconda3\\envs\\dsi\\lib\\site-packages\\sklearn\\linear_model\\_coordinate_descent.py:525: ConvergenceWarning: Objective did not converge. You might want to increase the number of iterations. Duality gap: 157866238310.88358, tolerance: 434469196.5221713\n",
      "  model = cd_fast.enet_coordinate_descent_gram(\n",
      "C:\\Users\\tonyt\\anaconda3\\envs\\dsi\\lib\\site-packages\\sklearn\\linear_model\\_coordinate_descent.py:525: ConvergenceWarning: Objective did not converge. You might want to increase the number of iterations. Duality gap: 157865711679.98657, tolerance: 434469196.5221713\n",
      "  model = cd_fast.enet_coordinate_descent_gram(\n",
      "C:\\Users\\tonyt\\anaconda3\\envs\\dsi\\lib\\site-packages\\sklearn\\linear_model\\_coordinate_descent.py:525: ConvergenceWarning: Objective did not converge. You might want to increase the number of iterations. Duality gap: 157863571243.03302, tolerance: 434469196.5221713\n",
      "  model = cd_fast.enet_coordinate_descent_gram(\n",
      "C:\\Users\\tonyt\\anaconda3\\envs\\dsi\\lib\\site-packages\\sklearn\\linear_model\\_coordinate_descent.py:525: ConvergenceWarning: Objective did not converge. You might want to increase the number of iterations. Duality gap: 157866221771.61557, tolerance: 434469196.5221713\n",
      "  model = cd_fast.enet_coordinate_descent_gram(\n"
     ]
    },
    {
     "name": "stderr",
     "output_type": "stream",
     "text": [
      "C:\\Users\\tonyt\\anaconda3\\envs\\dsi\\lib\\site-packages\\sklearn\\linear_model\\_coordinate_descent.py:525: ConvergenceWarning: Objective did not converge. You might want to increase the number of iterations. Duality gap: 157867300603.1569, tolerance: 434469196.5221713\n",
      "  model = cd_fast.enet_coordinate_descent_gram(\n",
      "C:\\Users\\tonyt\\anaconda3\\envs\\dsi\\lib\\site-packages\\sklearn\\linear_model\\_coordinate_descent.py:525: ConvergenceWarning: Objective did not converge. You might want to increase the number of iterations. Duality gap: 157864587453.87286, tolerance: 434469196.5221713\n",
      "  model = cd_fast.enet_coordinate_descent_gram(\n",
      "C:\\Users\\tonyt\\anaconda3\\envs\\dsi\\lib\\site-packages\\sklearn\\linear_model\\_coordinate_descent.py:525: ConvergenceWarning: Objective did not converge. You might want to increase the number of iterations. Duality gap: 157865475024.8507, tolerance: 434469196.5221713\n",
      "  model = cd_fast.enet_coordinate_descent_gram(\n",
      "C:\\Users\\tonyt\\anaconda3\\envs\\dsi\\lib\\site-packages\\sklearn\\linear_model\\_coordinate_descent.py:525: ConvergenceWarning: Objective did not converge. You might want to increase the number of iterations. Duality gap: 157863738201.39636, tolerance: 434469196.5221713\n",
      "  model = cd_fast.enet_coordinate_descent_gram(\n",
      "C:\\Users\\tonyt\\anaconda3\\envs\\dsi\\lib\\site-packages\\sklearn\\linear_model\\_coordinate_descent.py:525: ConvergenceWarning: Objective did not converge. You might want to increase the number of iterations. Duality gap: 157865977155.48886, tolerance: 434469196.5221713\n",
      "  model = cd_fast.enet_coordinate_descent_gram(\n",
      "C:\\Users\\tonyt\\anaconda3\\envs\\dsi\\lib\\site-packages\\sklearn\\linear_model\\_coordinate_descent.py:525: ConvergenceWarning: Objective did not converge. You might want to increase the number of iterations. Duality gap: 157869458529.75745, tolerance: 434469196.5221713\n",
      "  model = cd_fast.enet_coordinate_descent_gram(\n",
      "C:\\Users\\tonyt\\anaconda3\\envs\\dsi\\lib\\site-packages\\sklearn\\linear_model\\_coordinate_descent.py:525: ConvergenceWarning: Objective did not converge. You might want to increase the number of iterations. Duality gap: 157865085990.51724, tolerance: 434469196.5221713\n",
      "  model = cd_fast.enet_coordinate_descent_gram(\n",
      "C:\\Users\\tonyt\\anaconda3\\envs\\dsi\\lib\\site-packages\\sklearn\\linear_model\\_coordinate_descent.py:525: ConvergenceWarning: Objective did not converge. You might want to increase the number of iterations. Duality gap: 157869536990.49908, tolerance: 434469196.5221713\n",
      "  model = cd_fast.enet_coordinate_descent_gram(\n",
      "C:\\Users\\tonyt\\anaconda3\\envs\\dsi\\lib\\site-packages\\sklearn\\linear_model\\_coordinate_descent.py:525: ConvergenceWarning: Objective did not converge. You might want to increase the number of iterations. Duality gap: 157866219775.9043, tolerance: 434469196.5221713\n",
      "  model = cd_fast.enet_coordinate_descent_gram(\n",
      "C:\\Users\\tonyt\\anaconda3\\envs\\dsi\\lib\\site-packages\\sklearn\\linear_model\\_coordinate_descent.py:525: ConvergenceWarning: Objective did not converge. You might want to increase the number of iterations. Duality gap: 157868704163.4312, tolerance: 434469196.5221713\n",
      "  model = cd_fast.enet_coordinate_descent_gram(\n",
      "C:\\Users\\tonyt\\anaconda3\\envs\\dsi\\lib\\site-packages\\sklearn\\linear_model\\_coordinate_descent.py:525: ConvergenceWarning: Objective did not converge. You might want to increase the number of iterations. Duality gap: 157868167746.1951, tolerance: 434469196.5221713\n",
      "  model = cd_fast.enet_coordinate_descent_gram(\n",
      "C:\\Users\\tonyt\\anaconda3\\envs\\dsi\\lib\\site-packages\\sklearn\\linear_model\\_coordinate_descent.py:525: ConvergenceWarning: Objective did not converge. You might want to increase the number of iterations. Duality gap: 157859683035.70526, tolerance: 434469196.5221713\n",
      "  model = cd_fast.enet_coordinate_descent_gram(\n",
      "C:\\Users\\tonyt\\anaconda3\\envs\\dsi\\lib\\site-packages\\sklearn\\linear_model\\_coordinate_descent.py:525: ConvergenceWarning: Objective did not converge. You might want to increase the number of iterations. Duality gap: 157858287378.3637, tolerance: 434469196.5221713\n",
      "  model = cd_fast.enet_coordinate_descent_gram(\n",
      "C:\\Users\\tonyt\\anaconda3\\envs\\dsi\\lib\\site-packages\\sklearn\\linear_model\\_coordinate_descent.py:525: ConvergenceWarning: Objective did not converge. You might want to increase the number of iterations. Duality gap: 157864539468.13794, tolerance: 434469196.5221713\n",
      "  model = cd_fast.enet_coordinate_descent_gram(\n",
      "C:\\Users\\tonyt\\anaconda3\\envs\\dsi\\lib\\site-packages\\sklearn\\linear_model\\_coordinate_descent.py:525: ConvergenceWarning: Objective did not converge. You might want to increase the number of iterations. Duality gap: 157872738942.57462, tolerance: 434469196.5221713\n",
      "  model = cd_fast.enet_coordinate_descent_gram(\n",
      "C:\\Users\\tonyt\\anaconda3\\envs\\dsi\\lib\\site-packages\\sklearn\\linear_model\\_coordinate_descent.py:525: ConvergenceWarning: Objective did not converge. You might want to increase the number of iterations. Duality gap: 157862083597.03394, tolerance: 434469196.5221713\n",
      "  model = cd_fast.enet_coordinate_descent_gram(\n",
      "C:\\Users\\tonyt\\anaconda3\\envs\\dsi\\lib\\site-packages\\sklearn\\linear_model\\_coordinate_descent.py:525: ConvergenceWarning: Objective did not converge. You might want to increase the number of iterations. Duality gap: 157863690289.49246, tolerance: 434469196.5221713\n",
      "  model = cd_fast.enet_coordinate_descent_gram(\n",
      "C:\\Users\\tonyt\\anaconda3\\envs\\dsi\\lib\\site-packages\\sklearn\\linear_model\\_coordinate_descent.py:525: ConvergenceWarning: Objective did not converge. You might want to increase the number of iterations. Duality gap: 157867794931.59637, tolerance: 434469196.5221713\n",
      "  model = cd_fast.enet_coordinate_descent_gram(\n",
      "C:\\Users\\tonyt\\anaconda3\\envs\\dsi\\lib\\site-packages\\sklearn\\linear_model\\_coordinate_descent.py:525: ConvergenceWarning: Objective did not converge. You might want to increase the number of iterations. Duality gap: 157865335231.0707, tolerance: 434469196.5221713\n",
      "  model = cd_fast.enet_coordinate_descent_gram(\n",
      "C:\\Users\\tonyt\\anaconda3\\envs\\dsi\\lib\\site-packages\\sklearn\\linear_model\\_coordinate_descent.py:525: ConvergenceWarning: Objective did not converge. You might want to increase the number of iterations. Duality gap: 152466136828.48935, tolerance: 439639436.3603287\n",
      "  model = cd_fast.enet_coordinate_descent_gram(\n",
      "C:\\Users\\tonyt\\anaconda3\\envs\\dsi\\lib\\site-packages\\sklearn\\linear_model\\_coordinate_descent.py:525: ConvergenceWarning: Objective did not converge. You might want to increase the number of iterations. Duality gap: 152336997291.73184, tolerance: 439639436.3603287\n",
      "  model = cd_fast.enet_coordinate_descent_gram(\n",
      "C:\\Users\\tonyt\\anaconda3\\envs\\dsi\\lib\\site-packages\\sklearn\\linear_model\\_coordinate_descent.py:525: ConvergenceWarning: Objective did not converge. You might want to increase the number of iterations. Duality gap: 152275828422.895, tolerance: 439639436.3603287\n",
      "  model = cd_fast.enet_coordinate_descent_gram(\n",
      "C:\\Users\\tonyt\\anaconda3\\envs\\dsi\\lib\\site-packages\\sklearn\\linear_model\\_coordinate_descent.py:525: ConvergenceWarning: Objective did not converge. You might want to increase the number of iterations. Duality gap: 152232151967.19205, tolerance: 439639436.3603287\n",
      "  model = cd_fast.enet_coordinate_descent_gram(\n",
      "C:\\Users\\tonyt\\anaconda3\\envs\\dsi\\lib\\site-packages\\sklearn\\linear_model\\_coordinate_descent.py:525: ConvergenceWarning: Objective did not converge. You might want to increase the number of iterations. Duality gap: 152191601801.70688, tolerance: 439639436.3603287\n",
      "  model = cd_fast.enet_coordinate_descent_gram(\n",
      "C:\\Users\\tonyt\\anaconda3\\envs\\dsi\\lib\\site-packages\\sklearn\\linear_model\\_coordinate_descent.py:525: ConvergenceWarning: Objective did not converge. You might want to increase the number of iterations. Duality gap: 152147468303.6998, tolerance: 439639436.3603287\n",
      "  model = cd_fast.enet_coordinate_descent_gram(\n",
      "C:\\Users\\tonyt\\anaconda3\\envs\\dsi\\lib\\site-packages\\sklearn\\linear_model\\_coordinate_descent.py:525: ConvergenceWarning: Objective did not converge. You might want to increase the number of iterations. Duality gap: 152078763972.02902, tolerance: 439639436.3603287\n",
      "  model = cd_fast.enet_coordinate_descent_gram(\n",
      "C:\\Users\\tonyt\\anaconda3\\envs\\dsi\\lib\\site-packages\\sklearn\\linear_model\\_coordinate_descent.py:525: ConvergenceWarning: Objective did not converge. You might want to increase the number of iterations. Duality gap: 151756786582.52032, tolerance: 439639436.3603287\n",
      "  model = cd_fast.enet_coordinate_descent_gram(\n"
     ]
    },
    {
     "name": "stderr",
     "output_type": "stream",
     "text": [
      "C:\\Users\\tonyt\\anaconda3\\envs\\dsi\\lib\\site-packages\\sklearn\\linear_model\\_coordinate_descent.py:525: ConvergenceWarning: Objective did not converge. You might want to increase the number of iterations. Duality gap: 151549581919.0465, tolerance: 439639436.3603287\n",
      "  model = cd_fast.enet_coordinate_descent_gram(\n",
      "C:\\Users\\tonyt\\anaconda3\\envs\\dsi\\lib\\site-packages\\sklearn\\linear_model\\_coordinate_descent.py:525: ConvergenceWarning: Objective did not converge. You might want to increase the number of iterations. Duality gap: 151688463137.14334, tolerance: 439639436.3603287\n",
      "  model = cd_fast.enet_coordinate_descent_gram(\n",
      "C:\\Users\\tonyt\\anaconda3\\envs\\dsi\\lib\\site-packages\\sklearn\\linear_model\\_coordinate_descent.py:525: ConvergenceWarning: Objective did not converge. You might want to increase the number of iterations. Duality gap: 151637775913.5682, tolerance: 439639436.3603287\n",
      "  model = cd_fast.enet_coordinate_descent_gram(\n",
      "C:\\Users\\tonyt\\anaconda3\\envs\\dsi\\lib\\site-packages\\sklearn\\linear_model\\_coordinate_descent.py:525: ConvergenceWarning: Objective did not converge. You might want to increase the number of iterations. Duality gap: 151565720406.20157, tolerance: 439639436.3603287\n",
      "  model = cd_fast.enet_coordinate_descent_gram(\n",
      "C:\\Users\\tonyt\\anaconda3\\envs\\dsi\\lib\\site-packages\\sklearn\\linear_model\\_coordinate_descent.py:525: ConvergenceWarning: Objective did not converge. You might want to increase the number of iterations. Duality gap: 151506403933.705, tolerance: 439639436.3603287\n",
      "  model = cd_fast.enet_coordinate_descent_gram(\n",
      "C:\\Users\\tonyt\\anaconda3\\envs\\dsi\\lib\\site-packages\\sklearn\\linear_model\\_coordinate_descent.py:525: ConvergenceWarning: Objective did not converge. You might want to increase the number of iterations. Duality gap: 151466474266.11197, tolerance: 439639436.3603287\n",
      "  model = cd_fast.enet_coordinate_descent_gram(\n",
      "C:\\Users\\tonyt\\anaconda3\\envs\\dsi\\lib\\site-packages\\sklearn\\linear_model\\_coordinate_descent.py:525: ConvergenceWarning: Objective did not converge. You might want to increase the number of iterations. Duality gap: 151440185032.68887, tolerance: 439639436.3603287\n",
      "  model = cd_fast.enet_coordinate_descent_gram(\n",
      "C:\\Users\\tonyt\\anaconda3\\envs\\dsi\\lib\\site-packages\\sklearn\\linear_model\\_coordinate_descent.py:525: ConvergenceWarning: Objective did not converge. You might want to increase the number of iterations. Duality gap: 151420860391.75812, tolerance: 439639436.3603287\n",
      "  model = cd_fast.enet_coordinate_descent_gram(\n",
      "C:\\Users\\tonyt\\anaconda3\\envs\\dsi\\lib\\site-packages\\sklearn\\linear_model\\_coordinate_descent.py:525: ConvergenceWarning: Objective did not converge. You might want to increase the number of iterations. Duality gap: 151404676613.9954, tolerance: 439639436.3603287\n",
      "  model = cd_fast.enet_coordinate_descent_gram(\n",
      "C:\\Users\\tonyt\\anaconda3\\envs\\dsi\\lib\\site-packages\\sklearn\\linear_model\\_coordinate_descent.py:525: ConvergenceWarning: Objective did not converge. You might want to increase the number of iterations. Duality gap: 151390007374.1253, tolerance: 439639436.3603287\n",
      "  model = cd_fast.enet_coordinate_descent_gram(\n",
      "C:\\Users\\tonyt\\anaconda3\\envs\\dsi\\lib\\site-packages\\sklearn\\linear_model\\_coordinate_descent.py:525: ConvergenceWarning: Objective did not converge. You might want to increase the number of iterations. Duality gap: 151376309780.9255, tolerance: 439639436.3603287\n",
      "  model = cd_fast.enet_coordinate_descent_gram(\n",
      "C:\\Users\\tonyt\\anaconda3\\envs\\dsi\\lib\\site-packages\\sklearn\\linear_model\\_coordinate_descent.py:525: ConvergenceWarning: Objective did not converge. You might want to increase the number of iterations. Duality gap: 151363469292.37854, tolerance: 439639436.3603287\n",
      "  model = cd_fast.enet_coordinate_descent_gram(\n",
      "C:\\Users\\tonyt\\anaconda3\\envs\\dsi\\lib\\site-packages\\sklearn\\linear_model\\_coordinate_descent.py:525: ConvergenceWarning: Objective did not converge. You might want to increase the number of iterations. Duality gap: 151351431493.27393, tolerance: 439639436.3603287\n",
      "  model = cd_fast.enet_coordinate_descent_gram(\n",
      "C:\\Users\\tonyt\\anaconda3\\envs\\dsi\\lib\\site-packages\\sklearn\\linear_model\\_coordinate_descent.py:525: ConvergenceWarning: Objective did not converge. You might want to increase the number of iterations. Duality gap: 151340165328.4298, tolerance: 439639436.3603287\n",
      "  model = cd_fast.enet_coordinate_descent_gram(\n",
      "C:\\Users\\tonyt\\anaconda3\\envs\\dsi\\lib\\site-packages\\sklearn\\linear_model\\_coordinate_descent.py:525: ConvergenceWarning: Objective did not converge. You might want to increase the number of iterations. Duality gap: 151329630547.7349, tolerance: 439639436.3603287\n",
      "  model = cd_fast.enet_coordinate_descent_gram(\n",
      "C:\\Users\\tonyt\\anaconda3\\envs\\dsi\\lib\\site-packages\\sklearn\\linear_model\\_coordinate_descent.py:525: ConvergenceWarning: Objective did not converge. You might want to increase the number of iterations. Duality gap: 151319799431.37314, tolerance: 439639436.3603287\n",
      "  model = cd_fast.enet_coordinate_descent_gram(\n",
      "C:\\Users\\tonyt\\anaconda3\\envs\\dsi\\lib\\site-packages\\sklearn\\linear_model\\_coordinate_descent.py:525: ConvergenceWarning: Objective did not converge. You might want to increase the number of iterations. Duality gap: 151310636855.3042, tolerance: 439639436.3603287\n",
      "  model = cd_fast.enet_coordinate_descent_gram(\n",
      "C:\\Users\\tonyt\\anaconda3\\envs\\dsi\\lib\\site-packages\\sklearn\\linear_model\\_coordinate_descent.py:525: ConvergenceWarning: Objective did not converge. You might want to increase the number of iterations. Duality gap: 151302085186.80893, tolerance: 439639436.3603287\n",
      "  model = cd_fast.enet_coordinate_descent_gram(\n",
      "C:\\Users\\tonyt\\anaconda3\\envs\\dsi\\lib\\site-packages\\sklearn\\linear_model\\_coordinate_descent.py:525: ConvergenceWarning: Objective did not converge. You might want to increase the number of iterations. Duality gap: 151294112372.1892, tolerance: 439639436.3603287\n",
      "  model = cd_fast.enet_coordinate_descent_gram(\n",
      "C:\\Users\\tonyt\\anaconda3\\envs\\dsi\\lib\\site-packages\\sklearn\\linear_model\\_coordinate_descent.py:525: ConvergenceWarning: Objective did not converge. You might want to increase the number of iterations. Duality gap: 151286652323.7174, tolerance: 439639436.3603287\n",
      "  model = cd_fast.enet_coordinate_descent_gram(\n",
      "C:\\Users\\tonyt\\anaconda3\\envs\\dsi\\lib\\site-packages\\sklearn\\linear_model\\_coordinate_descent.py:525: ConvergenceWarning: Objective did not converge. You might want to increase the number of iterations. Duality gap: 151279719492.7016, tolerance: 439639436.3603287\n",
      "  model = cd_fast.enet_coordinate_descent_gram(\n",
      "C:\\Users\\tonyt\\anaconda3\\envs\\dsi\\lib\\site-packages\\sklearn\\linear_model\\_coordinate_descent.py:525: ConvergenceWarning: Objective did not converge. You might want to increase the number of iterations. Duality gap: 151273231494.16504, tolerance: 439639436.3603287\n",
      "  model = cd_fast.enet_coordinate_descent_gram(\n",
      "C:\\Users\\tonyt\\anaconda3\\envs\\dsi\\lib\\site-packages\\sklearn\\linear_model\\_coordinate_descent.py:525: ConvergenceWarning: Objective did not converge. You might want to increase the number of iterations. Duality gap: 151267198902.51486, tolerance: 439639436.3603287\n",
      "  model = cd_fast.enet_coordinate_descent_gram(\n",
      "C:\\Users\\tonyt\\anaconda3\\envs\\dsi\\lib\\site-packages\\sklearn\\linear_model\\_coordinate_descent.py:525: ConvergenceWarning: Objective did not converge. You might want to increase the number of iterations. Duality gap: 151261560302.05154, tolerance: 439639436.3603287\n",
      "  model = cd_fast.enet_coordinate_descent_gram(\n",
      "C:\\Users\\tonyt\\anaconda3\\envs\\dsi\\lib\\site-packages\\sklearn\\linear_model\\_coordinate_descent.py:525: ConvergenceWarning: Objective did not converge. You might want to increase the number of iterations. Duality gap: 151256292424.96844, tolerance: 439639436.3603287\n",
      "  model = cd_fast.enet_coordinate_descent_gram(\n",
      "C:\\Users\\tonyt\\anaconda3\\envs\\dsi\\lib\\site-packages\\sklearn\\linear_model\\_coordinate_descent.py:525: ConvergenceWarning: Objective did not converge. You might want to increase the number of iterations. Duality gap: 151251373870.39188, tolerance: 439639436.3603287\n",
      "  model = cd_fast.enet_coordinate_descent_gram(\n",
      "C:\\Users\\tonyt\\anaconda3\\envs\\dsi\\lib\\site-packages\\sklearn\\linear_model\\_coordinate_descent.py:525: ConvergenceWarning: Objective did not converge. You might want to increase the number of iterations. Duality gap: 151246811196.98273, tolerance: 439639436.3603287\n",
      "  model = cd_fast.enet_coordinate_descent_gram(\n"
     ]
    },
    {
     "name": "stderr",
     "output_type": "stream",
     "text": [
      "C:\\Users\\tonyt\\anaconda3\\envs\\dsi\\lib\\site-packages\\sklearn\\linear_model\\_coordinate_descent.py:525: ConvergenceWarning: Objective did not converge. You might want to increase the number of iterations. Duality gap: 151242532939.43277, tolerance: 439639436.3603287\n",
      "  model = cd_fast.enet_coordinate_descent_gram(\n",
      "C:\\Users\\tonyt\\anaconda3\\envs\\dsi\\lib\\site-packages\\sklearn\\linear_model\\_coordinate_descent.py:525: ConvergenceWarning: Objective did not converge. You might want to increase the number of iterations. Duality gap: 151238536891.23572, tolerance: 439639436.3603287\n",
      "  model = cd_fast.enet_coordinate_descent_gram(\n",
      "C:\\Users\\tonyt\\anaconda3\\envs\\dsi\\lib\\site-packages\\sklearn\\linear_model\\_coordinate_descent.py:525: ConvergenceWarning: Objective did not converge. You might want to increase the number of iterations. Duality gap: 151234850137.54657, tolerance: 439639436.3603287\n",
      "  model = cd_fast.enet_coordinate_descent_gram(\n",
      "C:\\Users\\tonyt\\anaconda3\\envs\\dsi\\lib\\site-packages\\sklearn\\linear_model\\_coordinate_descent.py:525: ConvergenceWarning: Objective did not converge. You might want to increase the number of iterations. Duality gap: 151231375604.1602, tolerance: 439639436.3603287\n",
      "  model = cd_fast.enet_coordinate_descent_gram(\n",
      "C:\\Users\\tonyt\\anaconda3\\envs\\dsi\\lib\\site-packages\\sklearn\\linear_model\\_coordinate_descent.py:525: ConvergenceWarning: Objective did not converge. You might want to increase the number of iterations. Duality gap: 151228151372.05597, tolerance: 439639436.3603287\n",
      "  model = cd_fast.enet_coordinate_descent_gram(\n",
      "C:\\Users\\tonyt\\anaconda3\\envs\\dsi\\lib\\site-packages\\sklearn\\linear_model\\_coordinate_descent.py:525: ConvergenceWarning: Objective did not converge. You might want to increase the number of iterations. Duality gap: 151225082782.91095, tolerance: 439639436.3603287\n",
      "  model = cd_fast.enet_coordinate_descent_gram(\n",
      "C:\\Users\\tonyt\\anaconda3\\envs\\dsi\\lib\\site-packages\\sklearn\\linear_model\\_coordinate_descent.py:525: ConvergenceWarning: Objective did not converge. You might want to increase the number of iterations. Duality gap: 151222284423.97885, tolerance: 439639436.3603287\n",
      "  model = cd_fast.enet_coordinate_descent_gram(\n",
      "C:\\Users\\tonyt\\anaconda3\\envs\\dsi\\lib\\site-packages\\sklearn\\linear_model\\_coordinate_descent.py:525: ConvergenceWarning: Objective did not converge. You might want to increase the number of iterations. Duality gap: 151219665701.95508, tolerance: 439639436.3603287\n",
      "  model = cd_fast.enet_coordinate_descent_gram(\n",
      "C:\\Users\\tonyt\\anaconda3\\envs\\dsi\\lib\\site-packages\\sklearn\\linear_model\\_coordinate_descent.py:525: ConvergenceWarning: Objective did not converge. You might want to increase the number of iterations. Duality gap: 151217252236.7132, tolerance: 439639436.3603287\n",
      "  model = cd_fast.enet_coordinate_descent_gram(\n",
      "C:\\Users\\tonyt\\anaconda3\\envs\\dsi\\lib\\site-packages\\sklearn\\linear_model\\_coordinate_descent.py:525: ConvergenceWarning: Objective did not converge. You might want to increase the number of iterations. Duality gap: 151214999223.7624, tolerance: 439639436.3603287\n",
      "  model = cd_fast.enet_coordinate_descent_gram(\n",
      "C:\\Users\\tonyt\\anaconda3\\envs\\dsi\\lib\\site-packages\\sklearn\\linear_model\\_coordinate_descent.py:525: ConvergenceWarning: Objective did not converge. You might want to increase the number of iterations. Duality gap: 151212854055.2499, tolerance: 439639436.3603287\n",
      "  model = cd_fast.enet_coordinate_descent_gram(\n",
      "C:\\Users\\tonyt\\anaconda3\\envs\\dsi\\lib\\site-packages\\sklearn\\linear_model\\_coordinate_descent.py:525: ConvergenceWarning: Objective did not converge. You might want to increase the number of iterations. Duality gap: 151210887473.6869, tolerance: 439639436.3603287\n",
      "  model = cd_fast.enet_coordinate_descent_gram(\n",
      "C:\\Users\\tonyt\\anaconda3\\envs\\dsi\\lib\\site-packages\\sklearn\\linear_model\\_coordinate_descent.py:525: ConvergenceWarning: Objective did not converge. You might want to increase the number of iterations. Duality gap: 151208998571.89487, tolerance: 439639436.3603287\n",
      "  model = cd_fast.enet_coordinate_descent_gram(\n",
      "C:\\Users\\tonyt\\anaconda3\\envs\\dsi\\lib\\site-packages\\sklearn\\linear_model\\_coordinate_descent.py:525: ConvergenceWarning: Objective did not converge. You might want to increase the number of iterations. Duality gap: 151207296573.9701, tolerance: 439639436.3603287\n",
      "  model = cd_fast.enet_coordinate_descent_gram(\n",
      "C:\\Users\\tonyt\\anaconda3\\envs\\dsi\\lib\\site-packages\\sklearn\\linear_model\\_coordinate_descent.py:525: ConvergenceWarning: Objective did not converge. You might want to increase the number of iterations. Duality gap: 151205684730.60873, tolerance: 439639436.3603287\n",
      "  model = cd_fast.enet_coordinate_descent_gram(\n",
      "C:\\Users\\tonyt\\anaconda3\\envs\\dsi\\lib\\site-packages\\sklearn\\linear_model\\_coordinate_descent.py:525: ConvergenceWarning: Objective did not converge. You might want to increase the number of iterations. Duality gap: 151204219761.33838, tolerance: 439639436.3603287\n",
      "  model = cd_fast.enet_coordinate_descent_gram(\n",
      "C:\\Users\\tonyt\\anaconda3\\envs\\dsi\\lib\\site-packages\\sklearn\\linear_model\\_coordinate_descent.py:525: ConvergenceWarning: Objective did not converge. You might want to increase the number of iterations. Duality gap: 151202666791.67334, tolerance: 439639436.3603287\n",
      "  model = cd_fast.enet_coordinate_descent_gram(\n",
      "C:\\Users\\tonyt\\anaconda3\\envs\\dsi\\lib\\site-packages\\sklearn\\linear_model\\_coordinate_descent.py:525: ConvergenceWarning: Objective did not converge. You might want to increase the number of iterations. Duality gap: 151201450469.5526, tolerance: 439639436.3603287\n",
      "  model = cd_fast.enet_coordinate_descent_gram(\n",
      "C:\\Users\\tonyt\\anaconda3\\envs\\dsi\\lib\\site-packages\\sklearn\\linear_model\\_coordinate_descent.py:525: ConvergenceWarning: Objective did not converge. You might want to increase the number of iterations. Duality gap: 151200128897.47244, tolerance: 439639436.3603287\n",
      "  model = cd_fast.enet_coordinate_descent_gram(\n",
      "C:\\Users\\tonyt\\anaconda3\\envs\\dsi\\lib\\site-packages\\sklearn\\linear_model\\_coordinate_descent.py:525: ConvergenceWarning: Objective did not converge. You might want to increase the number of iterations. Duality gap: 151199105961.22372, tolerance: 439639436.3603287\n",
      "  model = cd_fast.enet_coordinate_descent_gram(\n",
      "C:\\Users\\tonyt\\anaconda3\\envs\\dsi\\lib\\site-packages\\sklearn\\linear_model\\_coordinate_descent.py:525: ConvergenceWarning: Objective did not converge. You might want to increase the number of iterations. Duality gap: 151198041929.43298, tolerance: 439639436.3603287\n",
      "  model = cd_fast.enet_coordinate_descent_gram(\n",
      "C:\\Users\\tonyt\\anaconda3\\envs\\dsi\\lib\\site-packages\\sklearn\\linear_model\\_coordinate_descent.py:525: ConvergenceWarning: Objective did not converge. You might want to increase the number of iterations. Duality gap: 151197021884.49176, tolerance: 439639436.3603287\n",
      "  model = cd_fast.enet_coordinate_descent_gram(\n",
      "C:\\Users\\tonyt\\anaconda3\\envs\\dsi\\lib\\site-packages\\sklearn\\linear_model\\_coordinate_descent.py:525: ConvergenceWarning: Objective did not converge. You might want to increase the number of iterations. Duality gap: 151196034041.89246, tolerance: 439639436.3603287\n",
      "  model = cd_fast.enet_coordinate_descent_gram(\n",
      "C:\\Users\\tonyt\\anaconda3\\envs\\dsi\\lib\\site-packages\\sklearn\\linear_model\\_coordinate_descent.py:525: ConvergenceWarning: Objective did not converge. You might want to increase the number of iterations. Duality gap: 151195222439.2467, tolerance: 439639436.3603287\n",
      "  model = cd_fast.enet_coordinate_descent_gram(\n",
      "C:\\Users\\tonyt\\anaconda3\\envs\\dsi\\lib\\site-packages\\sklearn\\linear_model\\_coordinate_descent.py:525: ConvergenceWarning: Objective did not converge. You might want to increase the number of iterations. Duality gap: 151194353573.7708, tolerance: 439639436.3603287\n",
      "  model = cd_fast.enet_coordinate_descent_gram(\n",
      "C:\\Users\\tonyt\\anaconda3\\envs\\dsi\\lib\\site-packages\\sklearn\\linear_model\\_coordinate_descent.py:525: ConvergenceWarning: Objective did not converge. You might want to increase the number of iterations. Duality gap: 151193869921.53928, tolerance: 439639436.3603287\n",
      "  model = cd_fast.enet_coordinate_descent_gram(\n",
      "C:\\Users\\tonyt\\anaconda3\\envs\\dsi\\lib\\site-packages\\sklearn\\linear_model\\_coordinate_descent.py:525: ConvergenceWarning: Objective did not converge. You might want to increase the number of iterations. Duality gap: 151193082141.2154, tolerance: 439639436.3603287\n",
      "  model = cd_fast.enet_coordinate_descent_gram(\n"
     ]
    },
    {
     "name": "stderr",
     "output_type": "stream",
     "text": [
      "C:\\Users\\tonyt\\anaconda3\\envs\\dsi\\lib\\site-packages\\sklearn\\linear_model\\_coordinate_descent.py:525: ConvergenceWarning: Objective did not converge. You might want to increase the number of iterations. Duality gap: 151192428648.73715, tolerance: 439639436.3603287\n",
      "  model = cd_fast.enet_coordinate_descent_gram(\n",
      "C:\\Users\\tonyt\\anaconda3\\envs\\dsi\\lib\\site-packages\\sklearn\\linear_model\\_coordinate_descent.py:525: ConvergenceWarning: Objective did not converge. You might want to increase the number of iterations. Duality gap: 151191755211.9217, tolerance: 439639436.3603287\n",
      "  model = cd_fast.enet_coordinate_descent_gram(\n",
      "C:\\Users\\tonyt\\anaconda3\\envs\\dsi\\lib\\site-packages\\sklearn\\linear_model\\_coordinate_descent.py:525: ConvergenceWarning: Objective did not converge. You might want to increase the number of iterations. Duality gap: 151191379848.1706, tolerance: 439639436.3603287\n",
      "  model = cd_fast.enet_coordinate_descent_gram(\n",
      "C:\\Users\\tonyt\\anaconda3\\envs\\dsi\\lib\\site-packages\\sklearn\\linear_model\\_coordinate_descent.py:525: ConvergenceWarning: Objective did not converge. You might want to increase the number of iterations. Duality gap: 151190553069.3139, tolerance: 439639436.3603287\n",
      "  model = cd_fast.enet_coordinate_descent_gram(\n",
      "C:\\Users\\tonyt\\anaconda3\\envs\\dsi\\lib\\site-packages\\sklearn\\linear_model\\_coordinate_descent.py:525: ConvergenceWarning: Objective did not converge. You might want to increase the number of iterations. Duality gap: 151190234387.42197, tolerance: 439639436.3603287\n",
      "  model = cd_fast.enet_coordinate_descent_gram(\n",
      "C:\\Users\\tonyt\\anaconda3\\envs\\dsi\\lib\\site-packages\\sklearn\\linear_model\\_coordinate_descent.py:525: ConvergenceWarning: Objective did not converge. You might want to increase the number of iterations. Duality gap: 151189827735.56027, tolerance: 439639436.3603287\n",
      "  model = cd_fast.enet_coordinate_descent_gram(\n",
      "C:\\Users\\tonyt\\anaconda3\\envs\\dsi\\lib\\site-packages\\sklearn\\linear_model\\_coordinate_descent.py:525: ConvergenceWarning: Objective did not converge. You might want to increase the number of iterations. Duality gap: 151189135716.91348, tolerance: 439639436.3603287\n",
      "  model = cd_fast.enet_coordinate_descent_gram(\n",
      "C:\\Users\\tonyt\\anaconda3\\envs\\dsi\\lib\\site-packages\\sklearn\\linear_model\\_coordinate_descent.py:525: ConvergenceWarning: Objective did not converge. You might want to increase the number of iterations. Duality gap: 151188884554.4427, tolerance: 439639436.3603287\n",
      "  model = cd_fast.enet_coordinate_descent_gram(\n",
      "C:\\Users\\tonyt\\anaconda3\\envs\\dsi\\lib\\site-packages\\sklearn\\linear_model\\_coordinate_descent.py:525: ConvergenceWarning: Objective did not converge. You might want to increase the number of iterations. Duality gap: 151188729306.46802, tolerance: 439639436.3603287\n",
      "  model = cd_fast.enet_coordinate_descent_gram(\n",
      "C:\\Users\\tonyt\\anaconda3\\envs\\dsi\\lib\\site-packages\\sklearn\\linear_model\\_coordinate_descent.py:525: ConvergenceWarning: Objective did not converge. You might want to increase the number of iterations. Duality gap: 151188165140.13373, tolerance: 439639436.3603287\n",
      "  model = cd_fast.enet_coordinate_descent_gram(\n",
      "C:\\Users\\tonyt\\anaconda3\\envs\\dsi\\lib\\site-packages\\sklearn\\linear_model\\_coordinate_descent.py:525: ConvergenceWarning: Objective did not converge. You might want to increase the number of iterations. Duality gap: 151187966533.83554, tolerance: 439639436.3603287\n",
      "  model = cd_fast.enet_coordinate_descent_gram(\n",
      "C:\\Users\\tonyt\\anaconda3\\envs\\dsi\\lib\\site-packages\\sklearn\\linear_model\\_coordinate_descent.py:525: ConvergenceWarning: Objective did not converge. You might want to increase the number of iterations. Duality gap: 151187335863.3314, tolerance: 439639436.3603287\n",
      "  model = cd_fast.enet_coordinate_descent_gram(\n",
      "C:\\Users\\tonyt\\anaconda3\\envs\\dsi\\lib\\site-packages\\sklearn\\linear_model\\_coordinate_descent.py:525: ConvergenceWarning: Objective did not converge. You might want to increase the number of iterations. Duality gap: 151187399849.24176, tolerance: 439639436.3603287\n",
      "  model = cd_fast.enet_coordinate_descent_gram(\n",
      "C:\\Users\\tonyt\\anaconda3\\envs\\dsi\\lib\\site-packages\\sklearn\\linear_model\\_coordinate_descent.py:525: ConvergenceWarning: Objective did not converge. You might want to increase the number of iterations. Duality gap: 151187013444.9692, tolerance: 439639436.3603287\n",
      "  model = cd_fast.enet_coordinate_descent_gram(\n",
      "C:\\Users\\tonyt\\anaconda3\\envs\\dsi\\lib\\site-packages\\sklearn\\linear_model\\_coordinate_descent.py:525: ConvergenceWarning: Objective did not converge. You might want to increase the number of iterations. Duality gap: 151186868689.68954, tolerance: 439639436.3603287\n",
      "  model = cd_fast.enet_coordinate_descent_gram(\n",
      "C:\\Users\\tonyt\\anaconda3\\envs\\dsi\\lib\\site-packages\\sklearn\\linear_model\\_coordinate_descent.py:525: ConvergenceWarning: Objective did not converge. You might want to increase the number of iterations. Duality gap: 151186703505.75043, tolerance: 439639436.3603287\n",
      "  model = cd_fast.enet_coordinate_descent_gram(\n",
      "C:\\Users\\tonyt\\anaconda3\\envs\\dsi\\lib\\site-packages\\sklearn\\linear_model\\_coordinate_descent.py:525: ConvergenceWarning: Objective did not converge. You might want to increase the number of iterations. Duality gap: 151186769654.35306, tolerance: 439639436.3603287\n",
      "  model = cd_fast.enet_coordinate_descent_gram(\n",
      "C:\\Users\\tonyt\\anaconda3\\envs\\dsi\\lib\\site-packages\\sklearn\\linear_model\\_coordinate_descent.py:525: ConvergenceWarning: Objective did not converge. You might want to increase the number of iterations. Duality gap: 151186307514.53436, tolerance: 439639436.3603287\n",
      "  model = cd_fast.enet_coordinate_descent_gram(\n",
      "C:\\Users\\tonyt\\anaconda3\\envs\\dsi\\lib\\site-packages\\sklearn\\linear_model\\_coordinate_descent.py:525: ConvergenceWarning: Objective did not converge. You might want to increase the number of iterations. Duality gap: 151185914129.17395, tolerance: 439639436.3603287\n",
      "  model = cd_fast.enet_coordinate_descent_gram(\n",
      "C:\\Users\\tonyt\\anaconda3\\envs\\dsi\\lib\\site-packages\\sklearn\\linear_model\\_coordinate_descent.py:525: ConvergenceWarning: Objective did not converge. You might want to increase the number of iterations. Duality gap: 151185172378.26212, tolerance: 439639436.3603287\n",
      "  model = cd_fast.enet_coordinate_descent_gram(\n",
      "C:\\Users\\tonyt\\anaconda3\\envs\\dsi\\lib\\site-packages\\sklearn\\linear_model\\_coordinate_descent.py:525: ConvergenceWarning: Objective did not converge. You might want to increase the number of iterations. Duality gap: 151186082872.07104, tolerance: 439639436.3603287\n",
      "  model = cd_fast.enet_coordinate_descent_gram(\n",
      "C:\\Users\\tonyt\\anaconda3\\envs\\dsi\\lib\\site-packages\\sklearn\\linear_model\\_coordinate_descent.py:525: ConvergenceWarning: Objective did not converge. You might want to increase the number of iterations. Duality gap: 151185622363.97064, tolerance: 439639436.3603287\n",
      "  model = cd_fast.enet_coordinate_descent_gram(\n",
      "C:\\Users\\tonyt\\anaconda3\\envs\\dsi\\lib\\site-packages\\sklearn\\linear_model\\_coordinate_descent.py:525: ConvergenceWarning: Objective did not converge. You might want to increase the number of iterations. Duality gap: 151184708471.43298, tolerance: 439639436.3603287\n",
      "  model = cd_fast.enet_coordinate_descent_gram(\n",
      "C:\\Users\\tonyt\\anaconda3\\envs\\dsi\\lib\\site-packages\\sklearn\\linear_model\\_coordinate_descent.py:525: ConvergenceWarning: Objective did not converge. You might want to increase the number of iterations. Duality gap: 151185028704.30487, tolerance: 439639436.3603287\n",
      "  model = cd_fast.enet_coordinate_descent_gram(\n",
      "C:\\Users\\tonyt\\anaconda3\\envs\\dsi\\lib\\site-packages\\sklearn\\linear_model\\_coordinate_descent.py:525: ConvergenceWarning: Objective did not converge. You might want to increase the number of iterations. Duality gap: 151185103507.72855, tolerance: 439639436.3603287\n",
      "  model = cd_fast.enet_coordinate_descent_gram(\n",
      "C:\\Users\\tonyt\\anaconda3\\envs\\dsi\\lib\\site-packages\\sklearn\\linear_model\\_coordinate_descent.py:525: ConvergenceWarning: Objective did not converge. You might want to increase the number of iterations. Duality gap: 151184476456.3435, tolerance: 439639436.3603287\n",
      "  model = cd_fast.enet_coordinate_descent_gram(\n",
      "C:\\Users\\tonyt\\anaconda3\\envs\\dsi\\lib\\site-packages\\sklearn\\linear_model\\_coordinate_descent.py:525: ConvergenceWarning: Objective did not converge. You might want to increase the number of iterations. Duality gap: 151185372417.6096, tolerance: 439639436.3603287\n",
      "  model = cd_fast.enet_coordinate_descent_gram(\n"
     ]
    },
    {
     "name": "stderr",
     "output_type": "stream",
     "text": [
      "C:\\Users\\tonyt\\anaconda3\\envs\\dsi\\lib\\site-packages\\sklearn\\linear_model\\_coordinate_descent.py:525: ConvergenceWarning: Objective did not converge. You might want to increase the number of iterations. Duality gap: 151183557075.88657, tolerance: 439639436.3603287\n",
      "  model = cd_fast.enet_coordinate_descent_gram(\n",
      "C:\\Users\\tonyt\\anaconda3\\envs\\dsi\\lib\\site-packages\\sklearn\\linear_model\\_coordinate_descent.py:525: ConvergenceWarning: Objective did not converge. You might want to increase the number of iterations. Duality gap: 151184664773.08212, tolerance: 439639436.3603287\n",
      "  model = cd_fast.enet_coordinate_descent_gram(\n",
      "C:\\Users\\tonyt\\anaconda3\\envs\\dsi\\lib\\site-packages\\sklearn\\linear_model\\_coordinate_descent.py:525: ConvergenceWarning: Objective did not converge. You might want to increase the number of iterations. Duality gap: 151183842754.18594, tolerance: 439639436.3603287\n",
      "  model = cd_fast.enet_coordinate_descent_gram(\n",
      "C:\\Users\\tonyt\\anaconda3\\envs\\dsi\\lib\\site-packages\\sklearn\\linear_model\\_coordinate_descent.py:525: ConvergenceWarning: Objective did not converge. You might want to increase the number of iterations. Duality gap: 151184913314.3839, tolerance: 439639436.3603287\n",
      "  model = cd_fast.enet_coordinate_descent_gram(\n",
      "C:\\Users\\tonyt\\anaconda3\\envs\\dsi\\lib\\site-packages\\sklearn\\linear_model\\_coordinate_descent.py:525: ConvergenceWarning: Objective did not converge. You might want to increase the number of iterations. Duality gap: 151183658682.14984, tolerance: 439639436.3603287\n",
      "  model = cd_fast.enet_coordinate_descent_gram(\n",
      "C:\\Users\\tonyt\\anaconda3\\envs\\dsi\\lib\\site-packages\\sklearn\\linear_model\\_coordinate_descent.py:525: ConvergenceWarning: Objective did not converge. You might want to increase the number of iterations. Duality gap: 151185612035.6226, tolerance: 439639436.3603287\n",
      "  model = cd_fast.enet_coordinate_descent_gram(\n",
      "C:\\Users\\tonyt\\anaconda3\\envs\\dsi\\lib\\site-packages\\sklearn\\linear_model\\_coordinate_descent.py:525: ConvergenceWarning: Objective did not converge. You might want to increase the number of iterations. Duality gap: 151184272087.51035, tolerance: 439639436.3603287\n",
      "  model = cd_fast.enet_coordinate_descent_gram(\n",
      "C:\\Users\\tonyt\\anaconda3\\envs\\dsi\\lib\\site-packages\\sklearn\\linear_model\\_coordinate_descent.py:525: ConvergenceWarning: Objective did not converge. You might want to increase the number of iterations. Duality gap: 151184627884.25162, tolerance: 439639436.3603287\n",
      "  model = cd_fast.enet_coordinate_descent_gram(\n",
      "C:\\Users\\tonyt\\anaconda3\\envs\\dsi\\lib\\site-packages\\sklearn\\linear_model\\_coordinate_descent.py:525: ConvergenceWarning: Objective did not converge. You might want to increase the number of iterations. Duality gap: 151182872537.98154, tolerance: 439639436.3603287\n",
      "  model = cd_fast.enet_coordinate_descent_gram(\n",
      "C:\\Users\\tonyt\\anaconda3\\envs\\dsi\\lib\\site-packages\\sklearn\\linear_model\\_coordinate_descent.py:525: ConvergenceWarning: Objective did not converge. You might want to increase the number of iterations. Duality gap: 151185447644.764, tolerance: 439639436.3603287\n",
      "  model = cd_fast.enet_coordinate_descent_gram(\n",
      "C:\\Users\\tonyt\\anaconda3\\envs\\dsi\\lib\\site-packages\\sklearn\\linear_model\\_coordinate_descent.py:525: ConvergenceWarning: Objective did not converge. You might want to increase the number of iterations. Duality gap: 151184685760.2366, tolerance: 439639436.3603287\n",
      "  model = cd_fast.enet_coordinate_descent_gram(\n",
      "C:\\Users\\tonyt\\anaconda3\\envs\\dsi\\lib\\site-packages\\sklearn\\linear_model\\_coordinate_descent.py:525: ConvergenceWarning: Objective did not converge. You might want to increase the number of iterations. Duality gap: 159961142836.74457, tolerance: 445316686.7372742\n",
      "  model = cd_fast.enet_coordinate_descent_gram(\n",
      "C:\\Users\\tonyt\\anaconda3\\envs\\dsi\\lib\\site-packages\\sklearn\\linear_model\\_coordinate_descent.py:525: ConvergenceWarning: Objective did not converge. You might want to increase the number of iterations. Duality gap: 159847646647.2087, tolerance: 445316686.7372742\n",
      "  model = cd_fast.enet_coordinate_descent_gram(\n",
      "C:\\Users\\tonyt\\anaconda3\\envs\\dsi\\lib\\site-packages\\sklearn\\linear_model\\_coordinate_descent.py:525: ConvergenceWarning: Objective did not converge. You might want to increase the number of iterations. Duality gap: 159796280393.1365, tolerance: 445316686.7372742\n",
      "  model = cd_fast.enet_coordinate_descent_gram(\n",
      "C:\\Users\\tonyt\\anaconda3\\envs\\dsi\\lib\\site-packages\\sklearn\\linear_model\\_coordinate_descent.py:525: ConvergenceWarning: Objective did not converge. You might want to increase the number of iterations. Duality gap: 159700422219.18393, tolerance: 445316686.7372742\n",
      "  model = cd_fast.enet_coordinate_descent_gram(\n",
      "C:\\Users\\tonyt\\anaconda3\\envs\\dsi\\lib\\site-packages\\sklearn\\linear_model\\_coordinate_descent.py:525: ConvergenceWarning: Objective did not converge. You might want to increase the number of iterations. Duality gap: 159694937558.46115, tolerance: 445316686.7372742\n",
      "  model = cd_fast.enet_coordinate_descent_gram(\n",
      "C:\\Users\\tonyt\\anaconda3\\envs\\dsi\\lib\\site-packages\\sklearn\\linear_model\\_coordinate_descent.py:525: ConvergenceWarning: Objective did not converge. You might want to increase the number of iterations. Duality gap: 159654204335.99036, tolerance: 445316686.7372742\n",
      "  model = cd_fast.enet_coordinate_descent_gram(\n",
      "C:\\Users\\tonyt\\anaconda3\\envs\\dsi\\lib\\site-packages\\sklearn\\linear_model\\_coordinate_descent.py:525: ConvergenceWarning: Objective did not converge. You might want to increase the number of iterations. Duality gap: 159587057087.71378, tolerance: 445316686.7372742\n",
      "  model = cd_fast.enet_coordinate_descent_gram(\n",
      "C:\\Users\\tonyt\\anaconda3\\envs\\dsi\\lib\\site-packages\\sklearn\\linear_model\\_coordinate_descent.py:525: ConvergenceWarning: Objective did not converge. You might want to increase the number of iterations. Duality gap: 159401969768.80667, tolerance: 445316686.7372742\n",
      "  model = cd_fast.enet_coordinate_descent_gram(\n",
      "C:\\Users\\tonyt\\anaconda3\\envs\\dsi\\lib\\site-packages\\sklearn\\linear_model\\_coordinate_descent.py:525: ConvergenceWarning: Objective did not converge. You might want to increase the number of iterations. Duality gap: 157443883728.31793, tolerance: 445316686.7372742\n",
      "  model = cd_fast.enet_coordinate_descent_gram(\n",
      "C:\\Users\\tonyt\\anaconda3\\envs\\dsi\\lib\\site-packages\\sklearn\\linear_model\\_coordinate_descent.py:525: ConvergenceWarning: Objective did not converge. You might want to increase the number of iterations. Duality gap: 159120169560.22372, tolerance: 445316686.7372742\n",
      "  model = cd_fast.enet_coordinate_descent_gram(\n",
      "C:\\Users\\tonyt\\anaconda3\\envs\\dsi\\lib\\site-packages\\sklearn\\linear_model\\_coordinate_descent.py:525: ConvergenceWarning: Objective did not converge. You might want to increase the number of iterations. Duality gap: 159178611390.37225, tolerance: 445316686.7372742\n",
      "  model = cd_fast.enet_coordinate_descent_gram(\n",
      "C:\\Users\\tonyt\\anaconda3\\envs\\dsi\\lib\\site-packages\\sklearn\\linear_model\\_coordinate_descent.py:525: ConvergenceWarning: Objective did not converge. You might want to increase the number of iterations. Duality gap: 159160834334.15012, tolerance: 445316686.7372742\n",
      "  model = cd_fast.enet_coordinate_descent_gram(\n",
      "C:\\Users\\tonyt\\anaconda3\\envs\\dsi\\lib\\site-packages\\sklearn\\linear_model\\_coordinate_descent.py:525: ConvergenceWarning: Objective did not converge. You might want to increase the number of iterations. Duality gap: 158995483087.33386, tolerance: 445316686.7372742\n",
      "  model = cd_fast.enet_coordinate_descent_gram(\n",
      "C:\\Users\\tonyt\\anaconda3\\envs\\dsi\\lib\\site-packages\\sklearn\\linear_model\\_coordinate_descent.py:525: ConvergenceWarning: Objective did not converge. You might want to increase the number of iterations. Duality gap: 158826430168.36746, tolerance: 445316686.7372742\n",
      "  model = cd_fast.enet_coordinate_descent_gram(\n",
      "C:\\Users\\tonyt\\anaconda3\\envs\\dsi\\lib\\site-packages\\sklearn\\linear_model\\_coordinate_descent.py:525: ConvergenceWarning: Objective did not converge. You might want to increase the number of iterations. Duality gap: 158726600987.77496, tolerance: 445316686.7372742\n",
      "  model = cd_fast.enet_coordinate_descent_gram(\n",
      "C:\\Users\\tonyt\\anaconda3\\envs\\dsi\\lib\\site-packages\\sklearn\\linear_model\\_coordinate_descent.py:525: ConvergenceWarning: Objective did not converge. You might want to increase the number of iterations. Duality gap: 158684298956.71387, tolerance: 445316686.7372742\n",
      "  model = cd_fast.enet_coordinate_descent_gram(\n"
     ]
    },
    {
     "name": "stderr",
     "output_type": "stream",
     "text": [
      "C:\\Users\\tonyt\\anaconda3\\envs\\dsi\\lib\\site-packages\\sklearn\\linear_model\\_coordinate_descent.py:525: ConvergenceWarning: Objective did not converge. You might want to increase the number of iterations. Duality gap: 158666711718.61765, tolerance: 445316686.7372742\n",
      "  model = cd_fast.enet_coordinate_descent_gram(\n",
      "C:\\Users\\tonyt\\anaconda3\\envs\\dsi\\lib\\site-packages\\sklearn\\linear_model\\_coordinate_descent.py:525: ConvergenceWarning: Objective did not converge. You might want to increase the number of iterations. Duality gap: 158655393833.44272, tolerance: 445316686.7372742\n",
      "  model = cd_fast.enet_coordinate_descent_gram(\n",
      "C:\\Users\\tonyt\\anaconda3\\envs\\dsi\\lib\\site-packages\\sklearn\\linear_model\\_coordinate_descent.py:525: ConvergenceWarning: Objective did not converge. You might want to increase the number of iterations. Duality gap: 158644507496.89786, tolerance: 445316686.7372742\n",
      "  model = cd_fast.enet_coordinate_descent_gram(\n",
      "C:\\Users\\tonyt\\anaconda3\\envs\\dsi\\lib\\site-packages\\sklearn\\linear_model\\_coordinate_descent.py:525: ConvergenceWarning: Objective did not converge. You might want to increase the number of iterations. Duality gap: 158633117786.601, tolerance: 445316686.7372742\n",
      "  model = cd_fast.enet_coordinate_descent_gram(\n",
      "C:\\Users\\tonyt\\anaconda3\\envs\\dsi\\lib\\site-packages\\sklearn\\linear_model\\_coordinate_descent.py:525: ConvergenceWarning: Objective did not converge. You might want to increase the number of iterations. Duality gap: 158621648689.9165, tolerance: 445316686.7372742\n",
      "  model = cd_fast.enet_coordinate_descent_gram(\n",
      "C:\\Users\\tonyt\\anaconda3\\envs\\dsi\\lib\\site-packages\\sklearn\\linear_model\\_coordinate_descent.py:525: ConvergenceWarning: Objective did not converge. You might want to increase the number of iterations. Duality gap: 158610512943.7266, tolerance: 445316686.7372742\n",
      "  model = cd_fast.enet_coordinate_descent_gram(\n",
      "C:\\Users\\tonyt\\anaconda3\\envs\\dsi\\lib\\site-packages\\sklearn\\linear_model\\_coordinate_descent.py:525: ConvergenceWarning: Objective did not converge. You might want to increase the number of iterations. Duality gap: 158599964454.20145, tolerance: 445316686.7372742\n",
      "  model = cd_fast.enet_coordinate_descent_gram(\n",
      "C:\\Users\\tonyt\\anaconda3\\envs\\dsi\\lib\\site-packages\\sklearn\\linear_model\\_coordinate_descent.py:525: ConvergenceWarning: Objective did not converge. You might want to increase the number of iterations. Duality gap: 158590080825.3386, tolerance: 445316686.7372742\n",
      "  model = cd_fast.enet_coordinate_descent_gram(\n",
      "C:\\Users\\tonyt\\anaconda3\\envs\\dsi\\lib\\site-packages\\sklearn\\linear_model\\_coordinate_descent.py:525: ConvergenceWarning: Objective did not converge. You might want to increase the number of iterations. Duality gap: 158580842115.85736, tolerance: 445316686.7372742\n",
      "  model = cd_fast.enet_coordinate_descent_gram(\n",
      "C:\\Users\\tonyt\\anaconda3\\envs\\dsi\\lib\\site-packages\\sklearn\\linear_model\\_coordinate_descent.py:525: ConvergenceWarning: Objective did not converge. You might want to increase the number of iterations. Duality gap: 158572225744.8761, tolerance: 445316686.7372742\n",
      "  model = cd_fast.enet_coordinate_descent_gram(\n",
      "C:\\Users\\tonyt\\anaconda3\\envs\\dsi\\lib\\site-packages\\sklearn\\linear_model\\_coordinate_descent.py:525: ConvergenceWarning: Objective did not converge. You might want to increase the number of iterations. Duality gap: 158564206557.1227, tolerance: 445316686.7372742\n",
      "  model = cd_fast.enet_coordinate_descent_gram(\n",
      "C:\\Users\\tonyt\\anaconda3\\envs\\dsi\\lib\\site-packages\\sklearn\\linear_model\\_coordinate_descent.py:525: ConvergenceWarning: Objective did not converge. You might want to increase the number of iterations. Duality gap: 158556708312.42343, tolerance: 445316686.7372742\n",
      "  model = cd_fast.enet_coordinate_descent_gram(\n",
      "C:\\Users\\tonyt\\anaconda3\\envs\\dsi\\lib\\site-packages\\sklearn\\linear_model\\_coordinate_descent.py:525: ConvergenceWarning: Objective did not converge. You might want to increase the number of iterations. Duality gap: 158549734376.05615, tolerance: 445316686.7372742\n",
      "  model = cd_fast.enet_coordinate_descent_gram(\n",
      "C:\\Users\\tonyt\\anaconda3\\envs\\dsi\\lib\\site-packages\\sklearn\\linear_model\\_coordinate_descent.py:525: ConvergenceWarning: Objective did not converge. You might want to increase the number of iterations. Duality gap: 158543243809.88986, tolerance: 445316686.7372742\n",
      "  model = cd_fast.enet_coordinate_descent_gram(\n",
      "C:\\Users\\tonyt\\anaconda3\\envs\\dsi\\lib\\site-packages\\sklearn\\linear_model\\_coordinate_descent.py:525: ConvergenceWarning: Objective did not converge. You might want to increase the number of iterations. Duality gap: 158537141314.93338, tolerance: 445316686.7372742\n",
      "  model = cd_fast.enet_coordinate_descent_gram(\n",
      "C:\\Users\\tonyt\\anaconda3\\envs\\dsi\\lib\\site-packages\\sklearn\\linear_model\\_coordinate_descent.py:525: ConvergenceWarning: Objective did not converge. You might want to increase the number of iterations. Duality gap: 158531512360.91345, tolerance: 445316686.7372742\n",
      "  model = cd_fast.enet_coordinate_descent_gram(\n",
      "C:\\Users\\tonyt\\anaconda3\\envs\\dsi\\lib\\site-packages\\sklearn\\linear_model\\_coordinate_descent.py:525: ConvergenceWarning: Objective did not converge. You might want to increase the number of iterations. Duality gap: 158526190626.46185, tolerance: 445316686.7372742\n",
      "  model = cd_fast.enet_coordinate_descent_gram(\n",
      "C:\\Users\\tonyt\\anaconda3\\envs\\dsi\\lib\\site-packages\\sklearn\\linear_model\\_coordinate_descent.py:525: ConvergenceWarning: Objective did not converge. You might want to increase the number of iterations. Duality gap: 158521247366.05447, tolerance: 445316686.7372742\n",
      "  model = cd_fast.enet_coordinate_descent_gram(\n",
      "C:\\Users\\tonyt\\anaconda3\\envs\\dsi\\lib\\site-packages\\sklearn\\linear_model\\_coordinate_descent.py:525: ConvergenceWarning: Objective did not converge. You might want to increase the number of iterations. Duality gap: 158516659605.64212, tolerance: 445316686.7372742\n",
      "  model = cd_fast.enet_coordinate_descent_gram(\n",
      "C:\\Users\\tonyt\\anaconda3\\envs\\dsi\\lib\\site-packages\\sklearn\\linear_model\\_coordinate_descent.py:525: ConvergenceWarning: Objective did not converge. You might want to increase the number of iterations. Duality gap: 158512372486.71854, tolerance: 445316686.7372742\n",
      "  model = cd_fast.enet_coordinate_descent_gram(\n",
      "C:\\Users\\tonyt\\anaconda3\\envs\\dsi\\lib\\site-packages\\sklearn\\linear_model\\_coordinate_descent.py:525: ConvergenceWarning: Objective did not converge. You might want to increase the number of iterations. Duality gap: 158508370508.74072, tolerance: 445316686.7372742\n",
      "  model = cd_fast.enet_coordinate_descent_gram(\n",
      "C:\\Users\\tonyt\\anaconda3\\envs\\dsi\\lib\\site-packages\\sklearn\\linear_model\\_coordinate_descent.py:525: ConvergenceWarning: Objective did not converge. You might want to increase the number of iterations. Duality gap: 158504637488.4324, tolerance: 445316686.7372742\n",
      "  model = cd_fast.enet_coordinate_descent_gram(\n",
      "C:\\Users\\tonyt\\anaconda3\\envs\\dsi\\lib\\site-packages\\sklearn\\linear_model\\_coordinate_descent.py:525: ConvergenceWarning: Objective did not converge. You might want to increase the number of iterations. Duality gap: 158501109999.7763, tolerance: 445316686.7372742\n",
      "  model = cd_fast.enet_coordinate_descent_gram(\n",
      "C:\\Users\\tonyt\\anaconda3\\envs\\dsi\\lib\\site-packages\\sklearn\\linear_model\\_coordinate_descent.py:525: ConvergenceWarning: Objective did not converge. You might want to increase the number of iterations. Duality gap: 158497906352.08765, tolerance: 445316686.7372742\n",
      "  model = cd_fast.enet_coordinate_descent_gram(\n",
      "C:\\Users\\tonyt\\anaconda3\\envs\\dsi\\lib\\site-packages\\sklearn\\linear_model\\_coordinate_descent.py:525: ConvergenceWarning: Objective did not converge. You might want to increase the number of iterations. Duality gap: 158494865569.6056, tolerance: 445316686.7372742\n",
      "  model = cd_fast.enet_coordinate_descent_gram(\n",
      "C:\\Users\\tonyt\\anaconda3\\envs\\dsi\\lib\\site-packages\\sklearn\\linear_model\\_coordinate_descent.py:525: ConvergenceWarning: Objective did not converge. You might want to increase the number of iterations. Duality gap: 158492079081.60666, tolerance: 445316686.7372742\n",
      "  model = cd_fast.enet_coordinate_descent_gram(\n",
      "C:\\Users\\tonyt\\anaconda3\\envs\\dsi\\lib\\site-packages\\sklearn\\linear_model\\_coordinate_descent.py:525: ConvergenceWarning: Objective did not converge. You might want to increase the number of iterations. Duality gap: 158489432457.60397, tolerance: 445316686.7372742\n",
      "  model = cd_fast.enet_coordinate_descent_gram(\n"
     ]
    },
    {
     "name": "stderr",
     "output_type": "stream",
     "text": [
      "C:\\Users\\tonyt\\anaconda3\\envs\\dsi\\lib\\site-packages\\sklearn\\linear_model\\_coordinate_descent.py:525: ConvergenceWarning: Objective did not converge. You might want to increase the number of iterations. Duality gap: 158486908372.7274, tolerance: 445316686.7372742\n",
      "  model = cd_fast.enet_coordinate_descent_gram(\n",
      "C:\\Users\\tonyt\\anaconda3\\envs\\dsi\\lib\\site-packages\\sklearn\\linear_model\\_coordinate_descent.py:525: ConvergenceWarning: Objective did not converge. You might want to increase the number of iterations. Duality gap: 158484608923.38226, tolerance: 445316686.7372742\n",
      "  model = cd_fast.enet_coordinate_descent_gram(\n",
      "C:\\Users\\tonyt\\anaconda3\\envs\\dsi\\lib\\site-packages\\sklearn\\linear_model\\_coordinate_descent.py:525: ConvergenceWarning: Objective did not converge. You might want to increase the number of iterations. Duality gap: 158482419474.61404, tolerance: 445316686.7372742\n",
      "  model = cd_fast.enet_coordinate_descent_gram(\n",
      "C:\\Users\\tonyt\\anaconda3\\envs\\dsi\\lib\\site-packages\\sklearn\\linear_model\\_coordinate_descent.py:525: ConvergenceWarning: Objective did not converge. You might want to increase the number of iterations. Duality gap: 158480603852.57492, tolerance: 445316686.7372742\n",
      "  model = cd_fast.enet_coordinate_descent_gram(\n",
      "C:\\Users\\tonyt\\anaconda3\\envs\\dsi\\lib\\site-packages\\sklearn\\linear_model\\_coordinate_descent.py:525: ConvergenceWarning: Objective did not converge. You might want to increase the number of iterations. Duality gap: 158478623182.54868, tolerance: 445316686.7372742\n",
      "  model = cd_fast.enet_coordinate_descent_gram(\n",
      "C:\\Users\\tonyt\\anaconda3\\envs\\dsi\\lib\\site-packages\\sklearn\\linear_model\\_coordinate_descent.py:525: ConvergenceWarning: Objective did not converge. You might want to increase the number of iterations. Duality gap: 158476975245.80002, tolerance: 445316686.7372742\n",
      "  model = cd_fast.enet_coordinate_descent_gram(\n",
      "C:\\Users\\tonyt\\anaconda3\\envs\\dsi\\lib\\site-packages\\sklearn\\linear_model\\_coordinate_descent.py:525: ConvergenceWarning: Objective did not converge. You might want to increase the number of iterations. Duality gap: 158475290789.68478, tolerance: 445316686.7372742\n",
      "  model = cd_fast.enet_coordinate_descent_gram(\n",
      "C:\\Users\\tonyt\\anaconda3\\envs\\dsi\\lib\\site-packages\\sklearn\\linear_model\\_coordinate_descent.py:525: ConvergenceWarning: Objective did not converge. You might want to increase the number of iterations. Duality gap: 158473788384.80103, tolerance: 445316686.7372742\n",
      "  model = cd_fast.enet_coordinate_descent_gram(\n",
      "C:\\Users\\tonyt\\anaconda3\\envs\\dsi\\lib\\site-packages\\sklearn\\linear_model\\_coordinate_descent.py:525: ConvergenceWarning: Objective did not converge. You might want to increase the number of iterations. Duality gap: 158472400518.12137, tolerance: 445316686.7372742\n",
      "  model = cd_fast.enet_coordinate_descent_gram(\n",
      "C:\\Users\\tonyt\\anaconda3\\envs\\dsi\\lib\\site-packages\\sklearn\\linear_model\\_coordinate_descent.py:525: ConvergenceWarning: Objective did not converge. You might want to increase the number of iterations. Duality gap: 158471090607.11343, tolerance: 445316686.7372742\n",
      "  model = cd_fast.enet_coordinate_descent_gram(\n",
      "C:\\Users\\tonyt\\anaconda3\\envs\\dsi\\lib\\site-packages\\sklearn\\linear_model\\_coordinate_descent.py:525: ConvergenceWarning: Objective did not converge. You might want to increase the number of iterations. Duality gap: 158469867907.28592, tolerance: 445316686.7372742\n",
      "  model = cd_fast.enet_coordinate_descent_gram(\n",
      "C:\\Users\\tonyt\\anaconda3\\envs\\dsi\\lib\\site-packages\\sklearn\\linear_model\\_coordinate_descent.py:525: ConvergenceWarning: Objective did not converge. You might want to increase the number of iterations. Duality gap: 158468677575.5838, tolerance: 445316686.7372742\n",
      "  model = cd_fast.enet_coordinate_descent_gram(\n",
      "C:\\Users\\tonyt\\anaconda3\\envs\\dsi\\lib\\site-packages\\sklearn\\linear_model\\_coordinate_descent.py:525: ConvergenceWarning: Objective did not converge. You might want to increase the number of iterations. Duality gap: 158467626853.56485, tolerance: 445316686.7372742\n",
      "  model = cd_fast.enet_coordinate_descent_gram(\n",
      "C:\\Users\\tonyt\\anaconda3\\envs\\dsi\\lib\\site-packages\\sklearn\\linear_model\\_coordinate_descent.py:525: ConvergenceWarning: Objective did not converge. You might want to increase the number of iterations. Duality gap: 158466667354.21625, tolerance: 445316686.7372742\n",
      "  model = cd_fast.enet_coordinate_descent_gram(\n",
      "C:\\Users\\tonyt\\anaconda3\\envs\\dsi\\lib\\site-packages\\sklearn\\linear_model\\_coordinate_descent.py:525: ConvergenceWarning: Objective did not converge. You might want to increase the number of iterations. Duality gap: 158465799906.70398, tolerance: 445316686.7372742\n",
      "  model = cd_fast.enet_coordinate_descent_gram(\n",
      "C:\\Users\\tonyt\\anaconda3\\envs\\dsi\\lib\\site-packages\\sklearn\\linear_model\\_coordinate_descent.py:525: ConvergenceWarning: Objective did not converge. You might want to increase the number of iterations. Duality gap: 158464981486.8365, tolerance: 445316686.7372742\n",
      "  model = cd_fast.enet_coordinate_descent_gram(\n",
      "C:\\Users\\tonyt\\anaconda3\\envs\\dsi\\lib\\site-packages\\sklearn\\linear_model\\_coordinate_descent.py:525: ConvergenceWarning: Objective did not converge. You might want to increase the number of iterations. Duality gap: 158464227431.33688, tolerance: 445316686.7372742\n",
      "  model = cd_fast.enet_coordinate_descent_gram(\n",
      "C:\\Users\\tonyt\\anaconda3\\envs\\dsi\\lib\\site-packages\\sklearn\\linear_model\\_coordinate_descent.py:525: ConvergenceWarning: Objective did not converge. You might want to increase the number of iterations. Duality gap: 158463099555.22275, tolerance: 445316686.7372742\n",
      "  model = cd_fast.enet_coordinate_descent_gram(\n",
      "C:\\Users\\tonyt\\anaconda3\\envs\\dsi\\lib\\site-packages\\sklearn\\linear_model\\_coordinate_descent.py:525: ConvergenceWarning: Objective did not converge. You might want to increase the number of iterations. Duality gap: 158462695165.54404, tolerance: 445316686.7372742\n",
      "  model = cd_fast.enet_coordinate_descent_gram(\n",
      "C:\\Users\\tonyt\\anaconda3\\envs\\dsi\\lib\\site-packages\\sklearn\\linear_model\\_coordinate_descent.py:525: ConvergenceWarning: Objective did not converge. You might want to increase the number of iterations. Duality gap: 158461750831.09167, tolerance: 445316686.7372742\n",
      "  model = cd_fast.enet_coordinate_descent_gram(\n",
      "C:\\Users\\tonyt\\anaconda3\\envs\\dsi\\lib\\site-packages\\sklearn\\linear_model\\_coordinate_descent.py:525: ConvergenceWarning: Objective did not converge. You might want to increase the number of iterations. Duality gap: 158461049102.80426, tolerance: 445316686.7372742\n",
      "  model = cd_fast.enet_coordinate_descent_gram(\n",
      "C:\\Users\\tonyt\\anaconda3\\envs\\dsi\\lib\\site-packages\\sklearn\\linear_model\\_coordinate_descent.py:525: ConvergenceWarning: Objective did not converge. You might want to increase the number of iterations. Duality gap: 158460718960.63364, tolerance: 445316686.7372742\n",
      "  model = cd_fast.enet_coordinate_descent_gram(\n",
      "C:\\Users\\tonyt\\anaconda3\\envs\\dsi\\lib\\site-packages\\sklearn\\linear_model\\_coordinate_descent.py:525: ConvergenceWarning: Objective did not converge. You might want to increase the number of iterations. Duality gap: 158460545409.38928, tolerance: 445316686.7372742\n",
      "  model = cd_fast.enet_coordinate_descent_gram(\n",
      "C:\\Users\\tonyt\\anaconda3\\envs\\dsi\\lib\\site-packages\\sklearn\\linear_model\\_coordinate_descent.py:525: ConvergenceWarning: Objective did not converge. You might want to increase the number of iterations. Duality gap: 158459731478.87488, tolerance: 445316686.7372742\n",
      "  model = cd_fast.enet_coordinate_descent_gram(\n",
      "C:\\Users\\tonyt\\anaconda3\\envs\\dsi\\lib\\site-packages\\sklearn\\linear_model\\_coordinate_descent.py:525: ConvergenceWarning: Objective did not converge. You might want to increase the number of iterations. Duality gap: 158458974281.56213, tolerance: 445316686.7372742\n",
      "  model = cd_fast.enet_coordinate_descent_gram(\n",
      "C:\\Users\\tonyt\\anaconda3\\envs\\dsi\\lib\\site-packages\\sklearn\\linear_model\\_coordinate_descent.py:525: ConvergenceWarning: Objective did not converge. You might want to increase the number of iterations. Duality gap: 158458764073.81207, tolerance: 445316686.7372742\n",
      "  model = cd_fast.enet_coordinate_descent_gram(\n",
      "C:\\Users\\tonyt\\anaconda3\\envs\\dsi\\lib\\site-packages\\sklearn\\linear_model\\_coordinate_descent.py:525: ConvergenceWarning: Objective did not converge. You might want to increase the number of iterations. Duality gap: 158458575161.58292, tolerance: 445316686.7372742\n",
      "  model = cd_fast.enet_coordinate_descent_gram(\n"
     ]
    },
    {
     "name": "stderr",
     "output_type": "stream",
     "text": [
      "C:\\Users\\tonyt\\anaconda3\\envs\\dsi\\lib\\site-packages\\sklearn\\linear_model\\_coordinate_descent.py:525: ConvergenceWarning: Objective did not converge. You might want to increase the number of iterations. Duality gap: 158457675950.9828, tolerance: 445316686.7372742\n",
      "  model = cd_fast.enet_coordinate_descent_gram(\n",
      "C:\\Users\\tonyt\\anaconda3\\envs\\dsi\\lib\\site-packages\\sklearn\\linear_model\\_coordinate_descent.py:525: ConvergenceWarning: Objective did not converge. You might want to increase the number of iterations. Duality gap: 158458320516.66083, tolerance: 445316686.7372742\n",
      "  model = cd_fast.enet_coordinate_descent_gram(\n",
      "C:\\Users\\tonyt\\anaconda3\\envs\\dsi\\lib\\site-packages\\sklearn\\linear_model\\_coordinate_descent.py:525: ConvergenceWarning: Objective did not converge. You might want to increase the number of iterations. Duality gap: 158457459499.3809, tolerance: 445316686.7372742\n",
      "  model = cd_fast.enet_coordinate_descent_gram(\n",
      "C:\\Users\\tonyt\\anaconda3\\envs\\dsi\\lib\\site-packages\\sklearn\\linear_model\\_coordinate_descent.py:525: ConvergenceWarning: Objective did not converge. You might want to increase the number of iterations. Duality gap: 158456843788.00616, tolerance: 445316686.7372742\n",
      "  model = cd_fast.enet_coordinate_descent_gram(\n",
      "C:\\Users\\tonyt\\anaconda3\\envs\\dsi\\lib\\site-packages\\sklearn\\linear_model\\_coordinate_descent.py:525: ConvergenceWarning: Objective did not converge. You might want to increase the number of iterations. Duality gap: 158456733318.82974, tolerance: 445316686.7372742\n",
      "  model = cd_fast.enet_coordinate_descent_gram(\n",
      "C:\\Users\\tonyt\\anaconda3\\envs\\dsi\\lib\\site-packages\\sklearn\\linear_model\\_coordinate_descent.py:525: ConvergenceWarning: Objective did not converge. You might want to increase the number of iterations. Duality gap: 158456818726.23944, tolerance: 445316686.7372742\n",
      "  model = cd_fast.enet_coordinate_descent_gram(\n",
      "C:\\Users\\tonyt\\anaconda3\\envs\\dsi\\lib\\site-packages\\sklearn\\linear_model\\_coordinate_descent.py:525: ConvergenceWarning: Objective did not converge. You might want to increase the number of iterations. Duality gap: 158455511403.52136, tolerance: 445316686.7372742\n",
      "  model = cd_fast.enet_coordinate_descent_gram(\n",
      "C:\\Users\\tonyt\\anaconda3\\envs\\dsi\\lib\\site-packages\\sklearn\\linear_model\\_coordinate_descent.py:525: ConvergenceWarning: Objective did not converge. You might want to increase the number of iterations. Duality gap: 158456148713.75937, tolerance: 445316686.7372742\n",
      "  model = cd_fast.enet_coordinate_descent_gram(\n",
      "C:\\Users\\tonyt\\anaconda3\\envs\\dsi\\lib\\site-packages\\sklearn\\linear_model\\_coordinate_descent.py:525: ConvergenceWarning: Objective did not converge. You might want to increase the number of iterations. Duality gap: 158455918165.87372, tolerance: 445316686.7372742\n",
      "  model = cd_fast.enet_coordinate_descent_gram(\n",
      "C:\\Users\\tonyt\\anaconda3\\envs\\dsi\\lib\\site-packages\\sklearn\\linear_model\\_coordinate_descent.py:525: ConvergenceWarning: Objective did not converge. You might want to increase the number of iterations. Duality gap: 158456282094.35477, tolerance: 445316686.7372742\n",
      "  model = cd_fast.enet_coordinate_descent_gram(\n",
      "C:\\Users\\tonyt\\anaconda3\\envs\\dsi\\lib\\site-packages\\sklearn\\linear_model\\_coordinate_descent.py:525: ConvergenceWarning: Objective did not converge. You might want to increase the number of iterations. Duality gap: 158454845954.92422, tolerance: 445316686.7372742\n",
      "  model = cd_fast.enet_coordinate_descent_gram(\n",
      "C:\\Users\\tonyt\\anaconda3\\envs\\dsi\\lib\\site-packages\\sklearn\\linear_model\\_coordinate_descent.py:525: ConvergenceWarning: Objective did not converge. You might want to increase the number of iterations. Duality gap: 158455908253.51932, tolerance: 445316686.7372742\n",
      "  model = cd_fast.enet_coordinate_descent_gram(\n",
      "C:\\Users\\tonyt\\anaconda3\\envs\\dsi\\lib\\site-packages\\sklearn\\linear_model\\_coordinate_descent.py:525: ConvergenceWarning: Objective did not converge. You might want to increase the number of iterations. Duality gap: 158455865071.4917, tolerance: 445316686.7372742\n",
      "  model = cd_fast.enet_coordinate_descent_gram(\n",
      "C:\\Users\\tonyt\\anaconda3\\envs\\dsi\\lib\\site-packages\\sklearn\\linear_model\\_coordinate_descent.py:525: ConvergenceWarning: Objective did not converge. You might want to increase the number of iterations. Duality gap: 158454498286.83557, tolerance: 445316686.7372742\n",
      "  model = cd_fast.enet_coordinate_descent_gram(\n",
      "C:\\Users\\tonyt\\anaconda3\\envs\\dsi\\lib\\site-packages\\sklearn\\linear_model\\_coordinate_descent.py:525: ConvergenceWarning: Objective did not converge. You might want to increase the number of iterations. Duality gap: 158453412900.75357, tolerance: 445316686.7372742\n",
      "  model = cd_fast.enet_coordinate_descent_gram(\n",
      "C:\\Users\\tonyt\\anaconda3\\envs\\dsi\\lib\\site-packages\\sklearn\\linear_model\\_coordinate_descent.py:525: ConvergenceWarning: Objective did not converge. You might want to increase the number of iterations. Duality gap: 158455021839.87057, tolerance: 445316686.7372742\n",
      "  model = cd_fast.enet_coordinate_descent_gram(\n",
      "C:\\Users\\tonyt\\anaconda3\\envs\\dsi\\lib\\site-packages\\sklearn\\linear_model\\_coordinate_descent.py:525: ConvergenceWarning: Objective did not converge. You might want to increase the number of iterations. Duality gap: 158452726148.27075, tolerance: 445316686.7372742\n",
      "  model = cd_fast.enet_coordinate_descent_gram(\n",
      "C:\\Users\\tonyt\\anaconda3\\envs\\dsi\\lib\\site-packages\\sklearn\\linear_model\\_coordinate_descent.py:525: ConvergenceWarning: Objective did not converge. You might want to increase the number of iterations. Duality gap: 158453600858.1405, tolerance: 445316686.7372742\n",
      "  model = cd_fast.enet_coordinate_descent_gram(\n",
      "C:\\Users\\tonyt\\anaconda3\\envs\\dsi\\lib\\site-packages\\sklearn\\linear_model\\_coordinate_descent.py:525: ConvergenceWarning: Objective did not converge. You might want to increase the number of iterations. Duality gap: 158454687635.67157, tolerance: 445316686.7372742\n",
      "  model = cd_fast.enet_coordinate_descent_gram(\n",
      "C:\\Users\\tonyt\\anaconda3\\envs\\dsi\\lib\\site-packages\\sklearn\\linear_model\\_coordinate_descent.py:525: ConvergenceWarning: Objective did not converge. You might want to increase the number of iterations. Duality gap: 158453147972.99057, tolerance: 445316686.7372742\n",
      "  model = cd_fast.enet_coordinate_descent_gram(\n",
      "C:\\Users\\tonyt\\anaconda3\\envs\\dsi\\lib\\site-packages\\sklearn\\linear_model\\_coordinate_descent.py:525: ConvergenceWarning: Objective did not converge. You might want to increase the number of iterations. Duality gap: 158453506080.5205, tolerance: 445316686.7372742\n",
      "  model = cd_fast.enet_coordinate_descent_gram(\n",
      "C:\\Users\\tonyt\\anaconda3\\envs\\dsi\\lib\\site-packages\\sklearn\\linear_model\\_coordinate_descent.py:525: ConvergenceWarning: Objective did not converge. You might want to increase the number of iterations. Duality gap: 158456258385.92102, tolerance: 445316686.7372742\n",
      "  model = cd_fast.enet_coordinate_descent_gram(\n",
      "C:\\Users\\tonyt\\anaconda3\\envs\\dsi\\lib\\site-packages\\sklearn\\linear_model\\_coordinate_descent.py:525: ConvergenceWarning: Objective did not converge. You might want to increase the number of iterations. Duality gap: 158455237812.73376, tolerance: 445316686.7372742\n",
      "  model = cd_fast.enet_coordinate_descent_gram(\n",
      "C:\\Users\\tonyt\\anaconda3\\envs\\dsi\\lib\\site-packages\\sklearn\\linear_model\\_coordinate_descent.py:525: ConvergenceWarning: Objective did not converge. You might want to increase the number of iterations. Duality gap: 158452396566.07657, tolerance: 445316686.7372742\n",
      "  model = cd_fast.enet_coordinate_descent_gram(\n",
      "C:\\Users\\tonyt\\anaconda3\\envs\\dsi\\lib\\site-packages\\sklearn\\linear_model\\_coordinate_descent.py:525: ConvergenceWarning: Objective did not converge. You might want to increase the number of iterations. Duality gap: 158454763349.56262, tolerance: 445316686.7372742\n",
      "  model = cd_fast.enet_coordinate_descent_gram(\n",
      "C:\\Users\\tonyt\\anaconda3\\envs\\dsi\\lib\\site-packages\\sklearn\\linear_model\\_coordinate_descent.py:525: ConvergenceWarning: Objective did not converge. You might want to increase the number of iterations. Duality gap: 158453928605.77246, tolerance: 445316686.7372742\n",
      "  model = cd_fast.enet_coordinate_descent_gram(\n",
      "C:\\Users\\tonyt\\anaconda3\\envs\\dsi\\lib\\site-packages\\sklearn\\linear_model\\_coordinate_descent.py:525: ConvergenceWarning: Objective did not converge. You might want to increase the number of iterations. Duality gap: 158453094051.11282, tolerance: 445316686.7372742\n",
      "  model = cd_fast.enet_coordinate_descent_gram(\n"
     ]
    },
    {
     "name": "stderr",
     "output_type": "stream",
     "text": [
      "C:\\Users\\tonyt\\anaconda3\\envs\\dsi\\lib\\site-packages\\sklearn\\linear_model\\_coordinate_descent.py:525: ConvergenceWarning: Objective did not converge. You might want to increase the number of iterations. Duality gap: 158456792698.39224, tolerance: 445316686.7372742\n",
      "  model = cd_fast.enet_coordinate_descent_gram(\n",
      "C:\\Users\\tonyt\\anaconda3\\envs\\dsi\\lib\\site-packages\\sklearn\\linear_model\\_coordinate_descent.py:525: ConvergenceWarning: Objective did not converge. You might want to increase the number of iterations. Duality gap: 158453095525.56998, tolerance: 445316686.7372742\n",
      "  model = cd_fast.enet_coordinate_descent_gram(\n",
      "C:\\Users\\tonyt\\anaconda3\\envs\\dsi\\lib\\site-packages\\sklearn\\linear_model\\_coordinate_descent.py:525: ConvergenceWarning: Objective did not converge. You might want to increase the number of iterations. Duality gap: 158452793045.25076, tolerance: 445316686.7372742\n",
      "  model = cd_fast.enet_coordinate_descent_gram(\n",
      "C:\\Users\\tonyt\\anaconda3\\envs\\dsi\\lib\\site-packages\\sklearn\\linear_model\\_coordinate_descent.py:525: ConvergenceWarning: Objective did not converge. You might want to increase the number of iterations. Duality gap: 168065550992.425, tolerance: 466217061.201326\n",
      "  model = cd_fast.enet_coordinate_descent_gram(\n",
      "C:\\Users\\tonyt\\anaconda3\\envs\\dsi\\lib\\site-packages\\sklearn\\linear_model\\_coordinate_descent.py:525: ConvergenceWarning: Objective did not converge. You might want to increase the number of iterations. Duality gap: 167943974894.84213, tolerance: 466217061.201326\n",
      "  model = cd_fast.enet_coordinate_descent_gram(\n",
      "C:\\Users\\tonyt\\anaconda3\\envs\\dsi\\lib\\site-packages\\sklearn\\linear_model\\_coordinate_descent.py:525: ConvergenceWarning: Objective did not converge. You might want to increase the number of iterations. Duality gap: 167884535181.91702, tolerance: 466217061.201326\n",
      "  model = cd_fast.enet_coordinate_descent_gram(\n",
      "C:\\Users\\tonyt\\anaconda3\\envs\\dsi\\lib\\site-packages\\sklearn\\linear_model\\_coordinate_descent.py:525: ConvergenceWarning: Objective did not converge. You might want to increase the number of iterations. Duality gap: 167835323126.50897, tolerance: 466217061.201326\n",
      "  model = cd_fast.enet_coordinate_descent_gram(\n",
      "C:\\Users\\tonyt\\anaconda3\\envs\\dsi\\lib\\site-packages\\sklearn\\linear_model\\_coordinate_descent.py:525: ConvergenceWarning: Objective did not converge. You might want to increase the number of iterations. Duality gap: 167797103041.72568, tolerance: 466217061.201326\n",
      "  model = cd_fast.enet_coordinate_descent_gram(\n",
      "C:\\Users\\tonyt\\anaconda3\\envs\\dsi\\lib\\site-packages\\sklearn\\linear_model\\_coordinate_descent.py:525: ConvergenceWarning: Objective did not converge. You might want to increase the number of iterations. Duality gap: 167750021498.71924, tolerance: 466217061.201326\n",
      "  model = cd_fast.enet_coordinate_descent_gram(\n",
      "C:\\Users\\tonyt\\anaconda3\\envs\\dsi\\lib\\site-packages\\sklearn\\linear_model\\_coordinate_descent.py:525: ConvergenceWarning: Objective did not converge. You might want to increase the number of iterations. Duality gap: 167677934903.31308, tolerance: 466217061.201326\n",
      "  model = cd_fast.enet_coordinate_descent_gram(\n",
      "C:\\Users\\tonyt\\anaconda3\\envs\\dsi\\lib\\site-packages\\sklearn\\linear_model\\_coordinate_descent.py:525: ConvergenceWarning: Objective did not converge. You might want to increase the number of iterations. Duality gap: 167412799134.05103, tolerance: 466217061.201326\n",
      "  model = cd_fast.enet_coordinate_descent_gram(\n",
      "C:\\Users\\tonyt\\anaconda3\\envs\\dsi\\lib\\site-packages\\sklearn\\linear_model\\_coordinate_descent.py:525: ConvergenceWarning: Objective did not converge. You might want to increase the number of iterations. Duality gap: 167037310767.22183, tolerance: 466217061.201326\n",
      "  model = cd_fast.enet_coordinate_descent_gram(\n",
      "C:\\Users\\tonyt\\anaconda3\\envs\\dsi\\lib\\site-packages\\sklearn\\linear_model\\_coordinate_descent.py:525: ConvergenceWarning: Objective did not converge. You might want to increase the number of iterations. Duality gap: 167322251686.4669, tolerance: 466217061.201326\n",
      "  model = cd_fast.enet_coordinate_descent_gram(\n",
      "C:\\Users\\tonyt\\anaconda3\\envs\\dsi\\lib\\site-packages\\sklearn\\linear_model\\_coordinate_descent.py:525: ConvergenceWarning: Objective did not converge. You might want to increase the number of iterations. Duality gap: 167318766680.55035, tolerance: 466217061.201326\n",
      "  model = cd_fast.enet_coordinate_descent_gram(\n",
      "C:\\Users\\tonyt\\anaconda3\\envs\\dsi\\lib\\site-packages\\sklearn\\linear_model\\_coordinate_descent.py:525: ConvergenceWarning: Objective did not converge. You might want to increase the number of iterations. Duality gap: 167284938404.42426, tolerance: 466217061.201326\n",
      "  model = cd_fast.enet_coordinate_descent_gram(\n",
      "C:\\Users\\tonyt\\anaconda3\\envs\\dsi\\lib\\site-packages\\sklearn\\linear_model\\_coordinate_descent.py:525: ConvergenceWarning: Objective did not converge. You might want to increase the number of iterations. Duality gap: 167250641850.67636, tolerance: 466217061.201326\n",
      "  model = cd_fast.enet_coordinate_descent_gram(\n",
      "C:\\Users\\tonyt\\anaconda3\\envs\\dsi\\lib\\site-packages\\sklearn\\linear_model\\_coordinate_descent.py:525: ConvergenceWarning: Objective did not converge. You might want to increase the number of iterations. Duality gap: 167222372576.8603, tolerance: 466217061.201326\n",
      "  model = cd_fast.enet_coordinate_descent_gram(\n",
      "C:\\Users\\tonyt\\anaconda3\\envs\\dsi\\lib\\site-packages\\sklearn\\linear_model\\_coordinate_descent.py:525: ConvergenceWarning: Objective did not converge. You might want to increase the number of iterations. Duality gap: 167199584301.1487, tolerance: 466217061.201326\n",
      "  model = cd_fast.enet_coordinate_descent_gram(\n",
      "C:\\Users\\tonyt\\anaconda3\\envs\\dsi\\lib\\site-packages\\sklearn\\linear_model\\_coordinate_descent.py:525: ConvergenceWarning: Objective did not converge. You might want to increase the number of iterations. Duality gap: 167180333688.333, tolerance: 466217061.201326\n",
      "  model = cd_fast.enet_coordinate_descent_gram(\n",
      "C:\\Users\\tonyt\\anaconda3\\envs\\dsi\\lib\\site-packages\\sklearn\\linear_model\\_coordinate_descent.py:525: ConvergenceWarning: Objective did not converge. You might want to increase the number of iterations. Duality gap: 167163219462.4458, tolerance: 466217061.201326\n",
      "  model = cd_fast.enet_coordinate_descent_gram(\n",
      "C:\\Users\\tonyt\\anaconda3\\envs\\dsi\\lib\\site-packages\\sklearn\\linear_model\\_coordinate_descent.py:525: ConvergenceWarning: Objective did not converge. You might want to increase the number of iterations. Duality gap: 167147509082.44885, tolerance: 466217061.201326\n",
      "  model = cd_fast.enet_coordinate_descent_gram(\n",
      "C:\\Users\\tonyt\\anaconda3\\envs\\dsi\\lib\\site-packages\\sklearn\\linear_model\\_coordinate_descent.py:525: ConvergenceWarning: Objective did not converge. You might want to increase the number of iterations. Duality gap: 167132896546.6624, tolerance: 466217061.201326\n",
      "  model = cd_fast.enet_coordinate_descent_gram(\n",
      "C:\\Users\\tonyt\\anaconda3\\envs\\dsi\\lib\\site-packages\\sklearn\\linear_model\\_coordinate_descent.py:525: ConvergenceWarning: Objective did not converge. You might want to increase the number of iterations. Duality gap: 167119247992.28537, tolerance: 466217061.201326\n",
      "  model = cd_fast.enet_coordinate_descent_gram(\n",
      "C:\\Users\\tonyt\\anaconda3\\envs\\dsi\\lib\\site-packages\\sklearn\\linear_model\\_coordinate_descent.py:525: ConvergenceWarning: Objective did not converge. You might want to increase the number of iterations. Duality gap: 167106491540.95535, tolerance: 466217061.201326\n",
      "  model = cd_fast.enet_coordinate_descent_gram(\n",
      "C:\\Users\\tonyt\\anaconda3\\envs\\dsi\\lib\\site-packages\\sklearn\\linear_model\\_coordinate_descent.py:525: ConvergenceWarning: Objective did not converge. You might want to increase the number of iterations. Duality gap: 167094579750.2171, tolerance: 466217061.201326\n",
      "  model = cd_fast.enet_coordinate_descent_gram(\n",
      "C:\\Users\\tonyt\\anaconda3\\envs\\dsi\\lib\\site-packages\\sklearn\\linear_model\\_coordinate_descent.py:525: ConvergenceWarning: Objective did not converge. You might want to increase the number of iterations. Duality gap: 167083460961.59937, tolerance: 466217061.201326\n",
      "  model = cd_fast.enet_coordinate_descent_gram(\n",
      "C:\\Users\\tonyt\\anaconda3\\envs\\dsi\\lib\\site-packages\\sklearn\\linear_model\\_coordinate_descent.py:525: ConvergenceWarning: Objective did not converge. You might want to increase the number of iterations. Duality gap: 167073079765.97546, tolerance: 466217061.201326\n",
      "  model = cd_fast.enet_coordinate_descent_gram(\n"
     ]
    },
    {
     "name": "stderr",
     "output_type": "stream",
     "text": [
      "C:\\Users\\tonyt\\anaconda3\\envs\\dsi\\lib\\site-packages\\sklearn\\linear_model\\_coordinate_descent.py:525: ConvergenceWarning: Objective did not converge. You might want to increase the number of iterations. Duality gap: 167063402414.6478, tolerance: 466217061.201326\n",
      "  model = cd_fast.enet_coordinate_descent_gram(\n",
      "C:\\Users\\tonyt\\anaconda3\\envs\\dsi\\lib\\site-packages\\sklearn\\linear_model\\_coordinate_descent.py:525: ConvergenceWarning: Objective did not converge. You might want to increase the number of iterations. Duality gap: 167054363194.54968, tolerance: 466217061.201326\n",
      "  model = cd_fast.enet_coordinate_descent_gram(\n",
      "C:\\Users\\tonyt\\anaconda3\\envs\\dsi\\lib\\site-packages\\sklearn\\linear_model\\_coordinate_descent.py:525: ConvergenceWarning: Objective did not converge. You might want to increase the number of iterations. Duality gap: 167045939293.80124, tolerance: 466217061.201326\n",
      "  model = cd_fast.enet_coordinate_descent_gram(\n",
      "C:\\Users\\tonyt\\anaconda3\\envs\\dsi\\lib\\site-packages\\sklearn\\linear_model\\_coordinate_descent.py:525: ConvergenceWarning: Objective did not converge. You might want to increase the number of iterations. Duality gap: 167038071083.53854, tolerance: 466217061.201326\n",
      "  model = cd_fast.enet_coordinate_descent_gram(\n",
      "C:\\Users\\tonyt\\anaconda3\\envs\\dsi\\lib\\site-packages\\sklearn\\linear_model\\_coordinate_descent.py:525: ConvergenceWarning: Objective did not converge. You might want to increase the number of iterations. Duality gap: 167030733568.22018, tolerance: 466217061.201326\n",
      "  model = cd_fast.enet_coordinate_descent_gram(\n",
      "C:\\Users\\tonyt\\anaconda3\\envs\\dsi\\lib\\site-packages\\sklearn\\linear_model\\_coordinate_descent.py:525: ConvergenceWarning: Objective did not converge. You might want to increase the number of iterations. Duality gap: 167023896698.09982, tolerance: 466217061.201326\n",
      "  model = cd_fast.enet_coordinate_descent_gram(\n",
      "C:\\Users\\tonyt\\anaconda3\\envs\\dsi\\lib\\site-packages\\sklearn\\linear_model\\_coordinate_descent.py:525: ConvergenceWarning: Objective did not converge. You might want to increase the number of iterations. Duality gap: 167017511559.21902, tolerance: 466217061.201326\n",
      "  model = cd_fast.enet_coordinate_descent_gram(\n",
      "C:\\Users\\tonyt\\anaconda3\\envs\\dsi\\lib\\site-packages\\sklearn\\linear_model\\_coordinate_descent.py:525: ConvergenceWarning: Objective did not converge. You might want to increase the number of iterations. Duality gap: 167011556501.79373, tolerance: 466217061.201326\n",
      "  model = cd_fast.enet_coordinate_descent_gram(\n",
      "C:\\Users\\tonyt\\anaconda3\\envs\\dsi\\lib\\site-packages\\sklearn\\linear_model\\_coordinate_descent.py:525: ConvergenceWarning: Objective did not converge. You might want to increase the number of iterations. Duality gap: 167005998185.59644, tolerance: 466217061.201326\n",
      "  model = cd_fast.enet_coordinate_descent_gram(\n",
      "C:\\Users\\tonyt\\anaconda3\\envs\\dsi\\lib\\site-packages\\sklearn\\linear_model\\_coordinate_descent.py:525: ConvergenceWarning: Objective did not converge. You might want to increase the number of iterations. Duality gap: 167000824280.0593, tolerance: 466217061.201326\n",
      "  model = cd_fast.enet_coordinate_descent_gram(\n",
      "C:\\Users\\tonyt\\anaconda3\\envs\\dsi\\lib\\site-packages\\sklearn\\linear_model\\_coordinate_descent.py:525: ConvergenceWarning: Objective did not converge. You might want to increase the number of iterations. Duality gap: 166995974540.73904, tolerance: 466217061.201326\n",
      "  model = cd_fast.enet_coordinate_descent_gram(\n",
      "C:\\Users\\tonyt\\anaconda3\\envs\\dsi\\lib\\site-packages\\sklearn\\linear_model\\_coordinate_descent.py:525: ConvergenceWarning: Objective did not converge. You might want to increase the number of iterations. Duality gap: 166991482669.72595, tolerance: 466217061.201326\n",
      "  model = cd_fast.enet_coordinate_descent_gram(\n",
      "C:\\Users\\tonyt\\anaconda3\\envs\\dsi\\lib\\site-packages\\sklearn\\linear_model\\_coordinate_descent.py:525: ConvergenceWarning: Objective did not converge. You might want to increase the number of iterations. Duality gap: 166987265852.22604, tolerance: 466217061.201326\n",
      "  model = cd_fast.enet_coordinate_descent_gram(\n",
      "C:\\Users\\tonyt\\anaconda3\\envs\\dsi\\lib\\site-packages\\sklearn\\linear_model\\_coordinate_descent.py:525: ConvergenceWarning: Objective did not converge. You might want to increase the number of iterations. Duality gap: 166983342496.36966, tolerance: 466217061.201326\n",
      "  model = cd_fast.enet_coordinate_descent_gram(\n",
      "C:\\Users\\tonyt\\anaconda3\\envs\\dsi\\lib\\site-packages\\sklearn\\linear_model\\_coordinate_descent.py:525: ConvergenceWarning: Objective did not converge. You might want to increase the number of iterations. Duality gap: 166979695138.48947, tolerance: 466217061.201326\n",
      "  model = cd_fast.enet_coordinate_descent_gram(\n",
      "C:\\Users\\tonyt\\anaconda3\\envs\\dsi\\lib\\site-packages\\sklearn\\linear_model\\_coordinate_descent.py:525: ConvergenceWarning: Objective did not converge. You might want to increase the number of iterations. Duality gap: 166976281565.54294, tolerance: 466217061.201326\n",
      "  model = cd_fast.enet_coordinate_descent_gram(\n",
      "C:\\Users\\tonyt\\anaconda3\\envs\\dsi\\lib\\site-packages\\sklearn\\linear_model\\_coordinate_descent.py:525: ConvergenceWarning: Objective did not converge. You might want to increase the number of iterations. Duality gap: 166973084822.33722, tolerance: 466217061.201326\n",
      "  model = cd_fast.enet_coordinate_descent_gram(\n",
      "C:\\Users\\tonyt\\anaconda3\\envs\\dsi\\lib\\site-packages\\sklearn\\linear_model\\_coordinate_descent.py:525: ConvergenceWarning: Objective did not converge. You might want to increase the number of iterations. Duality gap: 166970115551.55728, tolerance: 466217061.201326\n",
      "  model = cd_fast.enet_coordinate_descent_gram(\n",
      "C:\\Users\\tonyt\\anaconda3\\envs\\dsi\\lib\\site-packages\\sklearn\\linear_model\\_coordinate_descent.py:525: ConvergenceWarning: Objective did not converge. You might want to increase the number of iterations. Duality gap: 166967360527.8101, tolerance: 466217061.201326\n",
      "  model = cd_fast.enet_coordinate_descent_gram(\n",
      "C:\\Users\\tonyt\\anaconda3\\envs\\dsi\\lib\\site-packages\\sklearn\\linear_model\\_coordinate_descent.py:525: ConvergenceWarning: Objective did not converge. You might want to increase the number of iterations. Duality gap: 166964762751.15344, tolerance: 466217061.201326\n",
      "  model = cd_fast.enet_coordinate_descent_gram(\n",
      "C:\\Users\\tonyt\\anaconda3\\envs\\dsi\\lib\\site-packages\\sklearn\\linear_model\\_coordinate_descent.py:525: ConvergenceWarning: Objective did not converge. You might want to increase the number of iterations. Duality gap: 166962366889.84195, tolerance: 466217061.201326\n",
      "  model = cd_fast.enet_coordinate_descent_gram(\n",
      "C:\\Users\\tonyt\\anaconda3\\envs\\dsi\\lib\\site-packages\\sklearn\\linear_model\\_coordinate_descent.py:525: ConvergenceWarning: Objective did not converge. You might want to increase the number of iterations. Duality gap: 166960124895.07114, tolerance: 466217061.201326\n",
      "  model = cd_fast.enet_coordinate_descent_gram(\n",
      "C:\\Users\\tonyt\\anaconda3\\envs\\dsi\\lib\\site-packages\\sklearn\\linear_model\\_coordinate_descent.py:525: ConvergenceWarning: Objective did not converge. You might want to increase the number of iterations. Duality gap: 166958031382.2421, tolerance: 466217061.201326\n",
      "  model = cd_fast.enet_coordinate_descent_gram(\n",
      "C:\\Users\\tonyt\\anaconda3\\envs\\dsi\\lib\\site-packages\\sklearn\\linear_model\\_coordinate_descent.py:525: ConvergenceWarning: Objective did not converge. You might want to increase the number of iterations. Duality gap: 166956076500.14383, tolerance: 466217061.201326\n",
      "  model = cd_fast.enet_coordinate_descent_gram(\n",
      "C:\\Users\\tonyt\\anaconda3\\envs\\dsi\\lib\\site-packages\\sklearn\\linear_model\\_coordinate_descent.py:525: ConvergenceWarning: Objective did not converge. You might want to increase the number of iterations. Duality gap: 166954226019.96848, tolerance: 466217061.201326\n",
      "  model = cd_fast.enet_coordinate_descent_gram(\n",
      "C:\\Users\\tonyt\\anaconda3\\envs\\dsi\\lib\\site-packages\\sklearn\\linear_model\\_coordinate_descent.py:525: ConvergenceWarning: Objective did not converge. You might want to increase the number of iterations. Duality gap: 166952522264.28714, tolerance: 466217061.201326\n",
      "  model = cd_fast.enet_coordinate_descent_gram(\n",
      "C:\\Users\\tonyt\\anaconda3\\envs\\dsi\\lib\\site-packages\\sklearn\\linear_model\\_coordinate_descent.py:525: ConvergenceWarning: Objective did not converge. You might want to increase the number of iterations. Duality gap: 166950968972.3523, tolerance: 466217061.201326\n",
      "  model = cd_fast.enet_coordinate_descent_gram(\n"
     ]
    },
    {
     "name": "stderr",
     "output_type": "stream",
     "text": [
      "C:\\Users\\tonyt\\anaconda3\\envs\\dsi\\lib\\site-packages\\sklearn\\linear_model\\_coordinate_descent.py:525: ConvergenceWarning: Objective did not converge. You might want to increase the number of iterations. Duality gap: 166949499089.35217, tolerance: 466217061.201326\n",
      "  model = cd_fast.enet_coordinate_descent_gram(\n",
      "C:\\Users\\tonyt\\anaconda3\\envs\\dsi\\lib\\site-packages\\sklearn\\linear_model\\_coordinate_descent.py:525: ConvergenceWarning: Objective did not converge. You might want to increase the number of iterations. Duality gap: 166948115193.21075, tolerance: 466217061.201326\n",
      "  model = cd_fast.enet_coordinate_descent_gram(\n",
      "C:\\Users\\tonyt\\anaconda3\\envs\\dsi\\lib\\site-packages\\sklearn\\linear_model\\_coordinate_descent.py:525: ConvergenceWarning: Objective did not converge. You might want to increase the number of iterations. Duality gap: 166946782520.279, tolerance: 466217061.201326\n",
      "  model = cd_fast.enet_coordinate_descent_gram(\n",
      "C:\\Users\\tonyt\\anaconda3\\envs\\dsi\\lib\\site-packages\\sklearn\\linear_model\\_coordinate_descent.py:525: ConvergenceWarning: Objective did not converge. You might want to increase the number of iterations. Duality gap: 166945636409.44406, tolerance: 466217061.201326\n",
      "  model = cd_fast.enet_coordinate_descent_gram(\n",
      "C:\\Users\\tonyt\\anaconda3\\envs\\dsi\\lib\\site-packages\\sklearn\\linear_model\\_coordinate_descent.py:525: ConvergenceWarning: Objective did not converge. You might want to increase the number of iterations. Duality gap: 166944435025.6669, tolerance: 466217061.201326\n",
      "  model = cd_fast.enet_coordinate_descent_gram(\n",
      "C:\\Users\\tonyt\\anaconda3\\envs\\dsi\\lib\\site-packages\\sklearn\\linear_model\\_coordinate_descent.py:525: ConvergenceWarning: Objective did not converge. You might want to increase the number of iterations. Duality gap: 166943487719.46127, tolerance: 466217061.201326\n",
      "  model = cd_fast.enet_coordinate_descent_gram(\n",
      "C:\\Users\\tonyt\\anaconda3\\envs\\dsi\\lib\\site-packages\\sklearn\\linear_model\\_coordinate_descent.py:525: ConvergenceWarning: Objective did not converge. You might want to increase the number of iterations. Duality gap: 166942506517.03528, tolerance: 466217061.201326\n",
      "  model = cd_fast.enet_coordinate_descent_gram(\n",
      "C:\\Users\\tonyt\\anaconda3\\envs\\dsi\\lib\\site-packages\\sklearn\\linear_model\\_coordinate_descent.py:525: ConvergenceWarning: Objective did not converge. You might want to increase the number of iterations. Duality gap: 166941523017.78555, tolerance: 466217061.201326\n",
      "  model = cd_fast.enet_coordinate_descent_gram(\n",
      "C:\\Users\\tonyt\\anaconda3\\envs\\dsi\\lib\\site-packages\\sklearn\\linear_model\\_coordinate_descent.py:525: ConvergenceWarning: Objective did not converge. You might want to increase the number of iterations. Duality gap: 166940724307.00534, tolerance: 466217061.201326\n",
      "  model = cd_fast.enet_coordinate_descent_gram(\n",
      "C:\\Users\\tonyt\\anaconda3\\envs\\dsi\\lib\\site-packages\\sklearn\\linear_model\\_coordinate_descent.py:525: ConvergenceWarning: Objective did not converge. You might want to increase the number of iterations. Duality gap: 166939875029.03964, tolerance: 466217061.201326\n",
      "  model = cd_fast.enet_coordinate_descent_gram(\n",
      "C:\\Users\\tonyt\\anaconda3\\envs\\dsi\\lib\\site-packages\\sklearn\\linear_model\\_coordinate_descent.py:525: ConvergenceWarning: Objective did not converge. You might want to increase the number of iterations. Duality gap: 166939176025.836, tolerance: 466217061.201326\n",
      "  model = cd_fast.enet_coordinate_descent_gram(\n",
      "C:\\Users\\tonyt\\anaconda3\\envs\\dsi\\lib\\site-packages\\sklearn\\linear_model\\_coordinate_descent.py:525: ConvergenceWarning: Objective did not converge. You might want to increase the number of iterations. Duality gap: 166938611337.8883, tolerance: 466217061.201326\n",
      "  model = cd_fast.enet_coordinate_descent_gram(\n",
      "C:\\Users\\tonyt\\anaconda3\\envs\\dsi\\lib\\site-packages\\sklearn\\linear_model\\_coordinate_descent.py:525: ConvergenceWarning: Objective did not converge. You might want to increase the number of iterations. Duality gap: 166937898401.81616, tolerance: 466217061.201326\n",
      "  model = cd_fast.enet_coordinate_descent_gram(\n",
      "C:\\Users\\tonyt\\anaconda3\\envs\\dsi\\lib\\site-packages\\sklearn\\linear_model\\_coordinate_descent.py:525: ConvergenceWarning: Objective did not converge. You might want to increase the number of iterations. Duality gap: 166937273827.7853, tolerance: 466217061.201326\n",
      "  model = cd_fast.enet_coordinate_descent_gram(\n",
      "C:\\Users\\tonyt\\anaconda3\\envs\\dsi\\lib\\site-packages\\sklearn\\linear_model\\_coordinate_descent.py:525: ConvergenceWarning: Objective did not converge. You might want to increase the number of iterations. Duality gap: 166936678425.91016, tolerance: 466217061.201326\n",
      "  model = cd_fast.enet_coordinate_descent_gram(\n",
      "C:\\Users\\tonyt\\anaconda3\\envs\\dsi\\lib\\site-packages\\sklearn\\linear_model\\_coordinate_descent.py:525: ConvergenceWarning: Objective did not converge. You might want to increase the number of iterations. Duality gap: 166936139434.89365, tolerance: 466217061.201326\n",
      "  model = cd_fast.enet_coordinate_descent_gram(\n",
      "C:\\Users\\tonyt\\anaconda3\\envs\\dsi\\lib\\site-packages\\sklearn\\linear_model\\_coordinate_descent.py:525: ConvergenceWarning: Objective did not converge. You might want to increase the number of iterations. Duality gap: 166935696033.328, tolerance: 466217061.201326\n",
      "  model = cd_fast.enet_coordinate_descent_gram(\n",
      "C:\\Users\\tonyt\\anaconda3\\envs\\dsi\\lib\\site-packages\\sklearn\\linear_model\\_coordinate_descent.py:525: ConvergenceWarning: Objective did not converge. You might want to increase the number of iterations. Duality gap: 166935271103.19977, tolerance: 466217061.201326\n",
      "  model = cd_fast.enet_coordinate_descent_gram(\n",
      "C:\\Users\\tonyt\\anaconda3\\envs\\dsi\\lib\\site-packages\\sklearn\\linear_model\\_coordinate_descent.py:525: ConvergenceWarning: Objective did not converge. You might want to increase the number of iterations. Duality gap: 166934750321.2051, tolerance: 466217061.201326\n",
      "  model = cd_fast.enet_coordinate_descent_gram(\n",
      "C:\\Users\\tonyt\\anaconda3\\envs\\dsi\\lib\\site-packages\\sklearn\\linear_model\\_coordinate_descent.py:525: ConvergenceWarning: Objective did not converge. You might want to increase the number of iterations. Duality gap: 166934435158.60062, tolerance: 466217061.201326\n",
      "  model = cd_fast.enet_coordinate_descent_gram(\n",
      "C:\\Users\\tonyt\\anaconda3\\envs\\dsi\\lib\\site-packages\\sklearn\\linear_model\\_coordinate_descent.py:525: ConvergenceWarning: Objective did not converge. You might want to increase the number of iterations. Duality gap: 166934071137.57285, tolerance: 466217061.201326\n",
      "  model = cd_fast.enet_coordinate_descent_gram(\n",
      "C:\\Users\\tonyt\\anaconda3\\envs\\dsi\\lib\\site-packages\\sklearn\\linear_model\\_coordinate_descent.py:525: ConvergenceWarning: Objective did not converge. You might want to increase the number of iterations. Duality gap: 166933839681.0026, tolerance: 466217061.201326\n",
      "  model = cd_fast.enet_coordinate_descent_gram(\n",
      "C:\\Users\\tonyt\\anaconda3\\envs\\dsi\\lib\\site-packages\\sklearn\\linear_model\\_coordinate_descent.py:525: ConvergenceWarning: Objective did not converge. You might want to increase the number of iterations. Duality gap: 166933497322.8636, tolerance: 466217061.201326\n",
      "  model = cd_fast.enet_coordinate_descent_gram(\n",
      "C:\\Users\\tonyt\\anaconda3\\envs\\dsi\\lib\\site-packages\\sklearn\\linear_model\\_coordinate_descent.py:525: ConvergenceWarning: Objective did not converge. You might want to increase the number of iterations. Duality gap: 166933023647.32953, tolerance: 466217061.201326\n",
      "  model = cd_fast.enet_coordinate_descent_gram(\n",
      "C:\\Users\\tonyt\\anaconda3\\envs\\dsi\\lib\\site-packages\\sklearn\\linear_model\\_coordinate_descent.py:525: ConvergenceWarning: Objective did not converge. You might want to increase the number of iterations. Duality gap: 166932772381.8402, tolerance: 466217061.201326\n",
      "  model = cd_fast.enet_coordinate_descent_gram(\n",
      "C:\\Users\\tonyt\\anaconda3\\envs\\dsi\\lib\\site-packages\\sklearn\\linear_model\\_coordinate_descent.py:525: ConvergenceWarning: Objective did not converge. You might want to increase the number of iterations. Duality gap: 166932525707.6429, tolerance: 466217061.201326\n",
      "  model = cd_fast.enet_coordinate_descent_gram(\n",
      "C:\\Users\\tonyt\\anaconda3\\envs\\dsi\\lib\\site-packages\\sklearn\\linear_model\\_coordinate_descent.py:525: ConvergenceWarning: Objective did not converge. You might want to increase the number of iterations. Duality gap: 166932389278.7191, tolerance: 466217061.201326\n",
      "  model = cd_fast.enet_coordinate_descent_gram(\n"
     ]
    },
    {
     "name": "stderr",
     "output_type": "stream",
     "text": [
      "C:\\Users\\tonyt\\anaconda3\\envs\\dsi\\lib\\site-packages\\sklearn\\linear_model\\_coordinate_descent.py:525: ConvergenceWarning: Objective did not converge. You might want to increase the number of iterations. Duality gap: 166932147995.1815, tolerance: 466217061.201326\n",
      "  model = cd_fast.enet_coordinate_descent_gram(\n",
      "C:\\Users\\tonyt\\anaconda3\\envs\\dsi\\lib\\site-packages\\sklearn\\linear_model\\_coordinate_descent.py:525: ConvergenceWarning: Objective did not converge. You might want to increase the number of iterations. Duality gap: 166932005867.48962, tolerance: 466217061.201326\n",
      "  model = cd_fast.enet_coordinate_descent_gram(\n",
      "C:\\Users\\tonyt\\anaconda3\\envs\\dsi\\lib\\site-packages\\sklearn\\linear_model\\_coordinate_descent.py:525: ConvergenceWarning: Objective did not converge. You might want to increase the number of iterations. Duality gap: 166931816499.33673, tolerance: 466217061.201326\n",
      "  model = cd_fast.enet_coordinate_descent_gram(\n",
      "C:\\Users\\tonyt\\anaconda3\\envs\\dsi\\lib\\site-packages\\sklearn\\linear_model\\_coordinate_descent.py:525: ConvergenceWarning: Objective did not converge. You might want to increase the number of iterations. Duality gap: 166931366316.87094, tolerance: 466217061.201326\n",
      "  model = cd_fast.enet_coordinate_descent_gram(\n",
      "C:\\Users\\tonyt\\anaconda3\\envs\\dsi\\lib\\site-packages\\sklearn\\linear_model\\_coordinate_descent.py:525: ConvergenceWarning: Objective did not converge. You might want to increase the number of iterations. Duality gap: 166931239877.5258, tolerance: 466217061.201326\n",
      "  model = cd_fast.enet_coordinate_descent_gram(\n",
      "C:\\Users\\tonyt\\anaconda3\\envs\\dsi\\lib\\site-packages\\sklearn\\linear_model\\_coordinate_descent.py:525: ConvergenceWarning: Objective did not converge. You might want to increase the number of iterations. Duality gap: 166931205408.87946, tolerance: 466217061.201326\n",
      "  model = cd_fast.enet_coordinate_descent_gram(\n",
      "C:\\Users\\tonyt\\anaconda3\\envs\\dsi\\lib\\site-packages\\sklearn\\linear_model\\_coordinate_descent.py:525: ConvergenceWarning: Objective did not converge. You might want to increase the number of iterations. Duality gap: 166930858417.32382, tolerance: 466217061.201326\n",
      "  model = cd_fast.enet_coordinate_descent_gram(\n",
      "C:\\Users\\tonyt\\anaconda3\\envs\\dsi\\lib\\site-packages\\sklearn\\linear_model\\_coordinate_descent.py:525: ConvergenceWarning: Objective did not converge. You might want to increase the number of iterations. Duality gap: 166930641176.63348, tolerance: 466217061.201326\n",
      "  model = cd_fast.enet_coordinate_descent_gram(\n",
      "C:\\Users\\tonyt\\anaconda3\\envs\\dsi\\lib\\site-packages\\sklearn\\linear_model\\_coordinate_descent.py:525: ConvergenceWarning: Objective did not converge. You might want to increase the number of iterations. Duality gap: 166930848443.71304, tolerance: 466217061.201326\n",
      "  model = cd_fast.enet_coordinate_descent_gram(\n",
      "C:\\Users\\tonyt\\anaconda3\\envs\\dsi\\lib\\site-packages\\sklearn\\linear_model\\_coordinate_descent.py:525: ConvergenceWarning: Objective did not converge. You might want to increase the number of iterations. Duality gap: 166930760701.9221, tolerance: 466217061.201326\n",
      "  model = cd_fast.enet_coordinate_descent_gram(\n",
      "C:\\Users\\tonyt\\anaconda3\\envs\\dsi\\lib\\site-packages\\sklearn\\linear_model\\_coordinate_descent.py:525: ConvergenceWarning: Objective did not converge. You might want to increase the number of iterations. Duality gap: 166930713828.7475, tolerance: 466217061.201326\n",
      "  model = cd_fast.enet_coordinate_descent_gram(\n",
      "C:\\Users\\tonyt\\anaconda3\\envs\\dsi\\lib\\site-packages\\sklearn\\linear_model\\_coordinate_descent.py:525: ConvergenceWarning: Objective did not converge. You might want to increase the number of iterations. Duality gap: 166930417333.32797, tolerance: 466217061.201326\n",
      "  model = cd_fast.enet_coordinate_descent_gram(\n",
      "C:\\Users\\tonyt\\anaconda3\\envs\\dsi\\lib\\site-packages\\sklearn\\linear_model\\_coordinate_descent.py:525: ConvergenceWarning: Objective did not converge. You might want to increase the number of iterations. Duality gap: 166930218946.50967, tolerance: 466217061.201326\n",
      "  model = cd_fast.enet_coordinate_descent_gram(\n",
      "C:\\Users\\tonyt\\anaconda3\\envs\\dsi\\lib\\site-packages\\sklearn\\linear_model\\_coordinate_descent.py:525: ConvergenceWarning: Objective did not converge. You might want to increase the number of iterations. Duality gap: 166929723211.27795, tolerance: 466217061.201326\n",
      "  model = cd_fast.enet_coordinate_descent_gram(\n",
      "C:\\Users\\tonyt\\anaconda3\\envs\\dsi\\lib\\site-packages\\sklearn\\linear_model\\_coordinate_descent.py:525: ConvergenceWarning: Objective did not converge. You might want to increase the number of iterations. Duality gap: 166930109550.37524, tolerance: 466217061.201326\n",
      "  model = cd_fast.enet_coordinate_descent_gram(\n",
      "C:\\Users\\tonyt\\anaconda3\\envs\\dsi\\lib\\site-packages\\sklearn\\linear_model\\_coordinate_descent.py:525: ConvergenceWarning: Objective did not converge. You might want to increase the number of iterations. Duality gap: 166930656555.06235, tolerance: 466217061.201326\n",
      "  model = cd_fast.enet_coordinate_descent_gram(\n",
      "C:\\Users\\tonyt\\anaconda3\\envs\\dsi\\lib\\site-packages\\sklearn\\linear_model\\_coordinate_descent.py:525: ConvergenceWarning: Objective did not converge. You might want to increase the number of iterations. Duality gap: 166929534231.6927, tolerance: 466217061.201326\n",
      "  model = cd_fast.enet_coordinate_descent_gram(\n",
      "C:\\Users\\tonyt\\anaconda3\\envs\\dsi\\lib\\site-packages\\sklearn\\linear_model\\_coordinate_descent.py:525: ConvergenceWarning: Objective did not converge. You might want to increase the number of iterations. Duality gap: 166929740047.46213, tolerance: 466217061.201326\n",
      "  model = cd_fast.enet_coordinate_descent_gram(\n",
      "C:\\Users\\tonyt\\anaconda3\\envs\\dsi\\lib\\site-packages\\sklearn\\linear_model\\_coordinate_descent.py:525: ConvergenceWarning: Objective did not converge. You might want to increase the number of iterations. Duality gap: 166929730845.3941, tolerance: 466217061.201326\n",
      "  model = cd_fast.enet_coordinate_descent_gram(\n",
      "C:\\Users\\tonyt\\anaconda3\\envs\\dsi\\lib\\site-packages\\sklearn\\linear_model\\_coordinate_descent.py:525: ConvergenceWarning: Objective did not converge. You might want to increase the number of iterations. Duality gap: 166930604904.28693, tolerance: 466217061.201326\n",
      "  model = cd_fast.enet_coordinate_descent_gram(\n",
      "C:\\Users\\tonyt\\anaconda3\\envs\\dsi\\lib\\site-packages\\sklearn\\linear_model\\_coordinate_descent.py:525: ConvergenceWarning: Objective did not converge. You might want to increase the number of iterations. Duality gap: 166929682181.30936, tolerance: 466217061.201326\n",
      "  model = cd_fast.enet_coordinate_descent_gram(\n",
      "C:\\Users\\tonyt\\anaconda3\\envs\\dsi\\lib\\site-packages\\sklearn\\linear_model\\_coordinate_descent.py:525: ConvergenceWarning: Objective did not converge. You might want to increase the number of iterations. Duality gap: 166929163371.22308, tolerance: 466217061.201326\n",
      "  model = cd_fast.enet_coordinate_descent_gram(\n",
      "C:\\Users\\tonyt\\anaconda3\\envs\\dsi\\lib\\site-packages\\sklearn\\linear_model\\_coordinate_descent.py:525: ConvergenceWarning: Objective did not converge. You might want to increase the number of iterations. Duality gap: 160404647000.59552, tolerance: 451315995.887229\n",
      "  model = cd_fast.enet_coordinate_descent_gram(\n",
      "C:\\Users\\tonyt\\anaconda3\\envs\\dsi\\lib\\site-packages\\sklearn\\linear_model\\_coordinate_descent.py:525: ConvergenceWarning: Objective did not converge. You might want to increase the number of iterations. Duality gap: 160223112545.3635, tolerance: 451315995.887229\n",
      "  model = cd_fast.enet_coordinate_descent_gram(\n",
      "C:\\Users\\tonyt\\anaconda3\\envs\\dsi\\lib\\site-packages\\sklearn\\linear_model\\_coordinate_descent.py:525: ConvergenceWarning: Objective did not converge. You might want to increase the number of iterations. Duality gap: 160160581890.77106, tolerance: 451315995.887229\n",
      "  model = cd_fast.enet_coordinate_descent_gram(\n",
      "C:\\Users\\tonyt\\anaconda3\\envs\\dsi\\lib\\site-packages\\sklearn\\linear_model\\_coordinate_descent.py:525: ConvergenceWarning: Objective did not converge. You might want to increase the number of iterations. Duality gap: 160099887988.82693, tolerance: 451315995.887229\n",
      "  model = cd_fast.enet_coordinate_descent_gram(\n",
      "C:\\Users\\tonyt\\anaconda3\\envs\\dsi\\lib\\site-packages\\sklearn\\linear_model\\_coordinate_descent.py:525: ConvergenceWarning: Objective did not converge. You might want to increase the number of iterations. Duality gap: 160058446763.86844, tolerance: 451315995.887229\n",
      "  model = cd_fast.enet_coordinate_descent_gram(\n"
     ]
    },
    {
     "name": "stderr",
     "output_type": "stream",
     "text": [
      "C:\\Users\\tonyt\\anaconda3\\envs\\dsi\\lib\\site-packages\\sklearn\\linear_model\\_coordinate_descent.py:525: ConvergenceWarning: Objective did not converge. You might want to increase the number of iterations. Duality gap: 160023225914.01395, tolerance: 451315995.887229\n",
      "  model = cd_fast.enet_coordinate_descent_gram(\n",
      "C:\\Users\\tonyt\\anaconda3\\envs\\dsi\\lib\\site-packages\\sklearn\\linear_model\\_coordinate_descent.py:525: ConvergenceWarning: Objective did not converge. You might want to increase the number of iterations. Duality gap: 159974337465.24637, tolerance: 451315995.887229\n",
      "  model = cd_fast.enet_coordinate_descent_gram(\n",
      "C:\\Users\\tonyt\\anaconda3\\envs\\dsi\\lib\\site-packages\\sklearn\\linear_model\\_coordinate_descent.py:525: ConvergenceWarning: Objective did not converge. You might want to increase the number of iterations. Duality gap: 159882540174.08362, tolerance: 451315995.887229\n",
      "  model = cd_fast.enet_coordinate_descent_gram(\n",
      "C:\\Users\\tonyt\\anaconda3\\envs\\dsi\\lib\\site-packages\\sklearn\\linear_model\\_coordinate_descent.py:525: ConvergenceWarning: Objective did not converge. You might want to increase the number of iterations. Duality gap: 158360604664.86273, tolerance: 451315995.887229\n",
      "  model = cd_fast.enet_coordinate_descent_gram(\n",
      "C:\\Users\\tonyt\\anaconda3\\envs\\dsi\\lib\\site-packages\\sklearn\\linear_model\\_coordinate_descent.py:525: ConvergenceWarning: Objective did not converge. You might want to increase the number of iterations. Duality gap: 159654830143.56778, tolerance: 451315995.887229\n",
      "  model = cd_fast.enet_coordinate_descent_gram(\n",
      "C:\\Users\\tonyt\\anaconda3\\envs\\dsi\\lib\\site-packages\\sklearn\\linear_model\\_coordinate_descent.py:525: ConvergenceWarning: Objective did not converge. You might want to increase the number of iterations. Duality gap: 159709021622.73068, tolerance: 451315995.887229\n",
      "  model = cd_fast.enet_coordinate_descent_gram(\n",
      "C:\\Users\\tonyt\\anaconda3\\envs\\dsi\\lib\\site-packages\\sklearn\\linear_model\\_coordinate_descent.py:525: ConvergenceWarning: Objective did not converge. You might want to increase the number of iterations. Duality gap: 159697686716.2257, tolerance: 451315995.887229\n",
      "  model = cd_fast.enet_coordinate_descent_gram(\n",
      "C:\\Users\\tonyt\\anaconda3\\envs\\dsi\\lib\\site-packages\\sklearn\\linear_model\\_coordinate_descent.py:525: ConvergenceWarning: Objective did not converge. You might want to increase the number of iterations. Duality gap: 159674788486.4822, tolerance: 451315995.887229\n",
      "  model = cd_fast.enet_coordinate_descent_gram(\n",
      "C:\\Users\\tonyt\\anaconda3\\envs\\dsi\\lib\\site-packages\\sklearn\\linear_model\\_coordinate_descent.py:525: ConvergenceWarning: Objective did not converge. You might want to increase the number of iterations. Duality gap: 159651061458.8581, tolerance: 451315995.887229\n",
      "  model = cd_fast.enet_coordinate_descent_gram(\n",
      "C:\\Users\\tonyt\\anaconda3\\envs\\dsi\\lib\\site-packages\\sklearn\\linear_model\\_coordinate_descent.py:525: ConvergenceWarning: Objective did not converge. You might want to increase the number of iterations. Duality gap: 159629430085.7923, tolerance: 451315995.887229\n",
      "  model = cd_fast.enet_coordinate_descent_gram(\n",
      "C:\\Users\\tonyt\\anaconda3\\envs\\dsi\\lib\\site-packages\\sklearn\\linear_model\\_coordinate_descent.py:525: ConvergenceWarning: Objective did not converge. You might want to increase the number of iterations. Duality gap: 159610227122.33096, tolerance: 451315995.887229\n",
      "  model = cd_fast.enet_coordinate_descent_gram(\n",
      "C:\\Users\\tonyt\\anaconda3\\envs\\dsi\\lib\\site-packages\\sklearn\\linear_model\\_coordinate_descent.py:525: ConvergenceWarning: Objective did not converge. You might want to increase the number of iterations. Duality gap: 159593019182.40112, tolerance: 451315995.887229\n",
      "  model = cd_fast.enet_coordinate_descent_gram(\n",
      "C:\\Users\\tonyt\\anaconda3\\envs\\dsi\\lib\\site-packages\\sklearn\\linear_model\\_coordinate_descent.py:525: ConvergenceWarning: Objective did not converge. You might want to increase the number of iterations. Duality gap: 159577336364.1982, tolerance: 451315995.887229\n",
      "  model = cd_fast.enet_coordinate_descent_gram(\n",
      "C:\\Users\\tonyt\\anaconda3\\envs\\dsi\\lib\\site-packages\\sklearn\\linear_model\\_coordinate_descent.py:525: ConvergenceWarning: Objective did not converge. You might want to increase the number of iterations. Duality gap: 159562860497.00992, tolerance: 451315995.887229\n",
      "  model = cd_fast.enet_coordinate_descent_gram(\n",
      "C:\\Users\\tonyt\\anaconda3\\envs\\dsi\\lib\\site-packages\\sklearn\\linear_model\\_coordinate_descent.py:525: ConvergenceWarning: Objective did not converge. You might want to increase the number of iterations. Duality gap: 159549403999.051, tolerance: 451315995.887229\n",
      "  model = cd_fast.enet_coordinate_descent_gram(\n",
      "C:\\Users\\tonyt\\anaconda3\\envs\\dsi\\lib\\site-packages\\sklearn\\linear_model\\_coordinate_descent.py:525: ConvergenceWarning: Objective did not converge. You might want to increase the number of iterations. Duality gap: 159536855286.55826, tolerance: 451315995.887229\n",
      "  model = cd_fast.enet_coordinate_descent_gram(\n",
      "C:\\Users\\tonyt\\anaconda3\\envs\\dsi\\lib\\site-packages\\sklearn\\linear_model\\_coordinate_descent.py:525: ConvergenceWarning: Objective did not converge. You might want to increase the number of iterations. Duality gap: 159525142909.42242, tolerance: 451315995.887229\n",
      "  model = cd_fast.enet_coordinate_descent_gram(\n",
      "C:\\Users\\tonyt\\anaconda3\\envs\\dsi\\lib\\site-packages\\sklearn\\linear_model\\_coordinate_descent.py:525: ConvergenceWarning: Objective did not converge. You might want to increase the number of iterations. Duality gap: 159514210906.73328, tolerance: 451315995.887229\n",
      "  model = cd_fast.enet_coordinate_descent_gram(\n",
      "C:\\Users\\tonyt\\anaconda3\\envs\\dsi\\lib\\site-packages\\sklearn\\linear_model\\_coordinate_descent.py:525: ConvergenceWarning: Objective did not converge. You might want to increase the number of iterations. Duality gap: 159504006750.74985, tolerance: 451315995.887229\n",
      "  model = cd_fast.enet_coordinate_descent_gram(\n",
      "C:\\Users\\tonyt\\anaconda3\\envs\\dsi\\lib\\site-packages\\sklearn\\linear_model\\_coordinate_descent.py:525: ConvergenceWarning: Objective did not converge. You might want to increase the number of iterations. Duality gap: 159494485134.52155, tolerance: 451315995.887229\n",
      "  model = cd_fast.enet_coordinate_descent_gram(\n",
      "C:\\Users\\tonyt\\anaconda3\\envs\\dsi\\lib\\site-packages\\sklearn\\linear_model\\_coordinate_descent.py:525: ConvergenceWarning: Objective did not converge. You might want to increase the number of iterations. Duality gap: 159485603604.47678, tolerance: 451315995.887229\n",
      "  model = cd_fast.enet_coordinate_descent_gram(\n",
      "C:\\Users\\tonyt\\anaconda3\\envs\\dsi\\lib\\site-packages\\sklearn\\linear_model\\_coordinate_descent.py:525: ConvergenceWarning: Objective did not converge. You might want to increase the number of iterations. Duality gap: 159477316624.09454, tolerance: 451315995.887229\n",
      "  model = cd_fast.enet_coordinate_descent_gram(\n",
      "C:\\Users\\tonyt\\anaconda3\\envs\\dsi\\lib\\site-packages\\sklearn\\linear_model\\_coordinate_descent.py:525: ConvergenceWarning: Objective did not converge. You might want to increase the number of iterations. Duality gap: 159469587237.52814, tolerance: 451315995.887229\n",
      "  model = cd_fast.enet_coordinate_descent_gram(\n",
      "C:\\Users\\tonyt\\anaconda3\\envs\\dsi\\lib\\site-packages\\sklearn\\linear_model\\_coordinate_descent.py:525: ConvergenceWarning: Objective did not converge. You might want to increase the number of iterations. Duality gap: 159462375531.71533, tolerance: 451315995.887229\n",
      "  model = cd_fast.enet_coordinate_descent_gram(\n",
      "C:\\Users\\tonyt\\anaconda3\\envs\\dsi\\lib\\site-packages\\sklearn\\linear_model\\_coordinate_descent.py:525: ConvergenceWarning: Objective did not converge. You might want to increase the number of iterations. Duality gap: 159455646856.69028, tolerance: 451315995.887229\n",
      "  model = cd_fast.enet_coordinate_descent_gram(\n",
      "C:\\Users\\tonyt\\anaconda3\\envs\\dsi\\lib\\site-packages\\sklearn\\linear_model\\_coordinate_descent.py:525: ConvergenceWarning: Objective did not converge. You might want to increase the number of iterations. Duality gap: 159449372257.68454, tolerance: 451315995.887229\n",
      "  model = cd_fast.enet_coordinate_descent_gram(\n",
      "C:\\Users\\tonyt\\anaconda3\\envs\\dsi\\lib\\site-packages\\sklearn\\linear_model\\_coordinate_descent.py:525: ConvergenceWarning: Objective did not converge. You might want to increase the number of iterations. Duality gap: 159443516336.8953, tolerance: 451315995.887229\n",
      "  model = cd_fast.enet_coordinate_descent_gram(\n"
     ]
    },
    {
     "name": "stderr",
     "output_type": "stream",
     "text": [
      "C:\\Users\\tonyt\\anaconda3\\envs\\dsi\\lib\\site-packages\\sklearn\\linear_model\\_coordinate_descent.py:525: ConvergenceWarning: Objective did not converge. You might want to increase the number of iterations. Duality gap: 159438059256.572, tolerance: 451315995.887229\n",
      "  model = cd_fast.enet_coordinate_descent_gram(\n",
      "C:\\Users\\tonyt\\anaconda3\\envs\\dsi\\lib\\site-packages\\sklearn\\linear_model\\_coordinate_descent.py:525: ConvergenceWarning: Objective did not converge. You might want to increase the number of iterations. Duality gap: 159432964714.27527, tolerance: 451315995.887229\n",
      "  model = cd_fast.enet_coordinate_descent_gram(\n",
      "C:\\Users\\tonyt\\anaconda3\\envs\\dsi\\lib\\site-packages\\sklearn\\linear_model\\_coordinate_descent.py:525: ConvergenceWarning: Objective did not converge. You might want to increase the number of iterations. Duality gap: 159428214384.12473, tolerance: 451315995.887229\n",
      "  model = cd_fast.enet_coordinate_descent_gram(\n",
      "C:\\Users\\tonyt\\anaconda3\\envs\\dsi\\lib\\site-packages\\sklearn\\linear_model\\_coordinate_descent.py:525: ConvergenceWarning: Objective did not converge. You might want to increase the number of iterations. Duality gap: 159423784381.4717, tolerance: 451315995.887229\n",
      "  model = cd_fast.enet_coordinate_descent_gram(\n",
      "C:\\Users\\tonyt\\anaconda3\\envs\\dsi\\lib\\site-packages\\sklearn\\linear_model\\_coordinate_descent.py:525: ConvergenceWarning: Objective did not converge. You might want to increase the number of iterations. Duality gap: 159419647909.18518, tolerance: 451315995.887229\n",
      "  model = cd_fast.enet_coordinate_descent_gram(\n",
      "C:\\Users\\tonyt\\anaconda3\\envs\\dsi\\lib\\site-packages\\sklearn\\linear_model\\_coordinate_descent.py:525: ConvergenceWarning: Objective did not converge. You might want to increase the number of iterations. Duality gap: 159415795437.21042, tolerance: 451315995.887229\n",
      "  model = cd_fast.enet_coordinate_descent_gram(\n",
      "C:\\Users\\tonyt\\anaconda3\\envs\\dsi\\lib\\site-packages\\sklearn\\linear_model\\_coordinate_descent.py:525: ConvergenceWarning: Objective did not converge. You might want to increase the number of iterations. Duality gap: 159412195143.54425, tolerance: 451315995.887229\n",
      "  model = cd_fast.enet_coordinate_descent_gram(\n",
      "C:\\Users\\tonyt\\anaconda3\\envs\\dsi\\lib\\site-packages\\sklearn\\linear_model\\_coordinate_descent.py:525: ConvergenceWarning: Objective did not converge. You might want to increase the number of iterations. Duality gap: 159408845232.47287, tolerance: 451315995.887229\n",
      "  model = cd_fast.enet_coordinate_descent_gram(\n",
      "C:\\Users\\tonyt\\anaconda3\\envs\\dsi\\lib\\site-packages\\sklearn\\linear_model\\_coordinate_descent.py:525: ConvergenceWarning: Objective did not converge. You might want to increase the number of iterations. Duality gap: 159405707601.4245, tolerance: 451315995.887229\n",
      "  model = cd_fast.enet_coordinate_descent_gram(\n",
      "C:\\Users\\tonyt\\anaconda3\\envs\\dsi\\lib\\site-packages\\sklearn\\linear_model\\_coordinate_descent.py:525: ConvergenceWarning: Objective did not converge. You might want to increase the number of iterations. Duality gap: 159402797333.07886, tolerance: 451315995.887229\n",
      "  model = cd_fast.enet_coordinate_descent_gram(\n",
      "C:\\Users\\tonyt\\anaconda3\\envs\\dsi\\lib\\site-packages\\sklearn\\linear_model\\_coordinate_descent.py:525: ConvergenceWarning: Objective did not converge. You might want to increase the number of iterations. Duality gap: 159400074143.66293, tolerance: 451315995.887229\n",
      "  model = cd_fast.enet_coordinate_descent_gram(\n",
      "C:\\Users\\tonyt\\anaconda3\\envs\\dsi\\lib\\site-packages\\sklearn\\linear_model\\_coordinate_descent.py:525: ConvergenceWarning: Objective did not converge. You might want to increase the number of iterations. Duality gap: 159397538796.4059, tolerance: 451315995.887229\n",
      "  model = cd_fast.enet_coordinate_descent_gram(\n",
      "C:\\Users\\tonyt\\anaconda3\\envs\\dsi\\lib\\site-packages\\sklearn\\linear_model\\_coordinate_descent.py:525: ConvergenceWarning: Objective did not converge. You might want to increase the number of iterations. Duality gap: 159395165676.33966, tolerance: 451315995.887229\n",
      "  model = cd_fast.enet_coordinate_descent_gram(\n",
      "C:\\Users\\tonyt\\anaconda3\\envs\\dsi\\lib\\site-packages\\sklearn\\linear_model\\_coordinate_descent.py:525: ConvergenceWarning: Objective did not converge. You might want to increase the number of iterations. Duality gap: 159392967520.9903, tolerance: 451315995.887229\n",
      "  model = cd_fast.enet_coordinate_descent_gram(\n",
      "C:\\Users\\tonyt\\anaconda3\\envs\\dsi\\lib\\site-packages\\sklearn\\linear_model\\_coordinate_descent.py:525: ConvergenceWarning: Objective did not converge. You might want to increase the number of iterations. Duality gap: 159390898997.37454, tolerance: 451315995.887229\n",
      "  model = cd_fast.enet_coordinate_descent_gram(\n",
      "C:\\Users\\tonyt\\anaconda3\\envs\\dsi\\lib\\site-packages\\sklearn\\linear_model\\_coordinate_descent.py:525: ConvergenceWarning: Objective did not converge. You might want to increase the number of iterations. Duality gap: 159388980800.31583, tolerance: 451315995.887229\n",
      "  model = cd_fast.enet_coordinate_descent_gram(\n",
      "C:\\Users\\tonyt\\anaconda3\\envs\\dsi\\lib\\site-packages\\sklearn\\linear_model\\_coordinate_descent.py:525: ConvergenceWarning: Objective did not converge. You might want to increase the number of iterations. Duality gap: 159387193887.22482, tolerance: 451315995.887229\n",
      "  model = cd_fast.enet_coordinate_descent_gram(\n",
      "C:\\Users\\tonyt\\anaconda3\\envs\\dsi\\lib\\site-packages\\sklearn\\linear_model\\_coordinate_descent.py:525: ConvergenceWarning: Objective did not converge. You might want to increase the number of iterations. Duality gap: 159385522303.732, tolerance: 451315995.887229\n",
      "  model = cd_fast.enet_coordinate_descent_gram(\n",
      "C:\\Users\\tonyt\\anaconda3\\envs\\dsi\\lib\\site-packages\\sklearn\\linear_model\\_coordinate_descent.py:525: ConvergenceWarning: Objective did not converge. You might want to increase the number of iterations. Duality gap: 159383960053.32513, tolerance: 451315995.887229\n",
      "  model = cd_fast.enet_coordinate_descent_gram(\n",
      "C:\\Users\\tonyt\\anaconda3\\envs\\dsi\\lib\\site-packages\\sklearn\\linear_model\\_coordinate_descent.py:525: ConvergenceWarning: Objective did not converge. You might want to increase the number of iterations. Duality gap: 159382499790.48724, tolerance: 451315995.887229\n",
      "  model = cd_fast.enet_coordinate_descent_gram(\n",
      "C:\\Users\\tonyt\\anaconda3\\envs\\dsi\\lib\\site-packages\\sklearn\\linear_model\\_coordinate_descent.py:525: ConvergenceWarning: Objective did not converge. You might want to increase the number of iterations. Duality gap: 159381157768.95837, tolerance: 451315995.887229\n",
      "  model = cd_fast.enet_coordinate_descent_gram(\n",
      "C:\\Users\\tonyt\\anaconda3\\envs\\dsi\\lib\\site-packages\\sklearn\\linear_model\\_coordinate_descent.py:525: ConvergenceWarning: Objective did not converge. You might want to increase the number of iterations. Duality gap: 159379879169.03378, tolerance: 451315995.887229\n",
      "  model = cd_fast.enet_coordinate_descent_gram(\n",
      "C:\\Users\\tonyt\\anaconda3\\envs\\dsi\\lib\\site-packages\\sklearn\\linear_model\\_coordinate_descent.py:525: ConvergenceWarning: Objective did not converge. You might want to increase the number of iterations. Duality gap: 159378722380.062, tolerance: 451315995.887229\n",
      "  model = cd_fast.enet_coordinate_descent_gram(\n",
      "C:\\Users\\tonyt\\anaconda3\\envs\\dsi\\lib\\site-packages\\sklearn\\linear_model\\_coordinate_descent.py:525: ConvergenceWarning: Objective did not converge. You might want to increase the number of iterations. Duality gap: 159377594516.8778, tolerance: 451315995.887229\n",
      "  model = cd_fast.enet_coordinate_descent_gram(\n",
      "C:\\Users\\tonyt\\anaconda3\\envs\\dsi\\lib\\site-packages\\sklearn\\linear_model\\_coordinate_descent.py:525: ConvergenceWarning: Objective did not converge. You might want to increase the number of iterations. Duality gap: 159376584689.64954, tolerance: 451315995.887229\n",
      "  model = cd_fast.enet_coordinate_descent_gram(\n",
      "C:\\Users\\tonyt\\anaconda3\\envs\\dsi\\lib\\site-packages\\sklearn\\linear_model\\_coordinate_descent.py:525: ConvergenceWarning: Objective did not converge. You might want to increase the number of iterations. Duality gap: 159375615623.3716, tolerance: 451315995.887229\n",
      "  model = cd_fast.enet_coordinate_descent_gram(\n",
      "C:\\Users\\tonyt\\anaconda3\\envs\\dsi\\lib\\site-packages\\sklearn\\linear_model\\_coordinate_descent.py:525: ConvergenceWarning: Objective did not converge. You might want to increase the number of iterations. Duality gap: 159374744949.31653, tolerance: 451315995.887229\n",
      "  model = cd_fast.enet_coordinate_descent_gram(\n"
     ]
    },
    {
     "name": "stderr",
     "output_type": "stream",
     "text": [
      "C:\\Users\\tonyt\\anaconda3\\envs\\dsi\\lib\\site-packages\\sklearn\\linear_model\\_coordinate_descent.py:525: ConvergenceWarning: Objective did not converge. You might want to increase the number of iterations. Duality gap: 159373915253.38745, tolerance: 451315995.887229\n",
      "  model = cd_fast.enet_coordinate_descent_gram(\n",
      "C:\\Users\\tonyt\\anaconda3\\envs\\dsi\\lib\\site-packages\\sklearn\\linear_model\\_coordinate_descent.py:525: ConvergenceWarning: Objective did not converge. You might want to increase the number of iterations. Duality gap: 159373122921.97122, tolerance: 451315995.887229\n",
      "  model = cd_fast.enet_coordinate_descent_gram(\n",
      "C:\\Users\\tonyt\\anaconda3\\envs\\dsi\\lib\\site-packages\\sklearn\\linear_model\\_coordinate_descent.py:525: ConvergenceWarning: Objective did not converge. You might want to increase the number of iterations. Duality gap: 159372421997.47784, tolerance: 451315995.887229\n",
      "  model = cd_fast.enet_coordinate_descent_gram(\n",
      "C:\\Users\\tonyt\\anaconda3\\envs\\dsi\\lib\\site-packages\\sklearn\\linear_model\\_coordinate_descent.py:525: ConvergenceWarning: Objective did not converge. You might want to increase the number of iterations. Duality gap: 159371749113.06586, tolerance: 451315995.887229\n",
      "  model = cd_fast.enet_coordinate_descent_gram(\n",
      "C:\\Users\\tonyt\\anaconda3\\envs\\dsi\\lib\\site-packages\\sklearn\\linear_model\\_coordinate_descent.py:525: ConvergenceWarning: Objective did not converge. You might want to increase the number of iterations. Duality gap: 159371145449.86197, tolerance: 451315995.887229\n",
      "  model = cd_fast.enet_coordinate_descent_gram(\n",
      "C:\\Users\\tonyt\\anaconda3\\envs\\dsi\\lib\\site-packages\\sklearn\\linear_model\\_coordinate_descent.py:525: ConvergenceWarning: Objective did not converge. You might want to increase the number of iterations. Duality gap: 159370506515.1356, tolerance: 451315995.887229\n",
      "  model = cd_fast.enet_coordinate_descent_gram(\n",
      "C:\\Users\\tonyt\\anaconda3\\envs\\dsi\\lib\\site-packages\\sklearn\\linear_model\\_coordinate_descent.py:525: ConvergenceWarning: Objective did not converge. You might want to increase the number of iterations. Duality gap: 159369968889.81226, tolerance: 451315995.887229\n",
      "  model = cd_fast.enet_coordinate_descent_gram(\n",
      "C:\\Users\\tonyt\\anaconda3\\envs\\dsi\\lib\\site-packages\\sklearn\\linear_model\\_coordinate_descent.py:525: ConvergenceWarning: Objective did not converge. You might want to increase the number of iterations. Duality gap: 159369473491.22028, tolerance: 451315995.887229\n",
      "  model = cd_fast.enet_coordinate_descent_gram(\n",
      "C:\\Users\\tonyt\\anaconda3\\envs\\dsi\\lib\\site-packages\\sklearn\\linear_model\\_coordinate_descent.py:525: ConvergenceWarning: Objective did not converge. You might want to increase the number of iterations. Duality gap: 159368989142.21622, tolerance: 451315995.887229\n",
      "  model = cd_fast.enet_coordinate_descent_gram(\n",
      "C:\\Users\\tonyt\\anaconda3\\envs\\dsi\\lib\\site-packages\\sklearn\\linear_model\\_coordinate_descent.py:525: ConvergenceWarning: Objective did not converge. You might want to increase the number of iterations. Duality gap: 159368545729.25385, tolerance: 451315995.887229\n",
      "  model = cd_fast.enet_coordinate_descent_gram(\n",
      "C:\\Users\\tonyt\\anaconda3\\envs\\dsi\\lib\\site-packages\\sklearn\\linear_model\\_coordinate_descent.py:525: ConvergenceWarning: Objective did not converge. You might want to increase the number of iterations. Duality gap: 159368110292.6616, tolerance: 451315995.887229\n",
      "  model = cd_fast.enet_coordinate_descent_gram(\n",
      "C:\\Users\\tonyt\\anaconda3\\envs\\dsi\\lib\\site-packages\\sklearn\\linear_model\\_coordinate_descent.py:525: ConvergenceWarning: Objective did not converge. You might want to increase the number of iterations. Duality gap: 159367751624.66495, tolerance: 451315995.887229\n",
      "  model = cd_fast.enet_coordinate_descent_gram(\n",
      "C:\\Users\\tonyt\\anaconda3\\envs\\dsi\\lib\\site-packages\\sklearn\\linear_model\\_coordinate_descent.py:525: ConvergenceWarning: Objective did not converge. You might want to increase the number of iterations. Duality gap: 159367411382.29742, tolerance: 451315995.887229\n",
      "  model = cd_fast.enet_coordinate_descent_gram(\n",
      "C:\\Users\\tonyt\\anaconda3\\envs\\dsi\\lib\\site-packages\\sklearn\\linear_model\\_coordinate_descent.py:525: ConvergenceWarning: Objective did not converge. You might want to increase the number of iterations. Duality gap: 159367044011.66885, tolerance: 451315995.887229\n",
      "  model = cd_fast.enet_coordinate_descent_gram(\n",
      "C:\\Users\\tonyt\\anaconda3\\envs\\dsi\\lib\\site-packages\\sklearn\\linear_model\\_coordinate_descent.py:525: ConvergenceWarning: Objective did not converge. You might want to increase the number of iterations. Duality gap: 159366745516.81683, tolerance: 451315995.887229\n",
      "  model = cd_fast.enet_coordinate_descent_gram(\n",
      "C:\\Users\\tonyt\\anaconda3\\envs\\dsi\\lib\\site-packages\\sklearn\\linear_model\\_coordinate_descent.py:525: ConvergenceWarning: Objective did not converge. You might want to increase the number of iterations. Duality gap: 159366421009.47928, tolerance: 451315995.887229\n",
      "  model = cd_fast.enet_coordinate_descent_gram(\n",
      "C:\\Users\\tonyt\\anaconda3\\envs\\dsi\\lib\\site-packages\\sklearn\\linear_model\\_coordinate_descent.py:525: ConvergenceWarning: Objective did not converge. You might want to increase the number of iterations. Duality gap: 159366172487.57126, tolerance: 451315995.887229\n",
      "  model = cd_fast.enet_coordinate_descent_gram(\n",
      "C:\\Users\\tonyt\\anaconda3\\envs\\dsi\\lib\\site-packages\\sklearn\\linear_model\\_coordinate_descent.py:525: ConvergenceWarning: Objective did not converge. You might want to increase the number of iterations. Duality gap: 159365977741.69327, tolerance: 451315995.887229\n",
      "  model = cd_fast.enet_coordinate_descent_gram(\n",
      "C:\\Users\\tonyt\\anaconda3\\envs\\dsi\\lib\\site-packages\\sklearn\\linear_model\\_coordinate_descent.py:525: ConvergenceWarning: Objective did not converge. You might want to increase the number of iterations. Duality gap: 159365621489.4902, tolerance: 451315995.887229\n",
      "  model = cd_fast.enet_coordinate_descent_gram(\n",
      "C:\\Users\\tonyt\\anaconda3\\envs\\dsi\\lib\\site-packages\\sklearn\\linear_model\\_coordinate_descent.py:525: ConvergenceWarning: Objective did not converge. You might want to increase the number of iterations. Duality gap: 159365447659.53806, tolerance: 451315995.887229\n",
      "  model = cd_fast.enet_coordinate_descent_gram(\n",
      "C:\\Users\\tonyt\\anaconda3\\envs\\dsi\\lib\\site-packages\\sklearn\\linear_model\\_coordinate_descent.py:525: ConvergenceWarning: Objective did not converge. You might want to increase the number of iterations. Duality gap: 159365257677.20544, tolerance: 451315995.887229\n",
      "  model = cd_fast.enet_coordinate_descent_gram(\n",
      "C:\\Users\\tonyt\\anaconda3\\envs\\dsi\\lib\\site-packages\\sklearn\\linear_model\\_coordinate_descent.py:525: ConvergenceWarning: Objective did not converge. You might want to increase the number of iterations. Duality gap: 159365118434.46054, tolerance: 451315995.887229\n",
      "  model = cd_fast.enet_coordinate_descent_gram(\n",
      "C:\\Users\\tonyt\\anaconda3\\envs\\dsi\\lib\\site-packages\\sklearn\\linear_model\\_coordinate_descent.py:525: ConvergenceWarning: Objective did not converge. You might want to increase the number of iterations. Duality gap: 159364828238.5915, tolerance: 451315995.887229\n",
      "  model = cd_fast.enet_coordinate_descent_gram(\n",
      "C:\\Users\\tonyt\\anaconda3\\envs\\dsi\\lib\\site-packages\\sklearn\\linear_model\\_coordinate_descent.py:525: ConvergenceWarning: Objective did not converge. You might want to increase the number of iterations. Duality gap: 159364648725.643, tolerance: 451315995.887229\n",
      "  model = cd_fast.enet_coordinate_descent_gram(\n",
      "C:\\Users\\tonyt\\anaconda3\\envs\\dsi\\lib\\site-packages\\sklearn\\linear_model\\_coordinate_descent.py:525: ConvergenceWarning: Objective did not converge. You might want to increase the number of iterations. Duality gap: 159364551852.2196, tolerance: 451315995.887229\n",
      "  model = cd_fast.enet_coordinate_descent_gram(\n",
      "C:\\Users\\tonyt\\anaconda3\\envs\\dsi\\lib\\site-packages\\sklearn\\linear_model\\_coordinate_descent.py:525: ConvergenceWarning: Objective did not converge. You might want to increase the number of iterations. Duality gap: 159364454875.848, tolerance: 451315995.887229\n",
      "  model = cd_fast.enet_coordinate_descent_gram(\n",
      "C:\\Users\\tonyt\\anaconda3\\envs\\dsi\\lib\\site-packages\\sklearn\\linear_model\\_coordinate_descent.py:525: ConvergenceWarning: Objective did not converge. You might want to increase the number of iterations. Duality gap: 159364254393.0878, tolerance: 451315995.887229\n",
      "  model = cd_fast.enet_coordinate_descent_gram(\n"
     ]
    },
    {
     "name": "stderr",
     "output_type": "stream",
     "text": [
      "C:\\Users\\tonyt\\anaconda3\\envs\\dsi\\lib\\site-packages\\sklearn\\linear_model\\_coordinate_descent.py:525: ConvergenceWarning: Objective did not converge. You might want to increase the number of iterations. Duality gap: 159364214869.3439, tolerance: 451315995.887229\n",
      "  model = cd_fast.enet_coordinate_descent_gram(\n",
      "C:\\Users\\tonyt\\anaconda3\\envs\\dsi\\lib\\site-packages\\sklearn\\linear_model\\_coordinate_descent.py:525: ConvergenceWarning: Objective did not converge. You might want to increase the number of iterations. Duality gap: 159364019549.29297, tolerance: 451315995.887229\n",
      "  model = cd_fast.enet_coordinate_descent_gram(\n",
      "C:\\Users\\tonyt\\anaconda3\\envs\\dsi\\lib\\site-packages\\sklearn\\linear_model\\_coordinate_descent.py:525: ConvergenceWarning: Objective did not converge. You might want to increase the number of iterations. Duality gap: 159363927249.9729, tolerance: 451315995.887229\n",
      "  model = cd_fast.enet_coordinate_descent_gram(\n",
      "C:\\Users\\tonyt\\anaconda3\\envs\\dsi\\lib\\site-packages\\sklearn\\linear_model\\_coordinate_descent.py:525: ConvergenceWarning: Objective did not converge. You might want to increase the number of iterations. Duality gap: 159363886007.3708, tolerance: 451315995.887229\n",
      "  model = cd_fast.enet_coordinate_descent_gram(\n",
      "C:\\Users\\tonyt\\anaconda3\\envs\\dsi\\lib\\site-packages\\sklearn\\linear_model\\_coordinate_descent.py:525: ConvergenceWarning: Objective did not converge. You might want to increase the number of iterations. Duality gap: 159363862606.78134, tolerance: 451315995.887229\n",
      "  model = cd_fast.enet_coordinate_descent_gram(\n",
      "C:\\Users\\tonyt\\anaconda3\\envs\\dsi\\lib\\site-packages\\sklearn\\linear_model\\_coordinate_descent.py:525: ConvergenceWarning: Objective did not converge. You might want to increase the number of iterations. Duality gap: 159363699953.6255, tolerance: 451315995.887229\n",
      "  model = cd_fast.enet_coordinate_descent_gram(\n",
      "C:\\Users\\tonyt\\anaconda3\\envs\\dsi\\lib\\site-packages\\sklearn\\linear_model\\_coordinate_descent.py:525: ConvergenceWarning: Objective did not converge. You might want to increase the number of iterations. Duality gap: 159363614421.43372, tolerance: 451315995.887229\n",
      "  model = cd_fast.enet_coordinate_descent_gram(\n",
      "C:\\Users\\tonyt\\anaconda3\\envs\\dsi\\lib\\site-packages\\sklearn\\linear_model\\_coordinate_descent.py:525: ConvergenceWarning: Objective did not converge. You might want to increase the number of iterations. Duality gap: 159363416859.8851, tolerance: 451315995.887229\n",
      "  model = cd_fast.enet_coordinate_descent_gram(\n",
      "C:\\Users\\tonyt\\anaconda3\\envs\\dsi\\lib\\site-packages\\sklearn\\linear_model\\_coordinate_descent.py:525: ConvergenceWarning: Objective did not converge. You might want to increase the number of iterations. Duality gap: 159363443119.74097, tolerance: 451315995.887229\n",
      "  model = cd_fast.enet_coordinate_descent_gram(\n",
      "C:\\Users\\tonyt\\anaconda3\\envs\\dsi\\lib\\site-packages\\sklearn\\linear_model\\_coordinate_descent.py:525: ConvergenceWarning: Objective did not converge. You might want to increase the number of iterations. Duality gap: 159363321954.90878, tolerance: 451315995.887229\n",
      "  model = cd_fast.enet_coordinate_descent_gram(\n",
      "C:\\Users\\tonyt\\anaconda3\\envs\\dsi\\lib\\site-packages\\sklearn\\linear_model\\_coordinate_descent.py:525: ConvergenceWarning: Objective did not converge. You might want to increase the number of iterations. Duality gap: 159363060857.1464, tolerance: 451315995.887229\n",
      "  model = cd_fast.enet_coordinate_descent_gram(\n",
      "C:\\Users\\tonyt\\anaconda3\\envs\\dsi\\lib\\site-packages\\sklearn\\linear_model\\_coordinate_descent.py:525: ConvergenceWarning: Objective did not converge. You might want to increase the number of iterations. Duality gap: 159363400623.72342, tolerance: 451315995.887229\n",
      "  model = cd_fast.enet_coordinate_descent_gram(\n",
      "C:\\Users\\tonyt\\anaconda3\\envs\\dsi\\lib\\site-packages\\sklearn\\linear_model\\_coordinate_descent.py:525: ConvergenceWarning: Objective did not converge. You might want to increase the number of iterations. Duality gap: 159362777269.72968, tolerance: 451315995.887229\n",
      "  model = cd_fast.enet_coordinate_descent_gram(\n",
      "C:\\Users\\tonyt\\anaconda3\\envs\\dsi\\lib\\site-packages\\sklearn\\linear_model\\_coordinate_descent.py:525: ConvergenceWarning: Objective did not converge. You might want to increase the number of iterations. Duality gap: 159362959739.5285, tolerance: 451315995.887229\n",
      "  model = cd_fast.enet_coordinate_descent_gram(\n",
      "C:\\Users\\tonyt\\anaconda3\\envs\\dsi\\lib\\site-packages\\sklearn\\linear_model\\_coordinate_descent.py:529: ConvergenceWarning: Objective did not converge. You might want to increase the number of iterations. Duality gap: 203818409698.63766, tolerance: 559333731.5532598\n",
      "  model = cd_fast.enet_coordinate_descent(\n"
     ]
    }
   ],
   "source": [
    "# Set up a list of Lasso alphas to check.\n",
    "l_alphas = np.logspace(-3, 0, 100)\n",
    "\n",
    "# Cross-validate over our list of Lasso alphas.\n",
    "lasso_cv = LassoCV(alphas=l_alphas, cv=5, max_iter=50000)\n",
    "\n",
    "# Fit model using best ridge alpha!\n",
    "lasso_cv.fit(X_train, y_train);"
   ]
  },
  {
   "cell_type": "code",
   "execution_count": 159,
   "metadata": {},
   "outputs": [
    {
     "data": {
      "text/plain": [
       "1.0"
      ]
     },
     "execution_count": 159,
     "metadata": {},
     "output_type": "execute_result"
    }
   ],
   "source": [
    "lasso_cv.alpha_"
   ]
  },
  {
   "cell_type": "code",
   "execution_count": 160,
   "metadata": {},
   "outputs": [
    {
     "data": {
      "text/plain": [
       "17455.187391281925"
      ]
     },
     "execution_count": 160,
     "metadata": {},
     "output_type": "execute_result"
    }
   ],
   "source": [
    "l_preds = lasso_cv.predict(X_test)\n",
    "metrics.mean_squared_error(y_test,l_preds, squared=False)"
   ]
  },
  {
   "cell_type": "code",
   "execution_count": 161,
   "metadata": {},
   "outputs": [
    {
     "data": {
      "text/plain": [
       "0.9274213423971746"
      ]
     },
     "execution_count": 161,
     "metadata": {},
     "output_type": "execute_result"
    }
   ],
   "source": [
    "lasso_cv.score(X_train,y_train)"
   ]
  },
  {
   "cell_type": "code",
   "execution_count": 162,
   "metadata": {},
   "outputs": [
    {
     "data": {
      "text/plain": [
       "0.918439729795548"
      ]
     },
     "execution_count": 162,
     "metadata": {},
     "output_type": "execute_result"
    }
   ],
   "source": [
    "lasso_cv.score(X_test,y_test)"
   ]
  },
  {
   "cell_type": "code",
   "execution_count": 163,
   "metadata": {},
   "outputs": [
    {
     "data": {
      "text/plain": [
       "Ridge(alpha=1)"
      ]
     },
     "execution_count": 163,
     "metadata": {},
     "output_type": "execute_result"
    }
   ],
   "source": [
    "ridge_model = Ridge(alpha=1)\n",
    "\n",
    "# Fit.\n",
    "ridge_model.fit(X_train_sc, y_train)"
   ]
  },
  {
   "cell_type": "code",
   "execution_count": 164,
   "metadata": {},
   "outputs": [
    {
     "data": {
      "text/plain": [
       "0.9271411711923223"
      ]
     },
     "execution_count": 164,
     "metadata": {},
     "output_type": "execute_result"
    }
   ],
   "source": [
    "ridge_model.score(X_train_sc,y_train)"
   ]
  },
  {
   "cell_type": "code",
   "execution_count": 165,
   "metadata": {},
   "outputs": [
    {
     "data": {
      "text/plain": [
       "17488.565174072188"
      ]
     },
     "execution_count": 165,
     "metadata": {},
     "output_type": "execute_result"
    }
   ],
   "source": [
    "r_preds = ridge_model.predict(X_test_sc)\n",
    "metrics.mean_squared_error(y_test,r_preds, squared=False)"
   ]
  },
  {
   "cell_type": "code",
   "execution_count": 166,
   "metadata": {},
   "outputs": [
    {
     "name": "stderr",
     "output_type": "stream",
     "text": [
      "C:\\Users\\tonyt\\anaconda3\\envs\\dsi\\lib\\site-packages\\sklearn\\linear_model\\_logistic.py:762: ConvergenceWarning: lbfgs failed to converge (status=1):\n",
      "STOP: TOTAL NO. of ITERATIONS REACHED LIMIT.\n",
      "\n",
      "Increase the number of iterations (max_iter) or scale the data as shown in:\n",
      "    https://scikit-learn.org/stable/modules/preprocessing.html\n",
      "Please also refer to the documentation for alternative solver options:\n",
      "    https://scikit-learn.org/stable/modules/linear_model.html#logistic-regression\n",
      "  n_iter_i = _check_optimize_result(\n"
     ]
    },
    {
     "data": {
      "text/plain": [
       "29074.425867327216"
      ]
     },
     "execution_count": 166,
     "metadata": {},
     "output_type": "execute_result"
    }
   ],
   "source": [
    "logreg = LogisticRegression(penalty='none')\n",
    "logreg.fit(X_train_sc, y_train)\n",
    "log_preds = logreg.predict(X_test_sc)\n",
    "metrics.mean_squared_error(y_test,log_preds, squared=False)"
   ]
  },
  {
   "cell_type": "code",
   "execution_count": 167,
   "metadata": {},
   "outputs": [
    {
     "data": {
      "text/html": [
       "<div>\n",
       "<style scoped>\n",
       "    .dataframe tbody tr th:only-of-type {\n",
       "        vertical-align: middle;\n",
       "    }\n",
       "\n",
       "    .dataframe tbody tr th {\n",
       "        vertical-align: top;\n",
       "    }\n",
       "\n",
       "    .dataframe thead th {\n",
       "        text-align: right;\n",
       "    }\n",
       "</style>\n",
       "<table border=\"1\" class=\"dataframe\">\n",
       "  <thead>\n",
       "    <tr style=\"text-align: right;\">\n",
       "      <th></th>\n",
       "      <th>Overall Qual</th>\n",
       "      <th>Gr Liv Area</th>\n",
       "      <th>Garage Area</th>\n",
       "      <th>Garage Cars</th>\n",
       "      <th>Total Bsmt SF</th>\n",
       "      <th>1st Flr SF</th>\n",
       "      <th>Year Built</th>\n",
       "      <th>Garage Yr Blt</th>\n",
       "      <th>Full Bath</th>\n",
       "      <th>Year Remod/Add</th>\n",
       "      <th>...</th>\n",
       "      <th>Quality * Live Area</th>\n",
       "      <th>Garage Area * Cars * Year Built</th>\n",
       "      <th>Lot Frontage * Lot Area</th>\n",
       "      <th>Lot Shape * Lot Area</th>\n",
       "      <th>Overall Qual * Exter Qual</th>\n",
       "      <th>Bsmt Qual * Overall Qual</th>\n",
       "      <th>BsmtFin SF 1 * BsmtFin Type 1</th>\n",
       "      <th>Fireplaces * Fireplace Qu</th>\n",
       "      <th>Bsmt Cond * Bsmt Qual</th>\n",
       "      <th>Central Air * Heating QC</th>\n",
       "    </tr>\n",
       "  </thead>\n",
       "  <tbody>\n",
       "    <tr>\n",
       "      <th>count</th>\n",
       "      <td>1904.000000</td>\n",
       "      <td>1904.000000</td>\n",
       "      <td>1904.000000</td>\n",
       "      <td>1904.000000</td>\n",
       "      <td>1904.00000</td>\n",
       "      <td>1904.000000</td>\n",
       "      <td>1904.000000</td>\n",
       "      <td>1904.000000</td>\n",
       "      <td>1904.000000</td>\n",
       "      <td>1904.000000</td>\n",
       "      <td>...</td>\n",
       "      <td>1904.000000</td>\n",
       "      <td>1.904000e+03</td>\n",
       "      <td>1.904000e+03</td>\n",
       "      <td>1904.000000</td>\n",
       "      <td>1904.000000</td>\n",
       "      <td>1904.000000</td>\n",
       "      <td>1904.000000</td>\n",
       "      <td>1904.000000</td>\n",
       "      <td>1904.000000</td>\n",
       "      <td>1904.000000</td>\n",
       "    </tr>\n",
       "    <tr>\n",
       "      <th>mean</th>\n",
       "      <td>5.995273</td>\n",
       "      <td>1444.896008</td>\n",
       "      <td>454.026088</td>\n",
       "      <td>1.718370</td>\n",
       "      <td>1011.16596</td>\n",
       "      <td>1116.347689</td>\n",
       "      <td>1970.640231</td>\n",
       "      <td>1977.757125</td>\n",
       "      <td>1.552521</td>\n",
       "      <td>1983.519433</td>\n",
       "      <td>...</td>\n",
       "      <td>8966.240021</td>\n",
       "      <td>1.809975e+06</td>\n",
       "      <td>6.583867e+05</td>\n",
       "      <td>32986.432773</td>\n",
       "      <td>20.664916</td>\n",
       "      <td>21.349265</td>\n",
       "      <td>2043.730042</td>\n",
       "      <td>1.845063</td>\n",
       "      <td>10.390231</td>\n",
       "      <td>3.908613</td>\n",
       "    </tr>\n",
       "    <tr>\n",
       "      <th>std</th>\n",
       "      <td>1.329356</td>\n",
       "      <td>432.857767</td>\n",
       "      <td>199.440209</td>\n",
       "      <td>0.735352</td>\n",
       "      <td>380.46564</td>\n",
       "      <td>328.115289</td>\n",
       "      <td>30.185158</td>\n",
       "      <td>24.303934</td>\n",
       "      <td>0.538945</td>\n",
       "      <td>21.079153</td>\n",
       "      <td>...</td>\n",
       "      <td>4046.710008</td>\n",
       "      <td>1.293330e+06</td>\n",
       "      <td>3.487499e+05</td>\n",
       "      <td>12465.398675</td>\n",
       "      <td>7.485920</td>\n",
       "      <td>8.723545</td>\n",
       "      <td>2287.152867</td>\n",
       "      <td>2.170031</td>\n",
       "      <td>2.992288</td>\n",
       "      <td>1.410139</td>\n",
       "    </tr>\n",
       "    <tr>\n",
       "      <th>min</th>\n",
       "      <td>1.000000</td>\n",
       "      <td>334.000000</td>\n",
       "      <td>0.000000</td>\n",
       "      <td>0.000000</td>\n",
       "      <td>0.00000</td>\n",
       "      <td>334.000000</td>\n",
       "      <td>1872.000000</td>\n",
       "      <td>1895.000000</td>\n",
       "      <td>0.000000</td>\n",
       "      <td>1950.000000</td>\n",
       "      <td>...</td>\n",
       "      <td>334.000000</td>\n",
       "      <td>0.000000e+00</td>\n",
       "      <td>3.087000e+04</td>\n",
       "      <td>5200.000000</td>\n",
       "      <td>2.000000</td>\n",
       "      <td>0.000000</td>\n",
       "      <td>0.000000</td>\n",
       "      <td>0.000000</td>\n",
       "      <td>0.000000</td>\n",
       "      <td>0.000000</td>\n",
       "    </tr>\n",
       "    <tr>\n",
       "      <th>25%</th>\n",
       "      <td>5.000000</td>\n",
       "      <td>1112.000000</td>\n",
       "      <td>309.750000</td>\n",
       "      <td>1.000000</td>\n",
       "      <td>780.00000</td>\n",
       "      <td>868.000000</td>\n",
       "      <td>1952.000000</td>\n",
       "      <td>1961.750000</td>\n",
       "      <td>1.000000</td>\n",
       "      <td>1963.000000</td>\n",
       "      <td>...</td>\n",
       "      <td>5788.750000</td>\n",
       "      <td>6.090955e+05</td>\n",
       "      <td>4.467960e+05</td>\n",
       "      <td>25638.000000</td>\n",
       "      <td>15.000000</td>\n",
       "      <td>15.000000</td>\n",
       "      <td>0.000000</td>\n",
       "      <td>0.000000</td>\n",
       "      <td>9.000000</td>\n",
       "      <td>3.000000</td>\n",
       "    </tr>\n",
       "    <tr>\n",
       "      <th>50%</th>\n",
       "      <td>6.000000</td>\n",
       "      <td>1415.000000</td>\n",
       "      <td>470.500000</td>\n",
       "      <td>2.000000</td>\n",
       "      <td>971.00000</td>\n",
       "      <td>1066.000000</td>\n",
       "      <td>1972.000000</td>\n",
       "      <td>1978.707796</td>\n",
       "      <td>2.000000</td>\n",
       "      <td>1992.000000</td>\n",
       "      <td>...</td>\n",
       "      <td>8427.000000</td>\n",
       "      <td>1.852172e+06</td>\n",
       "      <td>6.307540e+05</td>\n",
       "      <td>32802.000000</td>\n",
       "      <td>18.000000</td>\n",
       "      <td>20.000000</td>\n",
       "      <td>1327.500000</td>\n",
       "      <td>0.000000</td>\n",
       "      <td>9.000000</td>\n",
       "      <td>4.000000</td>\n",
       "    </tr>\n",
       "    <tr>\n",
       "      <th>75%</th>\n",
       "      <td>7.000000</td>\n",
       "      <td>1689.000000</td>\n",
       "      <td>572.000000</td>\n",
       "      <td>2.000000</td>\n",
       "      <td>1250.25000</td>\n",
       "      <td>1337.250000</td>\n",
       "      <td>2000.000000</td>\n",
       "      <td>2000.000000</td>\n",
       "      <td>2.000000</td>\n",
       "      <td>2003.000000</td>\n",
       "      <td>...</td>\n",
       "      <td>11389.000000</td>\n",
       "      <td>2.264256e+06</td>\n",
       "      <td>8.401452e+05</td>\n",
       "      <td>39752.000000</td>\n",
       "      <td>28.000000</td>\n",
       "      <td>28.000000</td>\n",
       "      <td>3519.250000</td>\n",
       "      <td>4.000000</td>\n",
       "      <td>12.000000</td>\n",
       "      <td>5.000000</td>\n",
       "    </tr>\n",
       "    <tr>\n",
       "      <th>max</th>\n",
       "      <td>10.000000</td>\n",
       "      <td>2956.000000</td>\n",
       "      <td>1105.000000</td>\n",
       "      <td>4.000000</td>\n",
       "      <td>2171.00000</td>\n",
       "      <td>2196.000000</td>\n",
       "      <td>2010.000000</td>\n",
       "      <td>2010.000000</td>\n",
       "      <td>4.000000</td>\n",
       "      <td>2010.000000</td>\n",
       "      <td>...</td>\n",
       "      <td>27750.000000</td>\n",
       "      <td>8.136000e+06</td>\n",
       "      <td>3.168000e+06</td>\n",
       "      <td>105600.000000</td>\n",
       "      <td>50.000000</td>\n",
       "      <td>50.000000</td>\n",
       "      <td>9714.000000</td>\n",
       "      <td>12.000000</td>\n",
       "      <td>20.000000</td>\n",
       "      <td>5.000000</td>\n",
       "    </tr>\n",
       "  </tbody>\n",
       "</table>\n",
       "<p>8 rows × 89 columns</p>\n",
       "</div>"
      ],
      "text/plain": [
       "       Overall Qual  Gr Liv Area  Garage Area  Garage Cars  Total Bsmt SF  \\\n",
       "count   1904.000000  1904.000000  1904.000000  1904.000000     1904.00000   \n",
       "mean       5.995273  1444.896008   454.026088     1.718370     1011.16596   \n",
       "std        1.329356   432.857767   199.440209     0.735352      380.46564   \n",
       "min        1.000000   334.000000     0.000000     0.000000        0.00000   \n",
       "25%        5.000000  1112.000000   309.750000     1.000000      780.00000   \n",
       "50%        6.000000  1415.000000   470.500000     2.000000      971.00000   \n",
       "75%        7.000000  1689.000000   572.000000     2.000000     1250.25000   \n",
       "max       10.000000  2956.000000  1105.000000     4.000000     2171.00000   \n",
       "\n",
       "        1st Flr SF   Year Built  Garage Yr Blt    Full Bath  Year Remod/Add  \\\n",
       "count  1904.000000  1904.000000    1904.000000  1904.000000     1904.000000   \n",
       "mean   1116.347689  1970.640231    1977.757125     1.552521     1983.519433   \n",
       "std     328.115289    30.185158      24.303934     0.538945       21.079153   \n",
       "min     334.000000  1872.000000    1895.000000     0.000000     1950.000000   \n",
       "25%     868.000000  1952.000000    1961.750000     1.000000     1963.000000   \n",
       "50%    1066.000000  1972.000000    1978.707796     2.000000     1992.000000   \n",
       "75%    1337.250000  2000.000000    2000.000000     2.000000     2003.000000   \n",
       "max    2196.000000  2010.000000    2010.000000     4.000000     2010.000000   \n",
       "\n",
       "       ...  Quality * Live Area  Garage Area * Cars * Year Built  \\\n",
       "count  ...          1904.000000                     1.904000e+03   \n",
       "mean   ...          8966.240021                     1.809975e+06   \n",
       "std    ...          4046.710008                     1.293330e+06   \n",
       "min    ...           334.000000                     0.000000e+00   \n",
       "25%    ...          5788.750000                     6.090955e+05   \n",
       "50%    ...          8427.000000                     1.852172e+06   \n",
       "75%    ...         11389.000000                     2.264256e+06   \n",
       "max    ...         27750.000000                     8.136000e+06   \n",
       "\n",
       "       Lot Frontage * Lot Area  Lot Shape * Lot Area  \\\n",
       "count             1.904000e+03           1904.000000   \n",
       "mean              6.583867e+05          32986.432773   \n",
       "std               3.487499e+05          12465.398675   \n",
       "min               3.087000e+04           5200.000000   \n",
       "25%               4.467960e+05          25638.000000   \n",
       "50%               6.307540e+05          32802.000000   \n",
       "75%               8.401452e+05          39752.000000   \n",
       "max               3.168000e+06         105600.000000   \n",
       "\n",
       "       Overall Qual * Exter Qual  Bsmt Qual * Overall Qual  \\\n",
       "count                1904.000000               1904.000000   \n",
       "mean                   20.664916                 21.349265   \n",
       "std                     7.485920                  8.723545   \n",
       "min                     2.000000                  0.000000   \n",
       "25%                    15.000000                 15.000000   \n",
       "50%                    18.000000                 20.000000   \n",
       "75%                    28.000000                 28.000000   \n",
       "max                    50.000000                 50.000000   \n",
       "\n",
       "       BsmtFin SF 1 * BsmtFin Type 1  Fireplaces * Fireplace Qu  \\\n",
       "count                    1904.000000                1904.000000   \n",
       "mean                     2043.730042                   1.845063   \n",
       "std                      2287.152867                   2.170031   \n",
       "min                         0.000000                   0.000000   \n",
       "25%                         0.000000                   0.000000   \n",
       "50%                      1327.500000                   0.000000   \n",
       "75%                      3519.250000                   4.000000   \n",
       "max                      9714.000000                  12.000000   \n",
       "\n",
       "       Bsmt Cond * Bsmt Qual  Central Air * Heating QC  \n",
       "count            1904.000000               1904.000000  \n",
       "mean               10.390231                  3.908613  \n",
       "std                 2.992288                  1.410139  \n",
       "min                 0.000000                  0.000000  \n",
       "25%                 9.000000                  3.000000  \n",
       "50%                 9.000000                  4.000000  \n",
       "75%                12.000000                  5.000000  \n",
       "max                20.000000                  5.000000  \n",
       "\n",
       "[8 rows x 89 columns]"
      ]
     },
     "execution_count": 167,
     "metadata": {},
     "output_type": "execute_result"
    }
   ],
   "source": [
    "df_good.describe()"
   ]
  },
  {
   "cell_type": "code",
   "execution_count": 467,
   "metadata": {},
   "outputs": [],
   "source": [
    "f_test = [\"Overall Qual\",'Gr Liv Area','Garage Area','Garage Cars','Total Bsmt SF',\n",
    "            '1st Flr SF','Year Built','Garage Yr Blt','Full Bath','Year Remod/Add',\n",
    "            'TotRms AbvGrd','Mas Vnr Area','Fireplaces','BsmtFin SF 1',\n",
    " 'Lot Frontage','Lot Area', 'Lot Shape',\n",
    "'Overall Cond','Mas Vnr Type','Exter Qual','Exter Cond','Bsmt Qual','Bsmt Cond','BsmtFin Type 1',\n",
    "'Heating QC','Central Air','Fireplace Qu','Garage Type','Garage Qual','Garage Cond']\n",
    "\n",
    "\n",
    "test_df  = test_df[f_test]\n",
    "\n",
    "test_df.fillna(test_df.mean(), inplace = True)\n",
    "test_df.fillna('NAP', inplace=True)\n",
    "\n",
    "test_df['Lot Shape'] = test_df['Lot Shape'].replace({'IR1':3, 'IR2':2,'IR3':1,'Reg':4, 'NAP':0})\n",
    "\n",
    "test_df['Exter Qual'] = test_df['Exter Qual'].replace({'Ex':5, 'Gd':4,'TA':3,'Fa':2, 'Po':1, 'NAP':0})\n",
    "\n",
    "test_df['Exter Cond'] = test_df['Exter Cond'].replace({'Ex':5, 'Gd':4,'TA':3,'Fa':2, 'Po':1, 'NAP':0})\n",
    "\n",
    "test_df['Bsmt Qual'] = test_df['Bsmt Qual'].replace({'Ex':5, 'Gd':4,'TA':3,'Fa':2, 'Po':1, 'NAP':0})\n",
    "\n",
    "test_df['Bsmt Cond'] = test_df['Bsmt Cond'].replace({'Ex':5, 'Gd':4,'TA':3,'Fa':2, 'Po':1, 'NAP':0})\n",
    "\n",
    "test_df['BsmtFin Type 1'] = test_df['BsmtFin Type 1'].replace({'GLQ':6, 'ALQ':5,'BLQ':4,'Rec':3, 'LwQ':2, 'Unf':1, 'NAP':0})\n",
    "\n",
    "test_df['Heating QC'] = test_df['Heating QC'].replace({'Ex':5, 'Gd':4,'TA':3,'Fa':2, 'Po':1, 'NAP':0})\n",
    "\n",
    "test_df['Fireplace Qu'] = test_df['Fireplace Qu'].replace({'Ex':5, 'Gd':4,'TA':3,'Fa':2, 'Po':1, 'NAP':0})\n",
    "\n",
    "test_df['Garage Qual'] = test_df['Garage Qual'].replace({'Ex':5, 'Gd':4,'TA':3,'Fa':2, 'Po':1, 'NAP':0})\n",
    "\n",
    "test_df['Garage Cond'] = test_df['Garage Cond'].replace({'Ex':5, 'Gd':4,'TA':3,'Fa':2, 'Po':1, 'NAP':0})\n",
    "\n",
    "\n",
    "\n",
    "test_df = pd.get_dummies(data = test_df, columns= [ 'Mas Vnr Type',\n",
    "                                                    'Central Air', 'Garage Type'],drop_first= True)\n",
    "\n",
    "\n",
    "\n",
    "test_df['Overall Cond * Qual'] = test_df['Overall Qual'] * test_df['Overall Cond']\n",
    "test_df['Garage Area * Cars'] = test_df['Garage Area'] * test_df['Garage Cars']\n",
    "test_df['Live Area * Rooms above ground'] = test_df['Gr Liv Area'] * test_df['TotRms AbvGrd']\n",
    "test_df['Live Area * 1st floor sf'] = test_df['Gr Liv Area'] * test_df['1st Flr SF']\n",
    "test_df['Year built * Year remod/add'] = test_df['Year Built'] * test_df['Year Remod/Add']\n",
    "test_df['Quality * Live Area'] = test_df['Gr Liv Area'] * test_df['Overall Qual']\n",
    "test_df['Garage Qual * Overall Qual'] = test_df['Garage Qual'] * test_df['Overall Qual']\n",
    "test_df['Lot Frontage * Lot Area'] = test_df['Lot Frontage'] * test_df['Lot Area']\n",
    "test_df['Lot Shape * Lot Area'] = test_df['Lot Shape'] * test_df['Lot Area']\n",
    "test_df['Overall Qual * Exter Qual'] = test_df['Overall Qual'] * test_df['Exter Qual']\n",
    "test_df['Bsmt Qual * Overall Qual'] = test_df['Bsmt Qual'] * test_df['Overall Qual']\n",
    "test_df['BsmtFin SF 1 * BsmtFin Type 1'] = test_df['BsmtFin SF 1'] * test_df['BsmtFin Type 1']\n",
    "test_df['Fireplaces * Fireplace Qu'] = test_df['Fireplaces'] * test_df['Fireplace Qu']\n",
    "test_df['Bsmt Cond * Bsmt Qual'] = test_df['Bsmt Cond'] * test_df['Bsmt Qual']\n",
    "test_df['Central Air * Heating QC'] = test_df['Central Air_Y'] * test_df['Heating QC']\n",
    "test_df['TotRms AbvGrd * Full Bath'] = test_df['TotRms AbvGrd'] * test_df['Full Bath']\n",
    "\n",
    "\n",
    "\n"
   ]
  },
  {
   "cell_type": "code",
   "execution_count": 468,
   "metadata": {},
   "outputs": [
    {
     "data": {
      "text/plain": [
       "(878, 55)"
      ]
     },
     "execution_count": 468,
     "metadata": {},
     "output_type": "execute_result"
    }
   ],
   "source": [
    "test_df.shape"
   ]
  },
  {
   "cell_type": "code",
   "execution_count": 469,
   "metadata": {},
   "outputs": [
    {
     "data": {
      "text/plain": [
       "(1895, 55)"
      ]
     },
     "execution_count": 469,
     "metadata": {},
     "output_type": "execute_result"
    }
   ],
   "source": [
    "df_good.shape"
   ]
  },
  {
   "cell_type": "code",
   "execution_count": 470,
   "metadata": {},
   "outputs": [
    {
     "name": "stdout",
     "output_type": "stream",
     "text": [
      "SalePrice\n"
     ]
    }
   ],
   "source": [
    "for i in df_good.columns:\n",
    "    if i not in test_df.columns:\n",
    "        print(i)"
   ]
  },
  {
   "cell_type": "code",
   "execution_count": 471,
   "metadata": {
    "scrolled": true
   },
   "outputs": [
    {
     "name": "stdout",
     "output_type": "stream",
     "text": [
      "Mas Vnr Type_CBlock\n"
     ]
    }
   ],
   "source": [
    "for i in test_df.columns:\n",
    "    if i not in df_good.columns:\n",
    "        print(i)"
   ]
  },
  {
   "cell_type": "code",
   "execution_count": 472,
   "metadata": {},
   "outputs": [],
   "source": [
    "test_df.drop(columns = ['Mas Vnr Type_CBlock'], inplace=True)"
   ]
  },
  {
   "cell_type": "code",
   "execution_count": 473,
   "metadata": {},
   "outputs": [],
   "source": [
    "lr = LinearRegression()\n",
    "X = df_good.drop(columns = ['SalePrice'])\n",
    "y = df_good['SalePrice']\n",
    "\n",
    "X_train,X_test,y_train,y_test = train_test_split(X,y, random_state = 42)\n",
    "\n",
    "lr.fit(X_train,y_train)\n",
    "\n",
    "sc = StandardScaler()\n",
    "X_train_sc = sc.fit_transform(X_train)\n",
    "X_test_sc = sc.transform(X_test)\n",
    "\n",
    "knn = KNeighborsRegressor()\n",
    "knn.fit(X_train_sc,y_train)\n",
    "\n",
    "ridge_model = Ridge(alpha=1.55)\n",
    "\n",
    "ridge_model.fit(X_train, y_train)\n",
    "\n",
    "\n",
    "sc = StandardScaler()\n",
    "test_X = test_df\n",
    "test_X_sc = sc.fit_transform(test_X)\n",
    "\n",
    "\n",
    "\n",
    "preds = ridge_model.predict(test_X)\n",
    "pred = lr.predict(X_test)\n",
    "pred2 = ridge_model.predict(X_test)\n",
    "predk = knn.predict(X_test)\n"
   ]
  },
  {
   "cell_type": "code",
   "execution_count": 474,
   "metadata": {},
   "outputs": [],
   "source": [
    "ridge_model = Ridge(alpha=1.55)\n",
    "\n",
    "ridge_model.fit(X_train, y_train)\n",
    "\n",
    "preds = ridge_model.predict(test_X)\n",
    "\n",
    "pred2 = ridge_model.predict(X_test)"
   ]
  },
  {
   "cell_type": "code",
   "execution_count": 475,
   "metadata": {},
   "outputs": [],
   "source": [
    "prediction_csv = pd.DataFrame({'Id': index , 'SalePrice': preds}).to_csv('test_preds.csv', index = False)"
   ]
  },
  {
   "cell_type": "code",
   "execution_count": 476,
   "metadata": {},
   "outputs": [
    {
     "data": {
      "text/plain": [
       "18498.13850700561"
      ]
     },
     "execution_count": 476,
     "metadata": {},
     "output_type": "execute_result"
    }
   ],
   "source": [
    "metrics.mean_squared_error(y_test,pred2, squared=False)"
   ]
  },
  {
   "cell_type": "code",
   "execution_count": 477,
   "metadata": {},
   "outputs": [
    {
     "data": {
      "text/plain": [
       "0.9073203171118507"
      ]
     },
     "execution_count": 477,
     "metadata": {},
     "output_type": "execute_result"
    }
   ],
   "source": [
    "cross_val_score(ridge_model,X_train,y_train).mean()"
   ]
  },
  {
   "cell_type": "code",
   "execution_count": 478,
   "metadata": {},
   "outputs": [],
   "source": [
    "\n",
    "\n",
    "predc = cross_val_predict(ridge_model,X_test,y_test)"
   ]
  },
  {
   "cell_type": "code",
   "execution_count": 480,
   "metadata": {},
   "outputs": [
    {
     "data": {
      "text/plain": [
       "19955.14663337965"
      ]
     },
     "execution_count": 480,
     "metadata": {},
     "output_type": "execute_result"
    }
   ],
   "source": [
    "metrics.mean_squared_error(y_test,predc, squared=False)"
   ]
  },
  {
   "cell_type": "code",
   "execution_count": null,
   "metadata": {},
   "outputs": [],
   "source": []
  },
  {
   "cell_type": "code",
   "execution_count": null,
   "metadata": {},
   "outputs": [],
   "source": []
  }
 ],
 "metadata": {
  "kernelspec": {
   "display_name": "Python 3",
   "language": "python",
   "name": "python3"
  },
  "language_info": {
   "codemirror_mode": {
    "name": "ipython",
    "version": 3
   },
   "file_extension": ".py",
   "mimetype": "text/x-python",
   "name": "python",
   "nbconvert_exporter": "python",
   "pygments_lexer": "ipython3",
   "version": "3.8.5"
  }
 },
 "nbformat": 4,
 "nbformat_minor": 4
}
